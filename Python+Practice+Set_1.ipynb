{
 "cells": [
  {
   "cell_type": "markdown",
   "metadata": {},
   "source": [
    "**1. What is Python, and why is it widely used in the industry?**\n",
    "\n",
    "Python is a high-level, interpreted programming language known for its simplicity and readability. It's widely used in the industry due to its versatility, extensive standard library, and strong community support. Python is used in various domains, including web development, data science, machine learning, artificial intelligence, automation, and more."
   ]
  },
  {
   "cell_type": "markdown",
   "metadata": {},
   "source": [
    "**2. What are the advantages of using Python over other programming languages?**\n",
    "\n",
    "Python offers several advantages, including simplicity and readability of code, extensive standard library, cross-platform compatibility, strong community support, vast ecosystem of third-party libraries, scalability, and versatility for various domains and applications."
   ]
  },
  {
   "cell_type": "markdown",
   "metadata": {},
   "source": [
    "**3. Discuss the differences between lists and tuples in Python.**\n",
    "\n",
    "Lists and tuples are both sequences in Python, but lists are mutable (can be modified after creation) while tuples are immutable (cannot be modified after creation). Lists are defined with square brackets [], and tuples are defined with parentheses (). Lists are typically used for collections of homogeneous items, while tuples are used for heterogeneous collections and to represent fixed-size collections."
   ]
  },
  {
   "cell_type": "markdown",
   "metadata": {},
   "source": [
    "**4. How does Python manage memory?**\n",
    "\n",
    "Python uses automatic memory management through a mechanism called garbage collection. It dynamically allocates memory for objects and automatically reclaims memory occupied by objects that are no longer in use through reference counting and cyclic garbage collection."
   ]
  },
  {
   "cell_type": "markdown",
   "metadata": {},
   "source": [
    "**5. Explain the concept of Python decorators.**\n",
    "\n",
    "Decorators are functions that modify the behavior of other functions or methods. They allow you to add functionality to existing functions without modifying their code directly. Decorators are typically used for tasks such as logging, authentication, caching, and performance monitoring."
   ]
  },
  {
   "cell_type": "markdown",
   "metadata": {},
   "source": [
    "**6. What is the difference between `__str__` and `__repr__` in Python?**\n",
    "\n",
    "\n",
    "> `__str__` and __repr__ are special methods used to represent objects as strings. `__str__` is called by the str() function and used for creating informal string representations of objects, while `__repr__` is called by the repr() function and used for creating formal string representations of objects that should ideally be valid Python expressions."
   ]
  },
  {
   "cell_type": "markdown",
   "metadata": {},
   "source": [
    "**7. How do you handle exceptions in Python?**\n",
    "\n",
    "Exceptions in Python are handled using **try**, **except**, and optionally **finally** blocks. Code that may raise exceptions is placed inside a **try** block, and corresponding **exception** handling code is placed inside except blocks. The **finally** block is executed regardless of whether an exception occurs or not."
   ]
  },
  {
   "cell_type": "markdown",
   "metadata": {},
   "source": [
    "**8. What is the purpose of `__init__.`py in Python?**\n",
    "\n",
    "\n",
    ">**`__init__.`py** is a special file used to mark directories on disk as Python package directories. It can be empty or contain initialization code that is executed when the package is imported. It allows you to organize Python code into packages and subpackages."
   ]
  },
  {
   "cell_type": "markdown",
   "metadata": {},
   "source": [
    "**9. What is the difference between .py and .pyc files?**\n",
    "\n",
    "The .py files are the python source code files. While the .pyc files contain the bytecode of the python files. .pyc files are created when the code is imported from some other source. The interpreter converts the source .py files to .pyc files which helps by saving time. "
   ]
  },
  {
   "cell_type": "markdown",
   "metadata": {},
   "source": [
    "**10. Discuss the difference between shallow copy and deep copy in Python.**\n",
    "\n",
    "Shallow copy and deep copy are two ways to copy objects in Python. Shallow copy creates a new object but does not recursively copy the nested objects. Changes to nested objects in the copied object will reflect in the original object. Deep copy, on the other hand, creates a completely independent copy of the original object, including all nested objects."
   ]
  },
  {
   "cell_type": "markdown",
   "metadata": {},
   "source": [
    "**11. How does garbage collection work in Python?**\n",
    "\n",
    "Python's garbage collector automatically reclaims memory occupied by objects that are no longer in use. It uses reference counting to track the number of references to an object and cyclic garbage collection to detect and remove cyclic references between objects."
   ]
  },
  {
   "cell_type": "markdown",
   "metadata": {},
   "source": [
    "**12. Explain the purpose of the yield keyword in Python.**\n",
    "\n",
    "The yield keyword is used in Python to create generator functions or generator expressions. It allows you to pause the execution of a function and yield a value to the caller without losing the function's state. Generators are iterators that produce values lazily, one at a time, allowing for efficient memory usage."
   ]
  },
  {
   "cell_type": "markdown",
   "metadata": {},
   "source": [
    "**13. What is the difference between '==' and 'is' in Python?**\n",
    "\n",
    "In Python, '==' is used to compare the values of two objects, while 'is' is used to compare the identities of two objects (i.e., whether they refer to the same object in memory). '==' checks for equality of values, while 'is' checks for identity."
   ]
  },
  {
   "cell_type": "markdown",
   "metadata": {},
   "source": [
    "**14. How do you handle file I/O operations in Python?**\n",
    "\n",
    "File I/O operations in Python are typically handled using the 'open()' function to open files in different modes (read, write, append), and then using methods like 'read()', 'write()', 'close()', 'seek()', and 'tell()' to perform various operations on files."
   ]
  },
  {
   "cell_type": "markdown",
   "metadata": {},
   "source": [
    "**15. Discuss the use of the map() and filter() functions in Python.**\n",
    "\n",
    "The 'map()' function in Python is used to apply a given function to each item of an iterable (e.g., list) and return a new iterable containing the results. The 'filter()' function is used to filter elements of an iterable based on a given function (predicate) and return a new iterable containing only the elements that satisfy the condition."
   ]
  },
  {
   "cell_type": "markdown",
   "metadata": {},
   "source": [
    "**16. What are *args and *kwargs?**"
   ]
  },
  {
   "cell_type": "markdown",
   "metadata": {},
   "source": [
    "> To pass a variable number of arguments to a function in Python, use the special syntax `*args` and `**kwargs` in the function specification. It is used to pass a variable-length, keyword-free argument list. By using the *, the variable we associate with the * becomes iterable, allowing you to do operations on it such as iterating over it and using higher-order operations like map and filter.\n",
    "\n",
    "> `*args` allows you to pass a variable number of positional arguments to a function, while `**kwargs` allows you to pass a variable number of keyword arguments."
   ]
  },
  {
   "cell_type": "code",
   "execution_count": 12,
   "metadata": {},
   "outputs": [
    {
     "name": "stdout",
     "output_type": "stream",
     "text": [
      "1\n",
      "2\n",
      "3\n",
      "a = 4\n",
      "b = 5\n"
     ]
    }
   ],
   "source": [
    "def function_example(*args, **kwargs):\n",
    "    for arg in args:\n",
    "        print(arg)\n",
    "    for key, value in kwargs.items():\n",
    "        print(f\"{key} = {value}\")\n",
    "\n",
    "function_example(1, 2, 3, a=4, b=5)"
   ]
  },
  {
   "cell_type": "markdown",
   "metadata": {},
   "source": [
    "**17. What is Scope in Python?**\n",
    "\n",
    "The location where we can find a variable and also access it if required is called the scope of a variable.\n",
    "\n",
    "- **Python Local variable:** Local variables are those that are initialized within a function and are unique to that function. It cannot be accessed outside of the function.\n",
    "\n",
    "- **Python Global variables:** Global variables are the ones that are defined and declared outside any function and are not specified to any function.\n",
    "\n",
    "- **Module-level scope:** It refers to the global objects of the current module accessible in the program.\n",
    "\n",
    "- **Outermost scope:** It refers to any built-in names that the program can call. The name referenced is located last among the objects in this scope."
   ]
  },
  {
   "cell_type": "markdown",
   "metadata": {},
   "source": [
    "**18. What is docstring in Python?**\n",
    "\n",
    "Python documentation strings (or docstrings) provide a convenient way of associating documentation with Python modules, functions, classes, and methods.\n",
    "\n",
    "- **Declaring Docstrings:** The docstrings are declared using ”’triple single quotes”’ or “””triple double quotes””” just below the class, method, or function declaration. All functions should have a docstring.\n",
    "\n",
    "- **Accessing Docstrings:** The docstrings can be accessed using the --doc-- method of the object or using the help function."
   ]
  },
  {
   "cell_type": "markdown",
   "metadata": {},
   "source": [
    "**19. What is a break, continue, and pass in Python?**\n",
    "\n",
    "- The **break statement** is used to terminate the loop or statement in which it is present. After that, the control will pass to the statements that are present after the break statement, if available.\n",
    "\n",
    "- **Continue** is also a loop control statement just like the break statement. continue statement is opposite to that of the break statement, instead of terminating the loop, it forces to execute the next iteration of the loop.\n",
    "\n",
    "- **Pass** means performing no operation or in other words, it is a placeholder in the compound statement, where there should be a blank left and nothing has to be written there."
   ]
  },
  {
   "cell_type": "markdown",
   "metadata": {},
   "source": [
    "**20. What is the difference between xrange and range functions?**\n",
    "\n",
    "range() and xrange() are two functions that could be used to iterate a certain number of times in for loops in Python. In Python 3, there is no xrange, but the range function behaves like xrange in Python 2.\n",
    "\n",
    "- **range()** – This returns a list of numbers created using the range() function.\n",
    "\n",
    "- **xrange()** – This function returns the generator object that can be used to display numbers only by looping. The only particular range is displayed on demand and hence called lazy evaluation."
   ]
  },
  {
   "cell_type": "markdown",
   "metadata": {},
   "source": [
    "**21. Differentiate between List and Tuple?**\n",
    "\n",
    "Let’s analyze the differences between List and Tuple:\n",
    "\n",
    "**List**\n",
    "\n",
    "- Lists are Mutable datatype.\n",
    "- Lists consume more memory\n",
    "- The list is better for performing operations, such as insertion and deletion.\n",
    "- The implication of iterations is Time-consuming\n",
    "\n",
    "**Tuple**\n",
    "\n",
    "- Tuples are Immutable datatype.\n",
    "- Tuple consumes less memory as compared to the list\n",
    "- A Tuple data type is appropriate for accessing the elements\n",
    "- The implication of iterations is comparatively Faster"
   ]
  },
  {
   "cell_type": "markdown",
   "metadata": {},
   "source": [
    "**22. What are Iterators in Python?**\n",
    "\n",
    "In Python, iterators are used to iterate a group of elements, containers like a list. Iterators are collections of items, and they can be a list, tuples, or a dictionary. Python iterator implements __itr__ and the next() method to iterate the stored elements. We generally use loops to iterate over the collections (list, tuple) in Python."
   ]
  },
  {
   "cell_type": "markdown",
   "metadata": {},
   "source": [
    "**23. What are Generators in Python?**\n",
    "\n",
    "In Python, the generator is a way that specifies how to implement iterators. It is a normal function except that it yields expression in the function. It does not implement `__itr__` and next() method and reduces other overheads as well.\n",
    "\n",
    "If a function contains at least a yield statement, it becomes a generator. The yield keyword pauses the current execution by saving its states and then resumes from the same when required."
   ]
  },
  {
   "cell_type": "markdown",
   "metadata": {},
   "source": [
    "**24. Which is faster, Python list or Numpy arrays, and why?**\n",
    "\n",
    "NumPy arrays are faster than Python lists for numerical operations.\n",
    "\n",
    "NumPy is an open-source library for working with arrays in Python, and it provides a number of functions for performing operations on arrays efficiently.\n",
    "\n",
    "NumPy arrays outpace Python lists due to their implementation in C, whereas Python lists are implemented in Python. This signifies that operations on NumPy arrays occur in a compiled language, rendering them quicker than operations on Python lists, which occur in an interpreted language\n",
    "\n",
    "Python also has an inbuilt array library for basic operations. W can use it as ‘import array as arr’"
   ]
  },
  {
   "cell_type": "markdown",
   "metadata": {},
   "source": [
    "**25. What are Python sets? Explain some of the properties of sets.**\n",
    "\n",
    "In Python, a set is an unordered collection of unique objects. Sets are often used to store a collection of distinct objects and to perform membership tests (i.e., to check if an object is in the set). Sets are defined using curly braces ({ and }) and a comma-separated list of values.\n",
    "\n",
    "**Here are some key properties of sets in Python:**\n",
    "\n",
    "- **Sets are unordered:** Sets do not have a specific order, so you cannot index or slice them like you can with lists or tuples.\n",
    "\n",
    "- **Sets are unique:** Sets only allow unique objects, so if you try to add a duplicate object to a set, it will not be added.\n",
    "\n",
    "- **Sets are mutable:** You can add or remove elements from a set using the add and remove methods.\n",
    "\n",
    "- **Sets are not indexed:** Sets do not support indexing or slicing, so you cannot access individual elements of a set using an index.\n",
    "\n",
    "- **Sets are not hashable:** Sets are mutable, so they cannot be used as keys in dictionaries or as elements in other sets. If you need to use a mutable object as a key or an element in a set, you can use a tuple or a frozen set (an immutable version of a set)."
   ]
  },
  {
   "cell_type": "markdown",
   "metadata": {},
   "source": [
    "**26. What is the difference between split and join?**\n",
    "\n",
    "- Split and join are both functions of Python strings, but they are completely different when it comes to functioning.\n",
    "\n",
    "> The split function is used to create a list from strings based on some delimiter\n",
    "\n",
    "- The join() method is a built-in function of Python’s str class that concatenates a list of strings into a single string. It is called on a delimiter string and invoked with a list of strings to be joined. The delimiter string is inserted between each string in the list when the strings are concatenated."
   ]
  },
  {
   "cell_type": "markdown",
   "metadata": {},
   "source": [
    "**27. What are immutable and mutable data types?**\n",
    "\n",
    "In Python, an immutable object is an object whose state cannot be modified after it is created. This means that you can’t change the value of an immutable object once it is created. Examples of immutable objects in Python include numbers (such as integers, floats, and complex numbers), strings, and tuples.\n",
    "\n",
    "On the other hand, a mutable object is an object whose state can be modified after it is created. This means that you can change the value of a mutable object after it is created. Examples of mutable objects in Python include lists and dictionaries.\n",
    "\n",
    "Understanding the difference between immutable and mutable objects in Python is important because it can affect how you use and manipulate data in your code. For example, if you have a list of numbers and you want to sort the list in ascending order, you can use the built-in sort() method to do this. However, if you have a tuple of numbers, you can’t use the sort() method because tuples are immutable. Instead, you would have to create a new sorted tuple from the original tuple."
   ]
  },
  {
   "cell_type": "markdown",
   "metadata": {},
   "source": [
    "**28. Explain list comprehension and dict comprehension.**\n",
    "\n",
    "List comprehension and dict comprehension are both concise ways to create new lists or dictionaries from existing iterables.\n",
    "\n",
    "**List comprehension** is a concise way to create a list. It consists of square brackets containing an expression followed by a for clause, then zero or more for or if clauses. The result is a new list that evaluates the expression in the context of the for and if clauses.\n",
    "\n",
    "**Dict comprehension** is a concise way to create a dictionary. It consists of curly braces containing a key-value pair, followed by a for clause, then zero or more for or if clauses. A result is a new dictionary that evaluates the key-value pair in the context of the for and if clauses."
   ]
  },
  {
   "cell_type": "markdown",
   "metadata": {},
   "source": [
    "**29. What are lambda functions in Python, and why are they important?**\n",
    "\n",
    "Python supports the lambda function, which is a small anonymous function. You can use lambda functions when you don’t want to define a function using the def keyword.\n",
    "\n",
    "Lambda functions are useful when you need a small function for a short period of time. They are often used in combination with higher-order functions, such as map(), filter(), and reduce()."
   ]
  },
  {
   "cell_type": "markdown",
   "metadata": {},
   "source": [
    "**30. What is the use of self in Python?**\n",
    "\n",
    "Self is used to represent the instance of the class. With this, we can access the attributes and methods of the class with an object. It binds the attributes of the object with the given arguments. Self is not a keyword. We can also use any other non-keyword though it is better to follow convention."
   ]
  },
  {
   "cell_type": "markdown",
   "metadata": {},
   "source": [
    "**31. What is the purpose of the `__call__` method in Python?**\n",
    "\n",
    "> The `__call__` method is a special method in Python that allows an object to be called as a function. When an object is called as a function, the `__call__` method is executed. This can be useful for creating objects that behave like functions, such as decorators or function factories."
   ]
  },
  {
   "cell_type": "markdown",
   "metadata": {},
   "source": [
    "**32. Write a program in Python to find the largest and second-largest element in an array using Python?**"
   ]
  },
  {
   "cell_type": "code",
   "execution_count": 1,
   "metadata": {},
   "outputs": [
    {
     "data": {
      "text/plain": [
       "(78, 10)"
      ]
     },
     "execution_count": 1,
     "metadata": {},
     "output_type": "execute_result"
    }
   ],
   "source": [
    "a = [4,2,4,2,1,6,7,78,3,2,8,0,10]\n",
    " \n",
    "def sol(x):\n",
    "    x = sorted(x)\n",
    "    lar = x[-1]\n",
    "    lar2 = x[-2]\n",
    "   \n",
    "    return lar, lar2\n",
    " \n",
    "sol(a)"
   ]
  },
  {
   "cell_type": "markdown",
   "metadata": {},
   "source": [
    "**33. Create a Python program that will print the highest sequence of 1s in an array with 0s and 1s?**"
   ]
  },
  {
   "cell_type": "code",
   "execution_count": 2,
   "metadata": {},
   "outputs": [
    {
     "name": "stdout",
     "output_type": "stream",
     "text": [
      "3\n"
     ]
    }
   ],
   "source": [
    "a = [1,1,0,1,1,1]\n",
    " \n",
    "count = 0\n",
    "for i in range(0,len(a)):\n",
    "    if a[i] == 1:\n",
    "        count += 1\n",
    "    else:\n",
    "        count = 0\n",
    "\n",
    "print(count)"
   ]
  },
  {
   "cell_type": "markdown",
   "metadata": {},
   "source": [
    "**34.write a list comprehension that will print the sum of even numbers.**\n",
    "\n",
    "> We will use the following logic to print the sum of even numbers:\n",
    "\n",
    "- If the number, when divided by 2 gives the remainder as zero, it is an even number. \n",
    "- We have to identify the even numbers in the given array.\n",
    "- Print the sum of even numbers."
   ]
  },
  {
   "cell_type": "code",
   "execution_count": 3,
   "metadata": {},
   "outputs": [
    {
     "name": "stdout",
     "output_type": "stream",
     "text": [
      "30\n"
     ]
    }
   ],
   "source": [
    "sample = [1,2,3,4,5,6,7,8,9,10] \n",
    "print(sum([x for x in sample if x%2 == 0]))"
   ]
  },
  {
   "cell_type": "markdown",
   "metadata": {},
   "source": [
    "**35. Write a program to check even odd numbers using shorthand if else statements.**\n",
    "\n",
    "Before directly jumping onto writing the program, lets understand what is the ultimate goal, the ultimate goal of the program should be checking if a number is odd or even. \n",
    "\n",
    "Let’s first understand even and odd numbers. \n",
    "\n",
    "**When can a number be even?** \n",
    "\n",
    "A number is even when it is divided by two and returns a remainder zero. Now we know that the remainder can be determined with the help of the modulus function (%), which returns the remainder of the division. "
   ]
  },
  {
   "cell_type": "code",
   "execution_count": 5,
   "metadata": {},
   "outputs": [
    {
     "name": "stdout",
     "output_type": "stream",
     "text": [
      "Odd Number\n",
      "Even Number\n"
     ]
    }
   ],
   "source": [
    "def EvenOdd(n):\n",
    "    print(\"Even Number\") if(n%2 == 0) else print(\"Odd Number\")\n",
    " \n",
    "# Calling the Function:\n",
    "EvenOdd(21) # Output: Odd Number\n",
    "EvenOdd(12) # Output: Even Number"
   ]
  },
  {
   "cell_type": "markdown",
   "metadata": {},
   "source": [
    "**36. Write a Python program that will reverse a string without using the slicing operation or reverse() function?**"
   ]
  },
  {
   "cell_type": "code",
   "execution_count": 7,
   "metadata": {},
   "outputs": [
    {
     "data": {
      "text/plain": [
       "'navihS'"
      ]
     },
     "execution_count": 7,
     "metadata": {},
     "output_type": "execute_result"
    }
   ],
   "source": [
    "string = \"Shivan\"\n",
    " \n",
    "def rev(x):\n",
    "  st = \"\"\n",
    "  for i in x:\n",
    "    st = i + st\n",
    "  return st\n",
    " \n",
    "rev(string)"
   ]
  },
  {
   "cell_type": "markdown",
   "metadata": {},
   "source": [
    "**37. What is the difference between modules and libraries?**\n",
    "\n",
    "In Python, modules are like standalone files that house specific code components, such as functions and variables. On the other hand, libraries are essentially vast collections of modules, and they come with pre-built functions and tools tailored for specific tasks or domains. These libraries not only simplify the development process but also enhance Python’s capabilities by providing readily available solutions for various programming challenges."
   ]
  },
  {
   "cell_type": "markdown",
   "metadata": {},
   "source": [
    "**38. How do you handle exceptions in Python?**\n",
    "\n",
    "Using `try` and `except` blocks."
   ]
  },
  {
   "cell_type": "code",
   "execution_count": 8,
   "metadata": {},
   "outputs": [
    {
     "name": "stdout",
     "output_type": "stream",
     "text": [
      "Cannot divide by zero!\n"
     ]
    }
   ],
   "source": [
    "try:\n",
    "    x = 1 / 0\n",
    "except ZeroDivisionError:\n",
    "    print(\"Cannot divide by zero!\")"
   ]
  },
  {
   "cell_type": "markdown",
   "metadata": {},
   "source": [
    "**39. What is a lambda function? Provide an example.**\n",
    "\n",
    "A lambda function is a small, anonymous function. It can take any number of arguments but can only have one expression."
   ]
  },
  {
   "cell_type": "code",
   "execution_count": 9,
   "metadata": {},
   "outputs": [
    {
     "name": "stdout",
     "output_type": "stream",
     "text": [
      "12\n"
     ]
    }
   ],
   "source": [
    "multiply = lambda x, y: x * y\n",
    "print(multiply(3, 4))  # Output: 12"
   ]
  },
  {
   "cell_type": "markdown",
   "metadata": {},
   "source": [
    "**40. What is list comprehension and provide an example?**\n",
    "\n",
    "List comprehension is a concise way to create lists in Python."
   ]
  },
  {
   "cell_type": "code",
   "execution_count": 11,
   "metadata": {},
   "outputs": [
    {
     "data": {
      "text/plain": [
       "[0, 1, 4, 9, 16, 25, 36, 49, 64, 81]"
      ]
     },
     "execution_count": 11,
     "metadata": {},
     "output_type": "execute_result"
    }
   ],
   "source": [
    "squared_numbers = [x**2 for x in range(10)]\n",
    "squared_numbers"
   ]
  },
  {
   "cell_type": "markdown",
   "metadata": {},
   "source": [
    "**41. What is a generator and how is it different from a list?**\n",
    "\n",
    "A generator is an iterable that yields items one at a time using a yield statement, whereas a list holds all its items in memory. Generators are more memory-efficient for large data sets."
   ]
  },
  {
   "cell_type": "code",
   "execution_count": 13,
   "metadata": {},
   "outputs": [],
   "source": [
    "def count_up_to(n):\n",
    "    count = 1\n",
    "    while count <= n:\n",
    "        yield count\n",
    "        count += 1"
   ]
  },
  {
   "cell_type": "markdown",
   "metadata": {},
   "source": [
    "**42. What is the difference between `staticmethod`, `classmethod`, and regular instance methods?**\n",
    "\n",
    "- **staticmethod:** Doesn't take any specific first parameter (neither self nor cls), and acts just like a regular function but belongs to a class's namespace.\n",
    "\n",
    "- **classmethod:** Takes the class as its first parameter (usually named `cls`). It can be called on the class itself, rather than an instance.\n",
    "\n",
    "- **Instance method:** Takes the instance (object) as its first parameter (usually named `self`) and operates on it."
   ]
  },
  {
   "cell_type": "markdown",
   "metadata": {},
   "source": [
    "**43. What is the difference between `__new__` and `__init__` in a class?**\n",
    "\n",
    "`__new__` is responsible for creating and returning a new instance of the class, while `__init__` is responsible for initializing the created object."
   ]
  },
  {
   "cell_type": "markdown",
   "metadata": {},
   "source": [
    "**44. What is the difference between an `Iterable` and an `Iterator`?**\n",
    "\n",
    "- **Iterable:** An object which has an `__iter__` method that returns an iterator.\n",
    "- **Iterator:** An object that can return its items one at a time using the `__next__` method and implements the `__iter__` method."
   ]
  },
  {
   "cell_type": "markdown",
   "metadata": {},
   "source": [
    "**45. Write a program in Python to execute the Bubble sort algorithm.**"
   ]
  },
  {
   "cell_type": "code",
   "execution_count": 18,
   "metadata": {},
   "outputs": [
    {
     "name": "stdout",
     "output_type": "stream",
     "text": [
      "[3, 5, 6, 7, 32, 54, 87]\n"
     ]
    }
   ],
   "source": [
    "def bubble_sort(a):\n",
    "    # Subtract 1 because we always compare 2 adjacent values\n",
    "    b = len(a) - 1\n",
    "    for x in range(b):\n",
    "        for y in range(b - x):\n",
    "            if a[y] > a[y + 1]:\n",
    "                a[y], a[y + 1] = a[y + 1], a[y]\n",
    "\n",
    "a = [32, 5, 3, 6, 7, 54, 87]\n",
    "bubble_sort(a)\n",
    "print(a)"
   ]
  },
  {
   "cell_type": "markdown",
   "metadata": {},
   "source": [
    "**46. Write a program in Python to check if a number is prime.**"
   ]
  },
  {
   "cell_type": "code",
   "execution_count": 17,
   "metadata": {},
   "outputs": [
    {
     "name": "stdout",
     "output_type": "stream",
     "text": [
      "Enter number: 3\n",
      "Prime\n"
     ]
    }
   ],
   "source": [
    "a = int(input(\"Enter number: \"))\n",
    "if a == 1:\n",
    "    print(\"Not prime\")\n",
    "else:\n",
    "    for x in range(2, a):\n",
    "        if (a % x) == 0:\n",
    "            print(\"Not prime\")\n",
    "            break\n",
    "    else:\n",
    "        print(\"Prime\")"
   ]
  },
  {
   "cell_type": "markdown",
   "metadata": {},
   "source": [
    "**47. What is the purpose of the `enumerate()` function in Python?**\n",
    "\n",
    "The `enumerate()` function in Python is used to iterate over an iterable (e.g., list, tuple) while keeping track of the index or position of each item. It returns an enumerate object that yields tuples containing the index and the corresponding item from the iterable."
   ]
  },
  {
   "cell_type": "markdown",
   "metadata": {},
   "source": [
    "**48. What is the purpose of the `zip()` function in Python?**\n",
    "\n",
    "The `zip()` function in Python is used to combine multiple iterables (e.g., lists, tuples) into a single iterable of tuples where each tuple contains corresponding elements from the input iterables. It stops when the shortest input iterable is exhausted."
   ]
  },
  {
   "cell_type": "markdown",
   "metadata": {},
   "source": [
    "**49. Discuss the purpose of the `__call__` method in Python.**\n",
    "\n",
    "The `__call__` method in Python is a special method that allows instances of a class to be called as functions. When an object defines a `__call__` method, it can be invoked using function call syntax `(obj())`. This can be useful for creating callable objects or implementing function-like behavior in classes."
   ]
  },
  {
   "cell_type": "markdown",
   "metadata": {},
   "source": [
    "**50. Discuss the difference between `append()` and `extend()` methods in Python lists.**\n",
    "\n",
    "Both `append()` and `extend()` methods are used to add elements to a list in Python. The `append()` method adds a single element to the end of the list, while the `extend()` method takes an iterable (e.g., list, tuple) as an argument and appends each element of the iterable to the end of the list."
   ]
  },
  {
   "cell_type": "markdown",
   "metadata": {},
   "source": [
    "> **Congratulations on completing 50 questions, everyone! 🎉 Each question conquered reflects your growth and determination. Keep pushing boundaries, embracing challenges, and never lose sight of your passion for coding. Your potential is limitless!**"
   ]
  },
  {
   "cell_type": "markdown",
   "metadata": {},
   "source": [
    "# Happy Learning!"
   ]
  }
 ],
 "metadata": {
  "kernelspec": {
   "display_name": "Python 3",
   "language": "python",
   "name": "python3"
  },
  "language_info": {
   "codemirror_mode": {
    "name": "ipython",
    "version": 3
   },
   "file_extension": ".py",
   "mimetype": "text/x-python",
   "name": "python",
   "nbconvert_exporter": "python",
   "pygments_lexer": "ipython3",
   "version": "3.6.9"
  }
 },
 "nbformat": 4,
 "nbformat_minor": 4
}
