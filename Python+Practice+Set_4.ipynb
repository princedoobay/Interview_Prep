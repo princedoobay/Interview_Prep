{
 "cells": [
  {
   "cell_type": "markdown",
   "metadata": {},
   "source": [
    "**1. Implement a binary search algorithm.**"
   ]
  },
  {
   "cell_type": "code",
   "execution_count": 2,
   "metadata": {},
   "outputs": [
    {
     "name": "stdout",
     "output_type": "stream",
     "text": [
      "Element found at index 5.\n"
     ]
    }
   ],
   "source": [
    "def binary_search(arr, target):\n",
    "    low = 0\n",
    "    high = len(arr) - 1\n",
    "\n",
    "    while low <= high:\n",
    "        mid = (low + high) // 2\n",
    "        mid_val = arr[mid]\n",
    "\n",
    "        if mid_val == target:\n",
    "            return mid\n",
    "        elif mid_val < target:\n",
    "            low = mid + 1\n",
    "        else:\n",
    "            high = mid - 1\n",
    "\n",
    "    return -1  # If target is not found in the array\n",
    "\n",
    "# Example usage:\n",
    "arr = [1, 2, 3, 4, 5, 6, 7, 8, 9]\n",
    "target = 6\n",
    "result = binary_search(arr, target)\n",
    "if result != -1:\n",
    "    print(f\"Element found at index {result}.\")\n",
    "else:\n",
    "    print(\"Element not found in the array.\")"
   ]
  },
  {
   "cell_type": "markdown",
   "metadata": {},
   "source": [
    "**2. Write a function to reverse a linked list.**"
   ]
  },
  {
   "cell_type": "code",
   "execution_count": 3,
   "metadata": {},
   "outputs": [
    {
     "name": "stdout",
     "output_type": "stream",
     "text": [
      "Original linked list:\n",
      "1 -> 2 -> 3 -> 4 -> 5 -> None\n",
      "Reversed linked list:\n",
      "5 -> 4 -> 3 -> 2 -> 1 -> None\n"
     ]
    }
   ],
   "source": [
    "class ListNode:\n",
    "    def __init__(self, val=0, next=None):\n",
    "        self.val = val\n",
    "        self.next = next\n",
    "\n",
    "def reverse_linked_list(head):\n",
    "    prev_node = None\n",
    "    current_node = head\n",
    "\n",
    "    while current_node is not None:\n",
    "        next_node = current_node.next\n",
    "        current_node.next = prev_node\n",
    "        prev_node = current_node\n",
    "        current_node = next_node\n",
    "\n",
    "    return prev_node\n",
    "\n",
    "# Helper function to print the linked list\n",
    "def print_linked_list(head):\n",
    "    current_node = head\n",
    "    while current_node is not None:\n",
    "        print(current_node.val, end=\" -> \")\n",
    "        current_node = current_node.next\n",
    "    print(\"None\")\n",
    "\n",
    "# Example usage:\n",
    "# Creating a sample linked list: 1 -> 2 -> 3 -> 4 -> 5\n",
    "head = ListNode(1)\n",
    "head.next = ListNode(2)\n",
    "head.next.next = ListNode(3)\n",
    "head.next.next.next = ListNode(4)\n",
    "head.next.next.next.next = ListNode(5)\n",
    "\n",
    "print(\"Original linked list:\")\n",
    "print_linked_list(head)\n",
    "\n",
    "# Reversing the linked list\n",
    "reversed_head = reverse_linked_list(head)\n",
    "\n",
    "print(\"Reversed linked list:\")\n",
    "print_linked_list(reversed_head)"
   ]
  },
  {
   "cell_type": "markdown",
   "metadata": {},
   "source": [
    "**3. Write a function to find the shortest path between two nodes in a graph.**"
   ]
  },
  {
   "cell_type": "code",
   "execution_count": 4,
   "metadata": {},
   "outputs": [
    {
     "name": "stdout",
     "output_type": "stream",
     "text": [
      "The shortest path from A to E is: A -> B -> C -> E\n"
     ]
    }
   ],
   "source": [
    "from collections import deque\n",
    "\n",
    "class Graph:\n",
    "    def __init__(self):\n",
    "        self.adj_list = {}\n",
    "\n",
    "    def add_edge(self, u, v):\n",
    "        if u not in self.adj_list:\n",
    "            self.adj_list[u] = []\n",
    "        if v not in self.adj_list:\n",
    "            self.adj_list[v] = []\n",
    "        self.adj_list[u].append(v)\n",
    "        self.adj_list[v].append(u)\n",
    "\n",
    "    def shortest_path(self, start, end):\n",
    "        if start not in self.adj_list or end not in self.adj_list:\n",
    "            return None\n",
    "        \n",
    "        visited = set()\n",
    "        queue = deque([(start, [start])])\n",
    "\n",
    "        while queue:\n",
    "            node, path = queue.popleft()\n",
    "            if node == end:\n",
    "                return path\n",
    "            visited.add(node)\n",
    "            for neighbor in self.adj_list[node]:\n",
    "                if neighbor not in visited:\n",
    "                    queue.append((neighbor, path + [neighbor]))\n",
    "\n",
    "        return None\n",
    "\n",
    "# Example usage:\n",
    "graph = Graph()\n",
    "graph.add_edge('A', 'B')\n",
    "graph.add_edge('B', 'C')\n",
    "graph.add_edge('B', 'D')\n",
    "graph.add_edge('C', 'E')\n",
    "graph.add_edge('D', 'E')\n",
    "\n",
    "start_node = 'A'\n",
    "end_node = 'E'\n",
    "shortest_path = graph.shortest_path(start_node, end_node)\n",
    "\n",
    "if shortest_path:\n",
    "    print(f\"The shortest path from {start_node} to {end_node} is: {' -> '.join(shortest_path)}\")\n",
    "else:\n",
    "    print(f\"No path exists between {start_node} and {end_node}.\")"
   ]
  },
  {
   "cell_type": "markdown",
   "metadata": {},
   "source": [
    "**Explanation**\n",
    "> 1. We define a `Graph` class to represent the graph using an adjacency list.\n",
    "\n",
    "> 2. The `add_edge` method adds an undirected edge between two nodes in the graph.\n",
    "\n",
    "> 3. The `shortest_path` method takes two nodes `start` and `end` as input and finds the shortest path between them using BFS.\n",
    "\n",
    "> 4. We use a queue to perform BFS, starting from the `start` node and exploring neighbors level by level.\n",
    "\n",
    "> 5. Once we encounter the `end` node, we return the path from `start` to `end`.\n",
    "\n",
    "> 6. If no path exists between `start` and `end`, we return `None`.\n",
    "\n",
    "> 7. We provide an example usage where we create a graph, add edges, and find the shortest path between two nodes."
   ]
  },
  {
   "cell_type": "markdown",
   "metadata": {},
   "source": [
    "**4. Write a function to find the longest common subsequence of two strings.**"
   ]
  },
  {
   "cell_type": "code",
   "execution_count": 5,
   "metadata": {},
   "outputs": [
    {
     "name": "stdout",
     "output_type": "stream",
     "text": [
      "Longest Common Subsequence: ADH\n"
     ]
    }
   ],
   "source": [
    "def longest_common_subsequence(str1, str2):\n",
    "    m = len(str1)\n",
    "    n = len(str2)\n",
    "\n",
    "    # Initialize a table to store the lengths of longest common subsequences\n",
    "    dp = [[0] * (n + 1) for _ in range(m + 1)]\n",
    "\n",
    "    # Fill the table using dynamic programming\n",
    "    for i in range(1, m + 1):\n",
    "        for j in range(1, n + 1):\n",
    "            if str1[i - 1] == str2[j - 1]:\n",
    "                dp[i][j] = dp[i - 1][j - 1] + 1\n",
    "            else:\n",
    "                dp[i][j] = max(dp[i - 1][j], dp[i][j - 1])\n",
    "\n",
    "    # Trace back to construct the longest common subsequence\n",
    "    lcs = []\n",
    "    i, j = m, n\n",
    "    while i > 0 and j > 0:\n",
    "        if str1[i - 1] == str2[j - 1]:\n",
    "            lcs.append(str1[i - 1])\n",
    "            i -= 1\n",
    "            j -= 1\n",
    "        elif dp[i - 1][j] > dp[i][j - 1]:\n",
    "            i -= 1\n",
    "        else:\n",
    "            j -= 1\n",
    "\n",
    "    return ''.join(reversed(lcs))\n",
    "\n",
    "# Example usage:\n",
    "str1 = \"ABCDGH\"\n",
    "str2 = \"AEDFHR\"\n",
    "lcs = longest_common_subsequence(str1, str2)\n",
    "print(\"Longest Common Subsequence:\", lcs)"
   ]
  },
  {
   "cell_type": "markdown",
   "metadata": {},
   "source": [
    "**5. Write a function to find the median of a list of numbers.**"
   ]
  },
  {
   "cell_type": "code",
   "execution_count": 6,
   "metadata": {},
   "outputs": [
    {
     "name": "stdout",
     "output_type": "stream",
     "text": [
      "Median: 5\n"
     ]
    }
   ],
   "source": [
    "def find_median(lst):\n",
    "    sorted_lst = sorted(lst)\n",
    "    n = len(sorted_lst)\n",
    "    if n % 2 == 0:\n",
    "        # If the list has an even number of elements, median is the average of the middle two elements\n",
    "        return (sorted_lst[n // 2 - 1] + sorted_lst[n // 2]) / 2\n",
    "    else:\n",
    "        # If the list has an odd number of elements, median is the middle element\n",
    "        return sorted_lst[n // 2]\n",
    "\n",
    "# Example usage:\n",
    "numbers = [5, 2, 7, 4, 9, 3, 6, 8, 1]\n",
    "median = find_median(numbers)\n",
    "print(\"Median:\", median)"
   ]
  },
  {
   "cell_type": "markdown",
   "metadata": {},
   "source": [
    "**6. Implement a function to find the maximum and minimum elements in a list.**"
   ]
  },
  {
   "cell_type": "code",
   "execution_count": 7,
   "metadata": {},
   "outputs": [
    {
     "name": "stdout",
     "output_type": "stream",
     "text": [
      "Maximum element: 9\n",
      "Minimum element: 1\n"
     ]
    }
   ],
   "source": [
    "def find_max_min(lst):\n",
    "    if not lst:\n",
    "        return None, None  # If the list is empty, return None for both max and min\n",
    "    max_element = min_element = lst[0]  # Initialize max and min with the first element\n",
    "    for num in lst:\n",
    "        if num > max_element:\n",
    "            max_element = num\n",
    "        elif num < min_element:\n",
    "            min_element = num\n",
    "    return max_element, min_element\n",
    "\n",
    "# Example usage:\n",
    "my_list = [5, 2, 7, 1, 9, 3]\n",
    "max_num, min_num = find_max_min(my_list)\n",
    "print(\"Maximum element:\", max_num)\n",
    "print(\"Minimum element:\", min_num)"
   ]
  },
  {
   "cell_type": "markdown",
   "metadata": {},
   "source": [
    "**7. Implement a function to reverse a string without using built-in methods.**"
   ]
  },
  {
   "cell_type": "code",
   "execution_count": 8,
   "metadata": {},
   "outputs": [
    {
     "name": "stdout",
     "output_type": "stream",
     "text": [
      "Original string: hello world\n",
      "Reversed string: dlrow olleh\n"
     ]
    }
   ],
   "source": [
    "def reverse_string(input_str):\n",
    "    if not input_str:\n",
    "        return \"\"  # Return empty string if input is empty\n",
    "    reversed_str = \"\"\n",
    "    for i in range(len(input_str) - 1, -1, -1):\n",
    "        reversed_str += input_str[i]\n",
    "    return reversed_str\n",
    "\n",
    "# Example usage:\n",
    "my_string = \"hello world\"\n",
    "reversed_string = reverse_string(my_string)\n",
    "print(\"Original string:\", my_string)\n",
    "print(\"Reversed string:\", reversed_string)"
   ]
  },
  {
   "cell_type": "markdown",
   "metadata": {},
   "source": [
    "**8. Write a Python program to print Floyd's triangle of a given number of rows. Floyd's triangle is a right-angled triangular array of natural numbers.**\n",
    "\n"
   ]
  },
  {
   "cell_type": "raw",
   "metadata": {},
   "source": [
    "1\n",
    "2 3\n",
    "4 5 6\n",
    "7 8 9 10"
   ]
  },
  {
   "cell_type": "code",
   "execution_count": 10,
   "metadata": {},
   "outputs": [
    {
     "name": "stdout",
     "output_type": "stream",
     "text": [
      "1 \n",
      "2 3 \n",
      "4 5 6 \n",
      "7 8 9 10 \n",
      "11 12 13 14 15 \n"
     ]
    }
   ],
   "source": [
    "def floyds_triangle(rows):\n",
    "    number = 1\n",
    "    for i in range(1, rows + 1):\n",
    "        for j in range(1, i + 1):\n",
    "            print(number, end=\" \")\n",
    "            number += 1\n",
    "        print()\n",
    "\n",
    "# Example usage:\n",
    "num_rows = 5  # You can change this to any number of rows you want\n",
    "floyds_triangle(num_rows)"
   ]
  },
  {
   "cell_type": "markdown",
   "metadata": {},
   "source": [
    "**9. Given a list of non-negative integers representing the amount of money of each house, determine the maximum amount of money you can rob without alerting the police (you cannot rob two adjacent houses).**"
   ]
  },
  {
   "cell_type": "code",
   "execution_count": 1,
   "metadata": {},
   "outputs": [
    {
     "name": "stdout",
     "output_type": "stream",
     "text": [
      "12\n"
     ]
    }
   ],
   "source": [
    "def rob(nums):\n",
    "    if not nums:\n",
    "        return 0\n",
    "    if len(nums) == 1:\n",
    "        return nums[0]\n",
    "    \n",
    "    # Initialize dp array to store maximum amount of money robbed\n",
    "    dp = [0] * len(nums)\n",
    "    # Base cases\n",
    "    dp[0] = nums[0]\n",
    "    dp[1] = max(nums[0], nums[1])\n",
    "    \n",
    "    # Iterate through the houses to find the maximum amount of money robbed\n",
    "    for i in range(2, len(nums)):\n",
    "        dp[i] = max(dp[i-1], dp[i-2] + nums[i])\n",
    "    \n",
    "    return dp[-1]\n",
    "\n",
    "# Example usage:\n",
    "nums = [2, 7, 9, 3, 1]\n",
    "print(rob(nums))  # Output: 12"
   ]
  },
  {
   "cell_type": "markdown",
   "metadata": {},
   "source": [
    "**10. Check if a singly linked list is a palindrome.**"
   ]
  },
  {
   "cell_type": "code",
   "execution_count": 2,
   "metadata": {},
   "outputs": [
    {
     "name": "stdout",
     "output_type": "stream",
     "text": [
      "True\n"
     ]
    }
   ],
   "source": [
    "class ListNode:\n",
    "    def __init__(self, val=0, next=None):\n",
    "        self.val = val\n",
    "        self.next = next\n",
    "\n",
    "def isPalindrome(head):\n",
    "    if not head or not head.next:\n",
    "        return True\n",
    "    \n",
    "    # Find the middle of the linked list using slow and fast pointers\n",
    "    slow = head\n",
    "    fast = head\n",
    "    while fast.next and fast.next.next:\n",
    "        slow = slow.next\n",
    "        fast = fast.next.next\n",
    "    \n",
    "    # Reverse the second half of the linked list\n",
    "    second_half = reverse(slow.next)\n",
    "    \n",
    "    # Compare the first half with the reversed second half\n",
    "    while second_half:\n",
    "        if head.val != second_half.val:\n",
    "            return False\n",
    "        head = head.next\n",
    "        second_half = second_half.next\n",
    "    \n",
    "    return True\n",
    "\n",
    "def reverse(head):\n",
    "    prev = None\n",
    "    while head:\n",
    "        temp = head.next\n",
    "        head.next = prev\n",
    "        prev = head\n",
    "        head = temp\n",
    "    return prev\n",
    "\n",
    "# Example usage:\n",
    "# Create a linked list: 1 -> 2 -> 3 -> 2 -> 1\n",
    "head = ListNode(1)\n",
    "head.next = ListNode(2)\n",
    "head.next.next = ListNode(3)\n",
    "head.next.next.next = ListNode(2)\n",
    "head.next.next.next.next = ListNode(1)\n",
    "\n",
    "print(isPalindrome(head))  # Output: True"
   ]
  },
  {
   "cell_type": "markdown",
   "metadata": {},
   "source": [
    "**11. Merge two sorted linked lists and return it as a new sorted list.**"
   ]
  },
  {
   "cell_type": "code",
   "execution_count": 3,
   "metadata": {},
   "outputs": [
    {
     "name": "stdout",
     "output_type": "stream",
     "text": [
      "1 1 2 3 4 4 "
     ]
    }
   ],
   "source": [
    "class ListNode:\n",
    "    def __init__(self, val=0, next=None):\n",
    "        self.val = val\n",
    "        self.next = next\n",
    "\n",
    "def mergeTwoLists(l1, l2):\n",
    "    dummy = ListNode()  # Dummy node to facilitate merging\n",
    "    current = dummy\n",
    "    \n",
    "    # Traverse both lists and compare elements\n",
    "    while l1 and l2:\n",
    "        if l1.val < l2.val:\n",
    "            current.next = l1\n",
    "            l1 = l1.next\n",
    "        else:\n",
    "            current.next = l2\n",
    "            l2 = l2.next\n",
    "        current = current.next\n",
    "    \n",
    "    # If one list is exhausted, append the rest of the other list\n",
    "    if l1:\n",
    "        current.next = l1\n",
    "    else:\n",
    "        current.next = l2\n",
    "    \n",
    "    return dummy.next\n",
    "\n",
    "# Example usage:\n",
    "# Create two sorted linked lists: 1->2->4 and 1->3->4\n",
    "l1 = ListNode(1)\n",
    "l1.next = ListNode(2)\n",
    "l1.next.next = ListNode(4)\n",
    "\n",
    "l2 = ListNode(1)\n",
    "l2.next = ListNode(3)\n",
    "l2.next.next = ListNode(4)\n",
    "\n",
    "merged_list = mergeTwoLists(l1, l2)\n",
    "\n",
    "# Print the merged list\n",
    "while merged_list:\n",
    "    print(merged_list.val, end=\" \")\n",
    "    merged_list = merged_list.next\n",
    "# Output: 1 1 2 3 4 4"
   ]
  },
  {
   "cell_type": "markdown",
   "metadata": {},
   "source": [
    "**12. Given a singly linked list, determine if it is a palindrome.**"
   ]
  },
  {
   "cell_type": "code",
   "execution_count": 4,
   "metadata": {},
   "outputs": [
    {
     "name": "stdout",
     "output_type": "stream",
     "text": [
      "True\n"
     ]
    }
   ],
   "source": [
    "class ListNode:\n",
    "    def __init__(self, val=0, next=None):\n",
    "        self.val = val\n",
    "        self.next = next\n",
    "\n",
    "def isPalindrome(head):\n",
    "    if not head or not head.next:\n",
    "        return True\n",
    "    \n",
    "    # Find the middle of the linked list using slow and fast pointers\n",
    "    slow = head\n",
    "    fast = head\n",
    "    while fast.next and fast.next.next:\n",
    "        slow = slow.next\n",
    "        fast = fast.next.next\n",
    "    \n",
    "    # Reverse the second half of the linked list\n",
    "    second_half = reverse(slow.next)\n",
    "    \n",
    "    # Compare the first half with the reversed second half\n",
    "    while second_half:\n",
    "        if head.val != second_half.val:\n",
    "            return False\n",
    "        head = head.next\n",
    "        second_half = second_half.next\n",
    "    \n",
    "    return True\n",
    "\n",
    "def reverse(head):\n",
    "    prev = None\n",
    "    while head:\n",
    "        temp = head.next\n",
    "        head.next = prev\n",
    "        prev = head\n",
    "        head = temp\n",
    "    return prev\n",
    "\n",
    "# Example usage:\n",
    "# Create a linked list: 1 -> 2 -> 3 -> 2 -> 1\n",
    "head = ListNode(1)\n",
    "head.next = ListNode(2)\n",
    "head.next.next = ListNode(3)\n",
    "head.next.next.next = ListNode(2)\n",
    "head.next.next.next.next = ListNode(1)\n",
    "\n",
    "print(isPalindrome(head))  # Output: True"
   ]
  },
  {
   "cell_type": "markdown",
   "metadata": {},
   "source": [
    "**13. Write a function to determine if a given string is a palindrome or not. Palindrome is a string that reads the same backward as forward.**"
   ]
  },
  {
   "cell_type": "code",
   "execution_count": 5,
   "metadata": {},
   "outputs": [
    {
     "name": "stdout",
     "output_type": "stream",
     "text": [
      "True\n"
     ]
    }
   ],
   "source": [
    "def is_palindrome(s):\n",
    "    # Convert the string to lowercase to ignore case sensitivity\n",
    "    s = s.lower()\n",
    "    \n",
    "    # Remove non-alphanumeric characters from the string\n",
    "    s = ''.join(char for char in s if char.isalnum())\n",
    "    \n",
    "    # Compare the original string with its reverse\n",
    "    return s == s[::-1]\n",
    "\n",
    "# Example usage:\n",
    "input_string = \"A man, a plan, a canal: Panama\"\n",
    "print(is_palindrome(input_string))  # Output: True"
   ]
  },
  {
   "cell_type": "markdown",
   "metadata": {},
   "source": [
    "**14. Write a function to determine if two strings are anagrams of each other. Anagrams are words or phrases that contain the same characters but in a different order.**"
   ]
  },
  {
   "cell_type": "code",
   "execution_count": 6,
   "metadata": {},
   "outputs": [
    {
     "name": "stdout",
     "output_type": "stream",
     "text": [
      "True\n"
     ]
    }
   ],
   "source": [
    "def are_anagrams(str1, str2):\n",
    "    # Remove spaces and convert to lowercase\n",
    "    str1 = str1.replace(\" \", \"\").lower()\n",
    "    str2 = str2.replace(\" \", \"\").lower()\n",
    "\n",
    "    # Check if the lengths are different\n",
    "    if len(str1) != len(str2):\n",
    "        return False\n",
    "\n",
    "    # Count the frequency of each character in both strings\n",
    "    char_count = {}\n",
    "    for char in str1:\n",
    "        char_count[char] = char_count.get(char, 0) + 1\n",
    "    for char in str2:\n",
    "        char_count[char] = char_count.get(char, 0) - 1\n",
    "\n",
    "    # Check if all counts are zero\n",
    "    for count in char_count.values():\n",
    "        if count != 0:\n",
    "            return False\n",
    "\n",
    "    return True\n",
    "\n",
    "# Test the function\n",
    "str1 = \"listen\"\n",
    "str2 = \"silent\"\n",
    "print(are_anagrams(str1, str2))  # Output: True"
   ]
  },
  {
   "cell_type": "markdown",
   "metadata": {},
   "source": [
    "**15. Write a program that prints the numbers from 1 to n. But for multiples of three, print \"Fizz\" instead of the number, and for the multiples of five, print \"Buzz\". For numbers that are multiples of both three and five, print \"FizzBuzz\".**"
   ]
  },
  {
   "cell_type": "code",
   "execution_count": 7,
   "metadata": {},
   "outputs": [
    {
     "name": "stdout",
     "output_type": "stream",
     "text": [
      "1\n",
      "2\n",
      "Fizz\n",
      "4\n",
      "Buzz\n",
      "Fizz\n",
      "7\n",
      "8\n",
      "Fizz\n",
      "Buzz\n",
      "11\n",
      "Fizz\n",
      "13\n",
      "14\n",
      "FizzBuzz\n",
      "16\n",
      "17\n",
      "Fizz\n",
      "19\n",
      "Buzz\n"
     ]
    }
   ],
   "source": [
    "def fizzbuzz(n):\n",
    "    for i in range(1, n+1):\n",
    "        if i % 3 == 0 and i % 5 == 0:\n",
    "            print(\"FizzBuzz\")\n",
    "        elif i % 3 == 0:\n",
    "            print(\"Fizz\")\n",
    "        elif i % 5 == 0:\n",
    "            print(\"Buzz\")\n",
    "        else:\n",
    "            print(i)\n",
    "\n",
    "# Example usage:\n",
    "n = 20\n",
    "fizzbuzz(n)"
   ]
  },
  {
   "cell_type": "markdown",
   "metadata": {},
   "source": [
    "**16. Given a linked list, determine if it has a cycle in it. A cycle is when a node in the linked list points to a previously visited node, thus forming a loop.**"
   ]
  },
  {
   "cell_type": "code",
   "execution_count": 8,
   "metadata": {},
   "outputs": [
    {
     "name": "stdout",
     "output_type": "stream",
     "text": [
      "True\n"
     ]
    }
   ],
   "source": [
    "class ListNode:\n",
    "    def __init__(self, val=0, next=None):\n",
    "        self.val = val\n",
    "        self.next = next\n",
    "\n",
    "def has_cycle(head):\n",
    "    if not head or not head.next:\n",
    "        return False\n",
    "\n",
    "    slow = head\n",
    "    fast = head.next\n",
    "\n",
    "    while slow != fast:\n",
    "        if not fast or not fast.next:\n",
    "            return False\n",
    "        slow = slow.next\n",
    "        fast = fast.next.next\n",
    "\n",
    "    return True\n",
    "\n",
    "# Example usage:\n",
    "# Create a linked list with a cycle\n",
    "head = ListNode(3)\n",
    "head.next = ListNode(2)\n",
    "head.next.next = ListNode(0)\n",
    "head.next.next.next = ListNode(-4)\n",
    "head.next.next.next.next = head.next  # cycle\n",
    "\n",
    "print(has_cycle(head))  # Output: True"
   ]
  },
  {
   "cell_type": "markdown",
   "metadata": {},
   "source": [
    "**17. Given an integer array, find the contiguous subarray (containing at least one number) which has the largest sum and return its sum.**"
   ]
  },
  {
   "cell_type": "code",
   "execution_count": 9,
   "metadata": {},
   "outputs": [
    {
     "name": "stdout",
     "output_type": "stream",
     "text": [
      "6\n"
     ]
    }
   ],
   "source": [
    "def max_subarray_sum(nums):\n",
    "    max_sum = float('-inf')\n",
    "    current_sum = 0\n",
    "\n",
    "    for num in nums:\n",
    "        current_sum = max(num, current_sum + num)\n",
    "        max_sum = max(max_sum, current_sum)\n",
    "\n",
    "    return max_sum\n",
    "\n",
    "# Example usage:\n",
    "nums = [-2, 1, -3, 4, -1, 2, 1, -5, 4]\n",
    "print(max_subarray_sum(nums))  # Output: 6 (corresponding to [4, -1, 2, 1])"
   ]
  },
  {
   "cell_type": "markdown",
   "metadata": {},
   "source": [
    "**18. Design and implement a data structure for Least Recently Used (LRU) cache. It should support the following operations: get and put.**"
   ]
  },
  {
   "cell_type": "code",
   "execution_count": 10,
   "metadata": {},
   "outputs": [
    {
     "name": "stdout",
     "output_type": "stream",
     "text": [
      "1\n",
      "-1\n",
      "-1\n",
      "3\n",
      "4\n"
     ]
    }
   ],
   "source": [
    "class ListNode:\n",
    "    def __init__(self, key=None, value=None):\n",
    "        self.key = key\n",
    "        self.value = value\n",
    "        self.prev = None\n",
    "        self.next = None\n",
    "\n",
    "class LRUCache:\n",
    "    def __init__(self, capacity):\n",
    "        self.capacity = capacity\n",
    "        self.cache = {}\n",
    "        self.head = ListNode()\n",
    "        self.tail = ListNode()\n",
    "        self.head.next = self.tail\n",
    "        self.tail.prev = self.head\n",
    "\n",
    "    def _add_node(self, node):\n",
    "        # Add node right after the head\n",
    "        node.prev = self.head\n",
    "        node.next = self.head.next\n",
    "        self.head.next.prev = node\n",
    "        self.head.next = node\n",
    "\n",
    "    def _remove_node(self, node):\n",
    "        # Remove node from the linked list\n",
    "        prev = node.prev\n",
    "        new = node.next\n",
    "        prev.next = new\n",
    "        new.prev = prev\n",
    "\n",
    "    def _move_to_head(self, node):\n",
    "        # Move a node to the head of the linked list\n",
    "        self._remove_node(node)\n",
    "        self._add_node(node)\n",
    "\n",
    "    def get(self, key):\n",
    "        if key in self.cache:\n",
    "            node = self.cache[key]\n",
    "            self._move_to_head(node)\n",
    "            return node.value\n",
    "        return -1\n",
    "\n",
    "    def put(self, key, value):\n",
    "        if key in self.cache:\n",
    "            # If the key is already in the cache, update its value and move it to the head\n",
    "            node = self.cache[key]\n",
    "            node.value = value\n",
    "            self._move_to_head(node)\n",
    "        else:\n",
    "            # If the key is not in the cache, add a new node to the cache\n",
    "            new_node = ListNode(key, value)\n",
    "            self.cache[key] = new_node\n",
    "            self._add_node(new_node)\n",
    "            if len(self.cache) > self.capacity:\n",
    "                # If capacity is reached, remove the least recently used node from the tail\n",
    "                tail = self.tail.prev\n",
    "                self._remove_node(tail)\n",
    "                del self.cache[tail.key]\n",
    "\n",
    "# Example usage:\n",
    "cache = LRUCache(2)\n",
    "cache.put(1, 1)\n",
    "cache.put(2, 2)\n",
    "print(cache.get(1))  # Output: 1\n",
    "cache.put(3, 3)\n",
    "print(cache.get(2))  # Output: -1 (not found)\n",
    "cache.put(4, 4)\n",
    "print(cache.get(1))  # Output: -1 (not found)\n",
    "print(cache.get(3))  # Output: 3\n",
    "print(cache.get(4))  # Output: 4"
   ]
  },
  {
   "cell_type": "markdown",
   "metadata": {},
   "source": [
    "**19. Given a string s, find the longest palindromic substring in s. You may assume that the maximum length of s is 1000.**"
   ]
  },
  {
   "cell_type": "code",
   "execution_count": 11,
   "metadata": {},
   "outputs": [
    {
     "name": "stdout",
     "output_type": "stream",
     "text": [
      "aba\n",
      "bb\n"
     ]
    }
   ],
   "source": [
    "def longest_palindromic_substring(s):\n",
    "    n = len(s)\n",
    "    if n == 0:\n",
    "        return \"\"\n",
    "\n",
    "    # Initialize a table to store whether substrings are palindromes\n",
    "    dp = [[False] * n for _ in range(n)]\n",
    "    \n",
    "    # Initialize variables to store the start and max length of the longest palindrome\n",
    "    start = 0\n",
    "    max_length = 1\n",
    "    \n",
    "    # All substrings of length 1 are palindromes\n",
    "    for i in range(n):\n",
    "        dp[i][i] = True\n",
    "    \n",
    "    # Check for substrings of length 2\n",
    "    for i in range(n-1):\n",
    "        if s[i] == s[i+1]:\n",
    "            dp[i][i+1] = True\n",
    "            start = i\n",
    "            max_length = 2\n",
    "    \n",
    "    # Check for substrings of length greater than 2\n",
    "    for length in range(3, n+1):\n",
    "        for i in range(n - length + 1):\n",
    "            j = i + length - 1\n",
    "            if s[i] == s[j] and dp[i+1][j-1]:\n",
    "                dp[i][j] = True\n",
    "                start = i\n",
    "                max_length = length\n",
    "    \n",
    "    return s[start:start+max_length]\n",
    "\n",
    "# Example usage:\n",
    "s = \"babad\"\n",
    "print(longest_palindromic_substring(s))  # Output: \"bab\" or \"aba\"\n",
    "\n",
    "s = \"cbbd\"\n",
    "print(longest_palindromic_substring(s))  # Output: \"bb\""
   ]
  },
  {
   "cell_type": "markdown",
   "metadata": {},
   "source": [
    "**20. Write a Python program to print alphabet pattern 'Q'.**"
   ]
  },
  {
   "cell_type": "code",
   "execution_count": 17,
   "metadata": {},
   "outputs": [
    {
     "name": "stdout",
     "output_type": "stream",
     "text": [
      " *** \n",
      "*   *\n",
      "*  **\n",
      "*   *\n",
      " *** \n"
     ]
    }
   ],
   "source": [
    "def print_pattern_Q(size):\n",
    "    for row in range(size):\n",
    "        for col in range(size):\n",
    "            if ((col == 0 or col == size - 1) and (row != 0 and row != size - 1)) or ((row == 0 or row == size - 1) and (col > 0 and col < size - 1)) or (row == size // 2 and col > size // 2):\n",
    "                print(\"*\", end=\"\")\n",
    "            else:\n",
    "                print(\" \", end=\"\")\n",
    "        print()\n",
    "\n",
    "# Example usage:\n",
    "print_pattern_Q(5)"
   ]
  },
  {
   "cell_type": "markdown",
   "metadata": {},
   "source": [
    "**21. Write a Python program to print alphabet pattern 'L'.**"
   ]
  },
  {
   "cell_type": "code",
   "execution_count": 13,
   "metadata": {},
   "outputs": [
    {
     "name": "stdout",
     "output_type": "stream",
     "text": [
      "*    \n",
      "*    \n",
      "*    \n",
      "*    \n",
      "*****\n"
     ]
    }
   ],
   "source": [
    "def print_pattern_L(size):\n",
    "    for row in range(size):\n",
    "        for col in range(size):\n",
    "            if col == 0 or row == size - 1:\n",
    "                print(\"*\", end=\"\")\n",
    "            else:\n",
    "                print(\" \", end=\"\")\n",
    "        print()\n",
    "\n",
    "# Example usage:\n",
    "print_pattern_L(5)"
   ]
  },
  {
   "cell_type": "markdown",
   "metadata": {},
   "source": [
    "**22. Write a Python program to print alphabet pattern 'J'.**"
   ]
  },
  {
   "cell_type": "code",
   "execution_count": 15,
   "metadata": {},
   "outputs": [
    {
     "name": "stdout",
     "output_type": "stream",
     "text": [
      "***  \n",
      "  *  \n",
      "  *  \n",
      "* *  \n",
      "***  \n"
     ]
    }
   ],
   "source": [
    "def print_pattern_J(size):\n",
    "    for row in range(size):\n",
    "        for col in range(size):\n",
    "            if col == size // 2 or (row == 0 and col < size // 2) or (row == size - 1 and col <= size // 2) or (row > size // 2 and col == 0):\n",
    "                print(\"*\", end=\"\")\n",
    "            else:\n",
    "                print(\" \", end=\"\")\n",
    "        print()\n",
    "\n",
    "# Example usage:\n",
    "print_pattern_J(5)\n"
   ]
  },
  {
   "cell_type": "markdown",
   "metadata": {},
   "source": [
    "**23. Write a Python program to print alphabet pattern 'O'.**"
   ]
  },
  {
   "cell_type": "code",
   "execution_count": 16,
   "metadata": {},
   "outputs": [
    {
     "name": "stdout",
     "output_type": "stream",
     "text": [
      " *** \n",
      "*   *\n",
      "*   *\n",
      "*   *\n",
      " *** \n"
     ]
    }
   ],
   "source": [
    "def print_pattern_O(size):\n",
    "    for row in range(size):\n",
    "        for col in range(size):\n",
    "            if ((col == 0 or col == size - 1) and (row != 0 and row != size - 1)) or ((row == 0 or row == size - 1) and (col > 0 and col < size - 1)):\n",
    "                print(\"*\", end=\"\")\n",
    "            else:\n",
    "                print(\" \", end=\"\")\n",
    "        print()\n",
    "\n",
    "# Example usage:\n",
    "print_pattern_O(5)"
   ]
  },
  {
   "cell_type": "markdown",
   "metadata": {},
   "source": [
    "**24. Given a sorted array of integers and a target value, find the starting and ending position of the target value using binary search.**"
   ]
  },
  {
   "cell_type": "code",
   "execution_count": 18,
   "metadata": {},
   "outputs": [
    {
     "name": "stdout",
     "output_type": "stream",
     "text": [
      "[3, 4]\n"
     ]
    }
   ],
   "source": [
    "def searchRange(nums, target):\n",
    "    def find_start(nums, target):\n",
    "        start = 0\n",
    "        end = len(nums) - 1\n",
    "        while start <= end:\n",
    "            mid = (start + end) // 2\n",
    "            if nums[mid] < target:\n",
    "                start = mid + 1\n",
    "            else:\n",
    "                end = mid - 1\n",
    "        return start\n",
    "\n",
    "    def find_end(nums, target):\n",
    "        start = 0\n",
    "        end = len(nums) - 1\n",
    "        while start <= end:\n",
    "            mid = (start + end) // 2\n",
    "            if nums[mid] <= target:\n",
    "                start = mid + 1\n",
    "            else:\n",
    "                end = mid - 1\n",
    "        return end\n",
    "\n",
    "    start_index = find_start(nums, target)\n",
    "    end_index = find_end(nums, target)\n",
    "\n",
    "    if start_index <= end_index:\n",
    "        return [start_index, end_index]\n",
    "    else:\n",
    "        return [-1, -1]\n",
    "\n",
    "# Example usage:\n",
    "nums = [5, 7, 7, 8, 8, 10]\n",
    "target = 8\n",
    "print(searchRange(nums, target))  # Output: [3, 4]"
   ]
  },
  {
   "cell_type": "markdown",
   "metadata": {},
   "source": [
    "**25.  Implement binary search for a sorted list.**"
   ]
  },
  {
   "cell_type": "code",
   "execution_count": 19,
   "metadata": {},
   "outputs": [
    {
     "name": "stdout",
     "output_type": "stream",
     "text": [
      "Target 9 found at index 4.\n"
     ]
    }
   ],
   "source": [
    "def binary_search(nums, target):\n",
    "    left, right = 0, len(nums) - 1\n",
    "\n",
    "    while left <= right:\n",
    "        mid = (left + right) // 2\n",
    "        if nums[mid] == target:\n",
    "            return mid\n",
    "        elif nums[mid] < target:\n",
    "            left = mid + 1\n",
    "        else:\n",
    "            right = mid - 1\n",
    "\n",
    "    return -1\n",
    "\n",
    "# Example usage:\n",
    "nums = [1, 3, 5, 7, 9, 11, 13, 15, 17]\n",
    "target = 9\n",
    "index = binary_search(nums, target)\n",
    "if index != -1:\n",
    "    print(f\"Target {target} found at index {index}.\")\n",
    "else:\n",
    "    print(f\"Target {target} not found in the list.\")"
   ]
  },
  {
   "cell_type": "markdown",
   "metadata": {},
   "source": [
    "**26.  Implement DFS for a graph.**"
   ]
  },
  {
   "cell_type": "code",
   "execution_count": 20,
   "metadata": {},
   "outputs": [
    {
     "name": "stdout",
     "output_type": "stream",
     "text": [
      "DFS traversal starting from node 'A':\n",
      "A B D E F C "
     ]
    }
   ],
   "source": [
    "def dfs(graph, start, visited=None):\n",
    "    if visited is None:\n",
    "        visited = set()\n",
    "    visited.add(start)\n",
    "    print(start, end=' ')\n",
    "\n",
    "    for neighbor in graph[start]:\n",
    "        if neighbor not in visited:\n",
    "            dfs(graph, neighbor, visited)\n",
    "\n",
    "# Example usage:\n",
    "graph = {\n",
    "    'A': ['B', 'C'],\n",
    "    'B': ['A', 'D', 'E'],\n",
    "    'C': ['A', 'F'],\n",
    "    'D': ['B'],\n",
    "    'E': ['B', 'F'],\n",
    "    'F': ['C', 'E']\n",
    "}\n",
    "\n",
    "print(\"DFS traversal starting from node 'A':\")\n",
    "dfs(graph, 'A')"
   ]
  },
  {
   "cell_type": "markdown",
   "metadata": {},
   "source": [
    "**27. Given an array of integers nums and an integer target, return the indices of the two numbers such that they add up to target.**"
   ]
  },
  {
   "cell_type": "code",
   "execution_count": 22,
   "metadata": {},
   "outputs": [
    {
     "name": "stdout",
     "output_type": "stream",
     "text": [
      "[0, 1]\n"
     ]
    }
   ],
   "source": [
    "def two_sum(nums, target):\n",
    "    num_indices = {}\n",
    "    for i, num in enumerate(nums):\n",
    "        complement = target - num\n",
    "        if complement in num_indices:\n",
    "            return [num_indices[complement], i]\n",
    "        num_indices[num] = i\n",
    "    return None\n",
    "\n",
    "# Example usage:\n",
    "nums = [2, 7, 11, 15]\n",
    "target = 9\n",
    "print(two_sum(nums, target))  # Output: [0, 1] (indices of numbers 2 and 7)"
   ]
  },
  {
   "cell_type": "markdown",
   "metadata": {},
   "source": [
    "**28. You are given two non-empty linked lists representing two non-negative integers. The digits are stored in reverse order, and each of their nodes contains a single digit. Add the two numbers and return the sum as a linked list.**"
   ]
  },
  {
   "cell_type": "code",
   "execution_count": 23,
   "metadata": {},
   "outputs": [
    {
     "name": "stdout",
     "output_type": "stream",
     "text": [
      "7 0 8 "
     ]
    }
   ],
   "source": [
    "class ListNode:\n",
    "    def __init__(self, val=0, next=None):\n",
    "        self.val = val\n",
    "        self.next = next\n",
    "\n",
    "def add_two_numbers(l1, l2):\n",
    "    dummy_head = ListNode()\n",
    "    current = dummy_head\n",
    "    carry = 0\n",
    "    \n",
    "    while l1 or l2:\n",
    "        # Get the values of current nodes or default to 0\n",
    "        val1 = l1.val if l1 else 0\n",
    "        val2 = l2.val if l2 else 0\n",
    "        \n",
    "        # Calculate the sum of current digits and carry\n",
    "        total = val1 + val2 + carry\n",
    "        \n",
    "        # Update carry\n",
    "        carry = total // 10\n",
    "        \n",
    "        # Update current node with the remainder\n",
    "        current.next = ListNode(total % 10)\n",
    "        current = current.next\n",
    "        \n",
    "        # Move to the next nodes\n",
    "        if l1:\n",
    "            l1 = l1.next\n",
    "        if l2:\n",
    "            l2 = l2.next\n",
    "    \n",
    "    # If there is a carry after the last addition, add a new node\n",
    "    if carry > 0:\n",
    "        current.next = ListNode(carry)\n",
    "    \n",
    "    return dummy_head.next\n",
    "\n",
    "# Example usage:\n",
    "# Create linked list 1: 2 -> 4 -> 3 (representing 342)\n",
    "l1 = ListNode(2)\n",
    "l1.next = ListNode(4)\n",
    "l1.next.next = ListNode(3)\n",
    "\n",
    "# Create linked list 2: 5 -> 6 -> 4 (representing 465)\n",
    "l2 = ListNode(5)\n",
    "l2.next = ListNode(6)\n",
    "l2.next.next = ListNode(4)\n",
    "\n",
    "result = add_two_numbers(l1, l2)\n",
    "while result:\n",
    "    print(result.val, end=\" \")\n",
    "    result = result.next"
   ]
  },
  {
   "cell_type": "markdown",
   "metadata": {},
   "source": [
    "**29. Given a string s, find the length of the longest substring without repeating characters.**"
   ]
  },
  {
   "cell_type": "code",
   "execution_count": 24,
   "metadata": {},
   "outputs": [
    {
     "name": "stdout",
     "output_type": "stream",
     "text": [
      "3\n"
     ]
    }
   ],
   "source": [
    "def length_of_longest_substring(s):\n",
    "    if not s:\n",
    "        return 0\n",
    "    \n",
    "    max_length = 0\n",
    "    start = 0\n",
    "    char_indices = {}\n",
    "    \n",
    "    for end, char in enumerate(s):\n",
    "        if char in char_indices and char_indices[char] >= start:\n",
    "            start = char_indices[char] + 1\n",
    "        char_indices[char] = end\n",
    "        max_length = max(max_length, end - start + 1)\n",
    "    \n",
    "    return max_length\n",
    "\n",
    "# Example usage:\n",
    "s = \"abcabcbb\"\n",
    "print(length_of_longest_substring(s))  # Output: 3 (the longest substring without repeating characters is \"abc\")"
   ]
  },
  {
   "cell_type": "markdown",
   "metadata": {},
   "source": [
    "**30. There are two sorted arrays nums1 and nums2 of size `m` and `n` respectively. Find the median of the two sorted arrays.**"
   ]
  },
  {
   "cell_type": "code",
   "execution_count": 25,
   "metadata": {},
   "outputs": [
    {
     "name": "stdout",
     "output_type": "stream",
     "text": [
      "2\n"
     ]
    }
   ],
   "source": [
    "def findMedianSortedArrays(nums1, nums2):\n",
    "    merged = []\n",
    "    i = j = 0\n",
    "    while i < len(nums1) and j < len(nums2):\n",
    "        if nums1[i] < nums2[j]:\n",
    "            merged.append(nums1[i])\n",
    "            i += 1\n",
    "        else:\n",
    "            merged.append(nums2[j])\n",
    "            j += 1\n",
    "\n",
    "    merged.extend(nums1[i:])\n",
    "    merged.extend(nums2[j:])\n",
    "\n",
    "    total_length = len(merged)\n",
    "    if total_length % 2 == 0:\n",
    "        return (merged[total_length // 2 - 1] + merged[total_length // 2]) / 2\n",
    "    else:\n",
    "        return merged[total_length // 2]\n",
    "\n",
    "# Example usage:\n",
    "nums1 = [1, 3]\n",
    "nums2 = [2]\n",
    "print(findMedianSortedArrays(nums1, nums2))  # Output: 2.0"
   ]
  },
  {
   "cell_type": "markdown",
   "metadata": {},
   "source": [
    "**31. `3Sum` Given an array nums of n integers, are there elements a, b, c in nums such that a + b + c = 0? Find all unique triplets in the array which gives the sum of zero.**"
   ]
  },
  {
   "cell_type": "code",
   "execution_count": 26,
   "metadata": {},
   "outputs": [
    {
     "name": "stdout",
     "output_type": "stream",
     "text": [
      "[[-1, -1, 2], [-1, 0, 1]]\n"
     ]
    }
   ],
   "source": [
    "def threeSum(nums):\n",
    "    nums.sort()\n",
    "    result = []\n",
    "    n = len(nums)\n",
    "\n",
    "    for i in range(n - 2):\n",
    "        if i > 0 and nums[i] == nums[i - 1]:\n",
    "            continue\n",
    "\n",
    "        left, right = i + 1, n - 1\n",
    "        while left < right:\n",
    "            total = nums[i] + nums[left] + nums[right]\n",
    "            if total < 0:\n",
    "                left += 1\n",
    "            elif total > 0:\n",
    "                right -= 1\n",
    "            else:\n",
    "                result.append([nums[i], nums[left], nums[right]])\n",
    "                while left < right and nums[left] == nums[left + 1]:\n",
    "                    left += 1\n",
    "                while left < right and nums[right] == nums[right - 1]:\n",
    "                    right -= 1\n",
    "                left += 1\n",
    "                right -= 1\n",
    "\n",
    "    return result\n",
    "\n",
    "# Example usage:\n",
    "nums = [-1, 0, 1, 2, -1, -4]\n",
    "print(threeSum(nums))  # Output: [[-1, -1, 2], [-1, 0, 1]]"
   ]
  },
  {
   "cell_type": "markdown",
   "metadata": {},
   "source": [
    "**32. Given a non-empty binary tree, find the maximum path sum. For this problem, a path is defined as any sequence of nodes from some starting node to any node in the tree along the parent-child connections.**"
   ]
  },
  {
   "cell_type": "code",
   "execution_count": 28,
   "metadata": {},
   "outputs": [
    {
     "name": "stdout",
     "output_type": "stream",
     "text": [
      "6\n"
     ]
    }
   ],
   "source": [
    "class TreeNode:\n",
    "    def __init__(self, val=0, left=None, right=None):\n",
    "        self.val = val\n",
    "        self.left = left\n",
    "        self.right = right\n",
    "\n",
    "class Solution:\n",
    "    def maxPathSum(self, root):\n",
    "        def max_gain(node):\n",
    "            if not node:\n",
    "                return 0\n",
    "\n",
    "            # Calculate the maximum gain for the left and right subtrees\n",
    "            left_gain = max(max_gain(node.left), 0)\n",
    "            right_gain = max(max_gain(node.right), 0)\n",
    "\n",
    "            # Calculate the maximum path sum for the subtree rooted at the current node\n",
    "            local_max_path_sum = node.val + left_gain + right_gain\n",
    "\n",
    "            # Update the global maximum path sum found so far\n",
    "            self.max_path_sum = max(self.max_path_sum, local_max_path_sum)\n",
    "\n",
    "            # Return the maximum gain for the current node's subtree\n",
    "            return node.val + max(left_gain, right_gain)\n",
    "\n",
    "        # Initialize the global maximum path sum\n",
    "        self.max_path_sum = float('-inf')\n",
    "        max_gain(root)\n",
    "        return self.max_path_sum\n",
    "\n",
    "# Example usage:\n",
    "root = TreeNode(1)\n",
    "root.left = TreeNode(2)\n",
    "root.right = TreeNode(3)\n",
    "solution = Solution()\n",
    "print(solution.maxPathSum(root))  # Output: 6 (path: 2 -> 1 -> 3)"
   ]
  },
  {
   "cell_type": "markdown",
   "metadata": {},
   "source": [
    "**33. Given two strings `s` and `t`, return the minimum window in `s` which will contain all the characters in `t`**"
   ]
  },
  {
   "cell_type": "code",
   "execution_count": 29,
   "metadata": {},
   "outputs": [
    {
     "name": "stdout",
     "output_type": "stream",
     "text": [
      "BANC\n"
     ]
    }
   ],
   "source": [
    "from collections import Counter\n",
    "\n",
    "def minWindow(s, t):\n",
    "    if not s or not t:\n",
    "        return \"\"\n",
    "\n",
    "    target_counts = Counter(t)\n",
    "    required_chars = len(target_counts)\n",
    "    formed_chars = 0\n",
    "    window_counts = {}\n",
    "    left, right = 0, 0\n",
    "    min_window_size = float('inf')\n",
    "    min_window_start = 0\n",
    "\n",
    "    while right < len(s):\n",
    "        char = s[right]\n",
    "        window_counts[char] = window_counts.get(char, 0) + 1\n",
    "\n",
    "        if char in target_counts and window_counts[char] == target_counts[char]:\n",
    "            formed_chars += 1\n",
    "\n",
    "        while formed_chars == required_chars and left <= right:\n",
    "            char = s[left]\n",
    "            if right - left + 1 < min_window_size:\n",
    "                min_window_size = right - left + 1\n",
    "                min_window_start = left\n",
    "\n",
    "            window_counts[char] -= 1\n",
    "            if char in target_counts and window_counts[char] < target_counts[char]:\n",
    "                formed_chars -= 1\n",
    "\n",
    "            left += 1\n",
    "\n",
    "        right += 1\n",
    "\n",
    "    if min_window_size == float('inf'):\n",
    "        return \"\"\n",
    "    else:\n",
    "        return s[min_window_start:min_window_start + min_window_size]\n",
    "\n",
    "# Example usage:\n",
    "s = \"ADOBECODEBANC\"\n",
    "t = \"ABC\"\n",
    "print(minWindow(s, t))  # Output: \"BANC\""
   ]
  },
  {
   "cell_type": "markdown",
   "metadata": {},
   "source": [
    "**34. Given an `m x n` 2D binary grid grid which represents a map of '1's (land) and '0's (water), return the number of islands.**"
   ]
  },
  {
   "cell_type": "code",
   "execution_count": 30,
   "metadata": {},
   "outputs": [
    {
     "name": "stdout",
     "output_type": "stream",
     "text": [
      "1\n"
     ]
    }
   ],
   "source": [
    "def numIslands(grid):\n",
    "    def dfs(i, j):\n",
    "        if i < 0 or i >= len(grid) or j < 0 or j >= len(grid[0]) or grid[i][j] == '0':\n",
    "            return\n",
    "        grid[i][j] = '0'\n",
    "        dfs(i + 1, j)\n",
    "        dfs(i - 1, j)\n",
    "        dfs(i, j + 1)\n",
    "        dfs(i, j - 1)\n",
    "\n",
    "    if not grid:\n",
    "        return 0\n",
    "\n",
    "    num_rows, num_cols = len(grid), len(grid[0])\n",
    "    num_islands = 0\n",
    "\n",
    "    for i in range(num_rows):\n",
    "        for j in range(num_cols):\n",
    "            if grid[i][j] == '1':\n",
    "                num_islands += 1\n",
    "                dfs(i, j)\n",
    "\n",
    "    return num_islands\n",
    "\n",
    "# Example usage:\n",
    "grid = [\n",
    "    [\"1\", \"1\", \"1\", \"1\", \"0\"],\n",
    "    [\"1\", \"1\", \"0\", \"1\", \"0\"],\n",
    "    [\"1\", \"1\", \"0\", \"0\", \"0\"],\n",
    "    [\"0\", \"0\", \"0\", \"0\", \"0\"]\n",
    "]\n",
    "print(numIslands(grid))  # Output: 1"
   ]
  },
  {
   "cell_type": "markdown",
   "metadata": {},
   "source": [
    "> This function numIslands takes a 2D binary grid grid as input and returns the number of islands. It iterates through each cell of the grid, and if it encounters land ('1'), it performs DFS to explore the entire island and mark all its cells as visited by changing them to '0'. It increments the count of islands each time it encounters unvisited land cells. Finally, it returns the count of islands found."
   ]
  },
  {
   "cell_type": "markdown",
   "metadata": {},
   "source": [
    "**35. Write a Python function to merge two dictionaries. If both dictionaries have the same key, prefer the second dictionary's value.**"
   ]
  },
  {
   "cell_type": "code",
   "execution_count": 31,
   "metadata": {},
   "outputs": [
    {
     "name": "stdout",
     "output_type": "stream",
     "text": [
      "{'a': 1, 'b': 4, 'c': 5, 'd': 6}\n"
     ]
    }
   ],
   "source": [
    "def merge_dictionaries(dict1, dict2):\n",
    "    merged_dict = dict1.copy()\n",
    "    merged_dict.update(dict2)\n",
    "    return merged_dict\n",
    "\n",
    "# Example usage:\n",
    "dict1 = {'a': 1, 'b': 2, 'c': 3}\n",
    "dict2 = {'b': 4, 'c': 5, 'd': 6}\n",
    "merged = merge_dictionaries(dict1, dict2)\n",
    "print(merged)  # Output: {'a': 1, 'b': 4, 'c': 5, 'd': 6}"
   ]
  },
  {
   "cell_type": "markdown",
   "metadata": {},
   "source": [
    "**36. Write a function that returns the longest consecutive subsequence in a list of numbers.**"
   ]
  },
  {
   "cell_type": "code",
   "execution_count": 32,
   "metadata": {},
   "outputs": [
    {
     "name": "stdout",
     "output_type": "stream",
     "text": [
      "[5, 6, 7, 8]\n"
     ]
    }
   ],
   "source": [
    "def longest_consecutive_subsequence(nums):\n",
    "    if not nums:\n",
    "        return []\n",
    "    nums = sorted(set(nums))\n",
    "    longest_streak = []\n",
    "    current_streak = [nums[0]]\n",
    "\n",
    "    for i in range(1, len(nums)):\n",
    "        if nums[i] - nums[i - 1] == 1:\n",
    "            current_streak.append(nums[i])\n",
    "        else:\n",
    "            if len(current_streak) > len(longest_streak):\n",
    "                longest_streak = current_streak\n",
    "            current_streak = [nums[i]]\n",
    "\n",
    "    return longest_streak if len(longest_streak) > len(current_streak) else current_streak\n",
    "\n",
    "numbers = [1, 2, 3, 5, 6, 7, 8, 10]\n",
    "print(longest_consecutive_subsequence(numbers))  # Output: [5, 6, 7, 8]"
   ]
  },
  {
   "cell_type": "markdown",
   "metadata": {},
   "source": [
    "**37. Write a function to compute the square root of a given non-negative integer n without using built-in square root functions or libraries. Return the floor value of the result.**"
   ]
  },
  {
   "cell_type": "code",
   "execution_count": 33,
   "metadata": {},
   "outputs": [
    {
     "name": "stdout",
     "output_type": "stream",
     "text": [
      "4\n"
     ]
    }
   ],
   "source": [
    "def sqrt(n):\n",
    "    if n < 0:\n",
    "        return None\n",
    "    if n == 1:\n",
    "        return 1\n",
    "    start, end = 0, n\n",
    "    while start <= end:\n",
    "        mid = (start + end) // 2\n",
    "        if mid * mid == n:\n",
    "            return mid\n",
    "        elif mid * mid < n:\n",
    "            start = mid + 1\n",
    "            ans = mid\n",
    "        else:\n",
    "            end = mid - 1\n",
    "    return ans\n",
    "\n",
    "number = 17\n",
    "print(sqrt(number))  # Output: 4"
   ]
  },
  {
   "cell_type": "markdown",
   "metadata": {},
   "source": [
    "**38. Given a list of integers, write a function to move all zeros to the end of the list while maintaining the order of the other elements.**"
   ]
  },
  {
   "cell_type": "code",
   "execution_count": 34,
   "metadata": {},
   "outputs": [
    {
     "name": "stdout",
     "output_type": "stream",
     "text": [
      "[1, 2, 4, 5, 6, 0, 0, 0]\n"
     ]
    }
   ],
   "source": [
    "def move_zeros(nums):\n",
    "    count = nums.count(0)\n",
    "    nums = [num for num in nums if num != 0]\n",
    "    nums.extend([0] * count)\n",
    "    return nums\n",
    "\n",
    "numbers = [1, 2, 0, 4, 0, 5, 6, 0]\n",
    "print(move_zeros(numbers))  # Output: [1, 2, 4, 5, 6, 0, 0, 0]"
   ]
  },
  {
   "cell_type": "markdown",
   "metadata": {},
   "source": [
    "**39. Write a function that returns the sum of two numbers represented as strings. Your function should not use built-in arithmetic operators or functions.**"
   ]
  },
  {
   "cell_type": "code",
   "execution_count": 35,
   "metadata": {},
   "outputs": [
    {
     "name": "stdout",
     "output_type": "stream",
     "text": [
      "912\n"
     ]
    }
   ],
   "source": [
    "def add_strings(num1, num2):\n",
    "    res, carry, i, j = \"\", 0, len(num1) - 1, len(num2) - 1\n",
    "    while i >= 0 or j >= 0 or carry:\n",
    "        n1 = int(num1[i]) if i >= 0 else 0\n",
    "        n2 = int(num2[j]) if j >= 0 else 0\n",
    "        temp_sum = n1 + n2 + carry\n",
    "        res = str(temp_sum % 10) + res\n",
    "        carry = temp_sum // 10\n",
    "        i, j = i - 1, j - 1\n",
    "    return res\n",
    "\n",
    "n1 = \"123\"\n",
    "n2 = \"789\"\n",
    "print(add_strings(n1, n2))  # Output: \"912\""
   ]
  },
  {
   "cell_type": "markdown",
   "metadata": {},
   "source": [
    "**40. Write a function that checks if a given binary tree is a valid binary search tree.**"
   ]
  },
  {
   "cell_type": "code",
   "execution_count": 36,
   "metadata": {},
   "outputs": [
    {
     "name": "stdout",
     "output_type": "stream",
     "text": [
      "True\n"
     ]
    }
   ],
   "source": [
    "class TreeNode:\n",
    "    def __init__(self, value=0, left=None, right=None):\n",
    "        self.value = value\n",
    "        self.left = left\n",
    "        self.right = right\n",
    "\n",
    "def is_valid_bst(root, left=None, right=None):\n",
    "    if not root:\n",
    "        return True\n",
    "    if left and root.value <= left.value:\n",
    "        return False\n",
    "    if right and root.value >= right.value:\n",
    "        return False\n",
    "    return is_valid_bst(root.left, left, root) and is_valid_bst(root.right, root, right)\n",
    "\n",
    "# Example usage:\n",
    "root = TreeNode(2, TreeNode(1), TreeNode(3))\n",
    "print(is_valid_bst(root))  # Output: True"
   ]
  },
  {
   "cell_type": "markdown",
   "metadata": {},
   "source": [
    "**41. Imagine you are building an e-commerce website. Write a Python function to calculate the total price of items in a shopping cart, including taxes and discounts.**\n",
    "> Asked in Amazon Interview"
   ]
  },
  {
   "cell_type": "code",
   "execution_count": 37,
   "metadata": {},
   "outputs": [
    {
     "name": "stdout",
     "output_type": "stream",
     "text": [
      "Total price including taxes and discounts: 89.25\n"
     ]
    }
   ],
   "source": [
    "def calculate_total_price(cart_items, tax_rate=0.1, discount=0):\n",
    "    subtotal = sum(item['price'] * item['quantity'] for item in cart_items)\n",
    "    tax_amount = subtotal * tax_rate\n",
    "    discount_amount = subtotal * discount\n",
    "    total_price = subtotal + tax_amount - discount_amount\n",
    "    return total_price\n",
    "\n",
    "# Example usage:\n",
    "cart_items = [\n",
    "    {\"name\": \"Product 1\", \"price\": 10, \"quantity\": 2},\n",
    "    {\"name\": \"Product 2\", \"price\": 20, \"quantity\": 1},\n",
    "    {\"name\": \"Product 3\", \"price\": 15, \"quantity\": 3}\n",
    "]\n",
    "\n",
    "total_price = calculate_total_price(cart_items, tax_rate=0.1, discount=0.05)\n",
    "print(\"Total price including taxes and discounts:\", total_price)"
   ]
  },
  {
   "cell_type": "markdown",
   "metadata": {},
   "source": [
    "**42. In a supply chain management system, you need to optimize the route for delivering products to different locations. Write a Python program to find the shortest path between multiple locations using Dijkstra's algorithm.**\n",
    "\n",
    "> Asked in Amazon"
   ]
  },
  {
   "cell_type": "code",
   "execution_count": 38,
   "metadata": {},
   "outputs": [
    {
     "name": "stdout",
     "output_type": "stream",
     "text": [
      "Shortest path from A to B: ['A', 'C', 'B'] with length 4\n",
      "Shortest path from A to C: ['A', 'C'] with length 3\n",
      "Shortest path from A to D: ['A', 'C', 'D'] with length 4\n",
      "Shortest path from A to E: ['A', 'C', 'E'] with length 7\n"
     ]
    }
   ],
   "source": [
    "import networkx as nx\n",
    "\n",
    "def shortest_path_between_locations(locations, edges, source, targets):\n",
    "    # Create a graph\n",
    "    G = nx.Graph()\n",
    "\n",
    "    # Add nodes (locations)\n",
    "    G.add_nodes_from(locations)\n",
    "\n",
    "    # Add edges with weights (distances)\n",
    "    G.add_weighted_edges_from(edges)\n",
    "\n",
    "    # Find shortest paths from the source to all target locations\n",
    "    shortest_paths = {}\n",
    "    for target in targets:\n",
    "        shortest_path = nx.dijkstra_path(G, source, target)\n",
    "        shortest_path_length = nx.dijkstra_path_length(G, source, target)\n",
    "        shortest_paths[target] = {\"path\": shortest_path, \"length\": shortest_path_length}\n",
    "\n",
    "    return shortest_paths\n",
    "\n",
    "# Example usage:\n",
    "locations = ['A', 'B', 'C', 'D', 'E']\n",
    "edges = [('A', 'B', 5), ('A', 'C', 3), ('B', 'C', 1), ('B', 'D', 2), ('C', 'D', 1), ('C', 'E', 4), ('D', 'E', 6)]\n",
    "source = 'A'\n",
    "targets = ['B', 'C', 'D', 'E']\n",
    "\n",
    "shortest_paths = shortest_path_between_locations(locations, edges, source, targets)\n",
    "for target, path_info in shortest_paths.items():\n",
    "    print(f\"Shortest path from {source} to {target}: {path_info['path']} with length {path_info['length']}\")"
   ]
  },
  {
   "cell_type": "markdown",
   "metadata": {},
   "source": [
    "**43. You are developing a banking application. Write a Python function to check if a given credit card number is valid using the Luhn algorithm.**\n",
    "> Asked in IDFC Interview SDE-2"
   ]
  },
  {
   "cell_type": "code",
   "execution_count": 39,
   "metadata": {},
   "outputs": [
    {
     "name": "stdout",
     "output_type": "stream",
     "text": [
      "True\n"
     ]
    }
   ],
   "source": [
    "def is_valid_credit_card(number):\n",
    "    number = str(number)\n",
    "    # Remove any non-digit characters\n",
    "    number = ''.join(char for char in number if char.isdigit())\n",
    "\n",
    "    if len(number) < 2:\n",
    "        return False\n",
    "    \n",
    "    total = 0\n",
    "    length = len(number)\n",
    "    parity = length % 2\n",
    "    for i, digit in enumerate(number):\n",
    "        digit = int(digit)\n",
    "        if i % 2 == parity:\n",
    "            digit *= 2\n",
    "            if digit > 9:\n",
    "                digit -= 9\n",
    "        total += digit\n",
    "\n",
    "    return total % 10 == 0\n",
    "\n",
    "# Example usage:\n",
    "credit_card_number = \"4556737586899855\"\n",
    "print(is_valid_credit_card(credit_card_number))  # Output: True"
   ]
  },
  {
   "cell_type": "markdown",
   "metadata": {},
   "source": [
    "**44. You are building a social media analytics tool. Write a Python program to analyze user engagement by calculating the average number of likes and comments per post over a given period.**\n",
    "\n",
    "> Asked in Amazon"
   ]
  },
  {
   "cell_type": "code",
   "execution_count": 40,
   "metadata": {},
   "outputs": [
    {
     "name": "stdout",
     "output_type": "stream",
     "text": [
      "Average likes per post: 21.666666666666668\n",
      "Average comments per post: 6.0\n"
     ]
    }
   ],
   "source": [
    "def analyze_engagement(posts):\n",
    "    total_likes = 0\n",
    "    total_comments = 0\n",
    "    total_posts = len(posts)\n",
    "\n",
    "    for post in posts:\n",
    "        total_likes += post.get('likes', 0)\n",
    "        total_comments += post.get('comments', 0)\n",
    "\n",
    "    if total_posts == 0:\n",
    "        return 0, 0\n",
    "    \n",
    "    average_likes = total_likes / total_posts\n",
    "    average_comments = total_comments / total_posts\n",
    "\n",
    "    return average_likes, average_comments\n",
    "\n",
    "# Example usage:\n",
    "posts = [\n",
    "    {\"likes\": 20, \"comments\": 5},\n",
    "    {\"likes\": 15, \"comments\": 3},\n",
    "    {\"likes\": 30, \"comments\": 10}\n",
    "]\n",
    "\n",
    "average_likes, average_comments = analyze_engagement(posts)\n",
    "print(\"Average likes per post:\", average_likes)\n",
    "print(\"Average comments per post:\", average_comments)"
   ]
  },
  {
   "cell_type": "markdown",
   "metadata": {},
   "source": [
    "**45. You are given a list of integers representing stock prices for a particular stock on consecutive days. Write a Python function to find the maximum profit that can be obtained by buying and selling the stock once. The buying price must occur before the selling price.**"
   ]
  },
  {
   "cell_type": "code",
   "execution_count": 46,
   "metadata": {},
   "outputs": [
    {
     "name": "stdout",
     "output_type": "stream",
     "text": [
      "Maximum profit: 5\n"
     ]
    }
   ],
   "source": [
    "def max_profit(prices):\n",
    "    if len(prices) < 2:\n",
    "        return 0\n",
    "    \n",
    "    min_price = prices[0]\n",
    "    max_profit = 0\n",
    "    \n",
    "    for price in prices[1:]:\n",
    "        max_profit = max(max_profit, price - min_price)\n",
    "        min_price = min(min_price, price)\n",
    "    \n",
    "    return max_profit\n",
    "\n",
    "# Example usage:\n",
    "stock_prices = [7, 1, 5, 3, 6, 4]\n",
    "print(\"Maximum profit:\", max_profit(stock_prices))  # Output: 5 (buy at 1, sell at 6)"
   ]
  },
  {
   "cell_type": "markdown",
   "metadata": {},
   "source": [
    "**46. Write a function to find the longest common prefix of a list of strings.**"
   ]
  },
  {
   "cell_type": "code",
   "execution_count": 47,
   "metadata": {},
   "outputs": [
    {
     "name": "stdout",
     "output_type": "stream",
     "text": [
      "Longest Common Prefix: fl\n"
     ]
    }
   ],
   "source": [
    "def longest_common_prefix(strs):\n",
    "    if not strs:\n",
    "        return \"\"\n",
    "    \n",
    "    min_len = min(len(s) for s in strs)\n",
    "    prefix = \"\"\n",
    "    for i in range(min_len):\n",
    "        char = strs[0][i]\n",
    "        if all(s[i] == char for s in strs):\n",
    "            prefix += char\n",
    "        else:\n",
    "            break\n",
    "    return prefix\n",
    "\n",
    "# Example usage:\n",
    "str_list = [\"flower\", \"flow\", \"flight\"]\n",
    "print(\"Longest Common Prefix:\", longest_common_prefix(str_list))  # Output: \"fl\""
   ]
  },
  {
   "cell_type": "markdown",
   "metadata": {},
   "source": [
    " **47. Write a function to determine if two strings are one edit (or zero edits) away.**"
   ]
  },
  {
   "cell_type": "code",
   "execution_count": 49,
   "metadata": {},
   "outputs": [
    {
     "name": "stdout",
     "output_type": "stream",
     "text": [
      "True\n",
      "False\n"
     ]
    }
   ],
   "source": [
    "def one_edit_away(str1, str2):\n",
    "    len1, len2 = len(str1), len(str2)\n",
    "    \n",
    "    # If the difference in lengths is more than 1, they can't be one edit away\n",
    "    if abs(len1 - len2) > 1:\n",
    "        return False\n",
    "    \n",
    "    # Ensure str1 is the shorter string\n",
    "    if len1 > len2:\n",
    "        str1, str2 = str2, str1\n",
    "        len1, len2 = len2, len1\n",
    "    \n",
    "    # Iterate through the strings to find the first differing character\n",
    "    i = j = 0\n",
    "    found_difference = False\n",
    "    while i < len1 and j < len2:\n",
    "        if str1[i] != str2[j]:\n",
    "            # If a difference is found and it's the first one, continue\n",
    "            if found_difference:\n",
    "                return False\n",
    "            found_difference = True\n",
    "            \n",
    "            # If lengths are equal, move to next characters in both strings\n",
    "            if len1 == len2:\n",
    "                i += 1\n",
    "        else:\n",
    "            i += 1\n",
    "        j += 1\n",
    "    \n",
    "    return True\n",
    "\n",
    "# Example usage:\n",
    "str1 = \"pale\"\n",
    "str2 = \"ple\"\n",
    "str3 = \"bake\"\n",
    "print(one_edit_away(str1, str2))  # Output: True (pale -> ple, one deletion)\n",
    "print(one_edit_away(str1, str3))  # Output: False"
   ]
  },
  {
   "cell_type": "markdown",
   "metadata": {},
   "source": [
    "**48. Implement a Queue**"
   ]
  },
  {
   "cell_type": "code",
   "execution_count": 50,
   "metadata": {},
   "outputs": [
    {
     "name": "stdout",
     "output_type": "stream",
     "text": [
      "Queue size: 3\n",
      "Dequeue: 1\n",
      "Peek: 2\n",
      "Queue size after dequeue: 2\n"
     ]
    }
   ],
   "source": [
    "class Queue:\n",
    "    def __init__(self):\n",
    "        self.items = []\n",
    "\n",
    "    def is_empty(self):\n",
    "        return len(self.items) == 0\n",
    "\n",
    "    def enqueue(self, item):\n",
    "        self.items.append(item)\n",
    "\n",
    "    def dequeue(self):\n",
    "        if self.is_empty():\n",
    "            raise IndexError(\"Queue is empty\")\n",
    "        return self.items.pop(0)\n",
    "\n",
    "    def peek(self):\n",
    "        if self.is_empty():\n",
    "            raise IndexError(\"Queue is empty\")\n",
    "        return self.items[0]\n",
    "\n",
    "    def size(self):\n",
    "        return len(self.items)\n",
    "\n",
    "# Example usage:\n",
    "q = Queue()\n",
    "q.enqueue(1)\n",
    "q.enqueue(2)\n",
    "q.enqueue(3)\n",
    "\n",
    "print(\"Queue size:\", q.size())  # Output: 3\n",
    "print(\"Dequeue:\", q.dequeue())  # Output: 1\n",
    "print(\"Peek:\", q.peek())        # Output: 2\n",
    "print(\"Queue size after dequeue:\", q.size())  # Output: 2"
   ]
  },
  {
   "cell_type": "markdown",
   "metadata": {},
   "source": [
    "**49. Given an array of meeting time intervals consisting of start and end times [[s1,e1],[s2,e2],...], find the minimum number of conference rooms required.**"
   ]
  },
  {
   "cell_type": "code",
   "execution_count": 51,
   "metadata": {},
   "outputs": [
    {
     "name": "stdout",
     "output_type": "stream",
     "text": [
      "Minimum number of conference rooms required: 2\n"
     ]
    }
   ],
   "source": [
    "def min_conference_rooms(intervals):\n",
    "    if not intervals:\n",
    "        return 0\n",
    "\n",
    "    # Sort the intervals based on their start times\n",
    "    intervals.sort(key=lambda x: x[0])\n",
    "\n",
    "    # Initialize a list to keep track of end times of meetings in each room\n",
    "    end_times = []\n",
    "\n",
    "    # Iterate through the sorted intervals\n",
    "    for interval in intervals:\n",
    "        start, end = interval\n",
    "\n",
    "        # Check if any room is available\n",
    "        found_room = False\n",
    "        for i, room_end_time in enumerate(end_times):\n",
    "            if room_end_time <= start:\n",
    "                # Allocate this room for the current meeting\n",
    "                end_times[i] = end\n",
    "                found_room = True\n",
    "                break\n",
    "\n",
    "        # If no available room found, allocate a new room\n",
    "        if not found_room:\n",
    "            end_times.append(end)\n",
    "\n",
    "    # The length of end_times list represents the minimum number of conference rooms required\n",
    "    return len(end_times)\n",
    "\n",
    "# Example usage:\n",
    "intervals = [[0, 30], [5, 10], [15, 20]]\n",
    "print(\"Minimum number of conference rooms required:\", min_conference_rooms(intervals))  # Output: 2"
   ]
  },
  {
   "cell_type": "markdown",
   "metadata": {},
   "source": [
    "**50. You are given an n x n 2D matrix representing an image, rotate the image by 90 degrees (clockwise).**"
   ]
  },
  {
   "cell_type": "code",
   "execution_count": 52,
   "metadata": {},
   "outputs": [
    {
     "name": "stdout",
     "output_type": "stream",
     "text": [
      "[7, 4, 1]\n",
      "[8, 5, 2]\n",
      "[9, 6, 3]\n"
     ]
    }
   ],
   "source": [
    "def rotate_image(matrix):\n",
    "    n = len(matrix)\n",
    "\n",
    "    # Transpose the matrix\n",
    "    for i in range(n):\n",
    "        for j in range(i, n):\n",
    "            matrix[i][j], matrix[j][i] = matrix[j][i], matrix[i][j]\n",
    "\n",
    "    # Reverse each row\n",
    "    for i in range(n):\n",
    "        matrix[i] = matrix[i][::-1]\n",
    "\n",
    "    return matrix\n",
    "\n",
    "# Example usage:\n",
    "image = [\n",
    "  [1, 2, 3],\n",
    "  [4, 5, 6],\n",
    "  [7, 8, 9]\n",
    "]\n",
    "rotated_image = rotate_image(image)\n",
    "for row in rotated_image:\n",
    "    print(row)"
   ]
  },
  {
   "cell_type": "markdown",
   "metadata": {},
   "source": [
    "> **Congratulations on completing 50 coding questions, everyone! 🎉 Each question conquered reflects your growth and determination. Keep pushing boundaries, embracing challenges, and never lose sight of your passion for coding. Your potential is limitless!**"
   ]
  },
  {
   "cell_type": "markdown",
   "metadata": {},
   "source": [
    "# Happy Learning!"
   ]
  }
 ],
 "metadata": {
  "kernelspec": {
   "display_name": "Python 3",
   "language": "python",
   "name": "python3"
  },
  "language_info": {
   "codemirror_mode": {
    "name": "ipython",
    "version": 3
   },
   "file_extension": ".py",
   "mimetype": "text/x-python",
   "name": "python",
   "nbconvert_exporter": "python",
   "pygments_lexer": "ipython3",
   "version": "3.6.9"
  }
 },
 "nbformat": 4,
 "nbformat_minor": 4
}
