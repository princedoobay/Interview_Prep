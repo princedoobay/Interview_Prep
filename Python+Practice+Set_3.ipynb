{
 "cells": [
  {
   "cell_type": "markdown",
   "metadata": {},
   "source": [
    "**1. Write a function to reverse a string without using any built-in functions.**"
   ]
  },
  {
   "cell_type": "code",
   "execution_count": 1,
   "metadata": {},
   "outputs": [
    {
     "name": "stdout",
     "output_type": "stream",
     "text": [
      "Reversed string: !dlroW ,olleH\n"
     ]
    }
   ],
   "source": [
    "def reverse_string(input_str):\n",
    "    reversed_str = ''\n",
    "    for i in range(len(input_str) - 1, -1, -1):\n",
    "        reversed_str += input_str[i]\n",
    "    return reversed_str\n",
    "\n",
    "# Example usage:\n",
    "input_str = \"Hello, World!\"\n",
    "reversed_str = reverse_string(input_str)\n",
    "print(\"Reversed string:\", reversed_str)"
   ]
  },
  {
   "cell_type": "markdown",
   "metadata": {},
   "source": [
    "**2. Implement a function to find the median of a list of numbers.**"
   ]
  },
  {
   "cell_type": "code",
   "execution_count": 2,
   "metadata": {},
   "outputs": [
    {
     "name": "stdout",
     "output_type": "stream",
     "text": [
      "Median: 4.5\n"
     ]
    }
   ],
   "source": [
    "def find_median(numbers):\n",
    "    sorted_numbers = sorted(numbers)\n",
    "    n = len(sorted_numbers)\n",
    "    if n % 2 == 0:\n",
    "        # If the list has an even number of elements, return the average of the middle two elements\n",
    "        mid_index1 = n // 2 - 1\n",
    "        mid_index2 = n // 2\n",
    "        median = (sorted_numbers[mid_index1] + sorted_numbers[mid_index2]) / 2\n",
    "    else:\n",
    "        # If the list has an odd number of elements, return the middle element\n",
    "        mid_index = n // 2\n",
    "        median = sorted_numbers[mid_index]\n",
    "    return median\n",
    "\n",
    "# Example usage:\n",
    "numbers = [7, 3, 2, 5, 8, 4, 6, 1]\n",
    "print(\"Median:\", find_median(numbers))"
   ]
  },
  {
   "cell_type": "markdown",
   "metadata": {},
   "source": [
    "**3. Write a function to merge two sorted lists into a single sorted list.**"
   ]
  },
  {
   "cell_type": "code",
   "execution_count": 3,
   "metadata": {},
   "outputs": [
    {
     "name": "stdout",
     "output_type": "stream",
     "text": [
      "Merged list: [1, 2, 3, 4, 5, 6, 7, 8]\n"
     ]
    }
   ],
   "source": [
    "def merge_sorted_lists(list1, list2):\n",
    "    merged_list = []\n",
    "    i = j = 0\n",
    "\n",
    "    # Iterate through both lists simultaneously\n",
    "    while i < len(list1) and j < len(list2):\n",
    "        if list1[i] < list2[j]:\n",
    "            merged_list.append(list1[i])\n",
    "            i += 1\n",
    "        else:\n",
    "            merged_list.append(list2[j])\n",
    "            j += 1\n",
    "\n",
    "    # Add remaining elements from the first list, if any\n",
    "    while i < len(list1):\n",
    "        merged_list.append(list1[i])\n",
    "        i += 1\n",
    "\n",
    "    # Add remaining elements from the second list, if any\n",
    "    while j < len(list2):\n",
    "        merged_list.append(list2[j])\n",
    "        j += 1\n",
    "\n",
    "    return merged_list\n",
    "\n",
    "# Example usage:\n",
    "list1 = [1, 3, 5, 7]\n",
    "list2 = [2, 4, 6, 8]\n",
    "print(\"Merged list:\", merge_sorted_lists(list1, list2))"
   ]
  },
  {
   "cell_type": "markdown",
   "metadata": {},
   "source": [
    "**4. Implement a function to perform binary search on a sorted list.**"
   ]
  },
  {
   "cell_type": "code",
   "execution_count": 4,
   "metadata": {},
   "outputs": [
    {
     "name": "stdout",
     "output_type": "stream",
     "text": [
      "Target 11 found at index 5\n"
     ]
    }
   ],
   "source": [
    "def binary_search(sorted_list, target):\n",
    "    low = 0\n",
    "    high = len(sorted_list) - 1\n",
    "\n",
    "    while low <= high:\n",
    "        mid = (low + high) // 2\n",
    "        mid_value = sorted_list[mid]\n",
    "\n",
    "        if mid_value == target:\n",
    "            return mid  # Found the target, return its index\n",
    "        elif mid_value < target:\n",
    "            low = mid + 1  # Target is in the right half\n",
    "        else:\n",
    "            high = mid - 1  # Target is in the left half\n",
    "\n",
    "    return -1  # Target not found in the list\n",
    "\n",
    "# Example usage:\n",
    "sorted_list = [1, 3, 5, 7, 9, 11, 13, 15, 17, 19]\n",
    "target = 11\n",
    "result_index = binary_search(sorted_list, target)\n",
    "if result_index != -1:\n",
    "    print(\"Target\", target, \"found at index\", result_index)\n",
    "else:\n",
    "    print(\"Target\", target, \"not found in the list\")"
   ]
  },
  {
   "cell_type": "markdown",
   "metadata": {},
   "source": [
    "**5. Write a program to count the number of occurrences of a character in a string.**"
   ]
  },
  {
   "cell_type": "code",
   "execution_count": 5,
   "metadata": {},
   "outputs": [
    {
     "name": "stdout",
     "output_type": "stream",
     "text": [
      "Number of occurrences of 'o' in 'hello world': 2\n"
     ]
    }
   ],
   "source": [
    "def count_occurrences(string, char):\n",
    "    count = 0\n",
    "    for ch in string:\n",
    "        if ch == char:\n",
    "            count += 1\n",
    "    return count\n",
    "\n",
    "# Example usage:\n",
    "string = \"hello world\"\n",
    "char = \"o\"\n",
    "print(\"Number of occurrences of '{}' in '{}': {}\".format(char, string, count_occurrences(string, char)))"
   ]
  },
  {
   "cell_type": "markdown",
   "metadata": {},
   "source": [
    "**6. Create a function to remove duplicates from a list.**"
   ]
  },
  {
   "cell_type": "code",
   "execution_count": 6,
   "metadata": {},
   "outputs": [
    {
     "name": "stdout",
     "output_type": "stream",
     "text": [
      "Original list: [1, 2, 3, 2, 4, 3, 5, 6, 6, 7]\n",
      "List with duplicates removed: [1, 2, 3, 4, 5, 6, 7]\n"
     ]
    }
   ],
   "source": [
    "def remove_duplicates(lst):\n",
    "    seen = set()\n",
    "    result = []\n",
    "    for item in lst:\n",
    "        if item not in seen:\n",
    "            result.append(item)\n",
    "            seen.add(item)\n",
    "    return result\n",
    "\n",
    "# Example usage:\n",
    "my_list = [1, 2, 3, 2, 4, 3, 5, 6, 6, 7]\n",
    "print(\"Original list:\", my_list)\n",
    "print(\"List with duplicates removed:\", remove_duplicates(my_list))"
   ]
  },
  {
   "cell_type": "markdown",
   "metadata": {},
   "source": [
    "**7. Implement a function to find the longest common substring between two strings.**"
   ]
  },
  {
   "cell_type": "code",
   "execution_count": 7,
   "metadata": {},
   "outputs": [
    {
     "name": "stdout",
     "output_type": "stream",
     "text": [
      "Longest common substring: abcde\n"
     ]
    }
   ],
   "source": [
    "def longest_common_substring(str1, str2):\n",
    "    m = len(str1)\n",
    "    n = len(str2)\n",
    "    \n",
    "    # Initialize a matrix to store lengths of longest common suffixes\n",
    "    lcs_matrix = [[0] * (n + 1) for _ in range(m + 1)]\n",
    "    \n",
    "    # Variables to store length and ending position of longest common substring\n",
    "    max_length = 0\n",
    "    end_position = 0\n",
    "    \n",
    "    # Fill the lcs_matrix using dynamic programming\n",
    "    for i in range(1, m + 1):\n",
    "        for j in range(1, n + 1):\n",
    "            if str1[i - 1] == str2[j - 1]:\n",
    "                lcs_matrix[i][j] = lcs_matrix[i - 1][j - 1] + 1\n",
    "                if lcs_matrix[i][j] > max_length:\n",
    "                    max_length = lcs_matrix[i][j]\n",
    "                    end_position = i\n",
    "            else:\n",
    "                lcs_matrix[i][j] = 0\n",
    "    \n",
    "    # Extract the longest common substring from the lcs_matrix\n",
    "    longest_substring = str1[end_position - max_length:end_position]\n",
    "    \n",
    "    return longest_substring\n",
    "\n",
    "# Example usage:\n",
    "str1 = \"abcdefg\"\n",
    "str2 = \"xyzabcde\"\n",
    "print(\"Longest common substring:\", longest_common_substring(str1, str2))"
   ]
  },
  {
   "cell_type": "markdown",
   "metadata": {},
   "source": [
    "**8. Write a function to check if a given string is a valid IPv4 address.**"
   ]
  },
  {
   "cell_type": "code",
   "execution_count": 8,
   "metadata": {},
   "outputs": [
    {
     "name": "stdout",
     "output_type": "stream",
     "text": [
      "Is 192.168.1.1 a valid IPv4 address? True\n",
      "Is 256.0.0.0 a valid IPv4 address? False\n",
      "Is 192.168.1 a valid IPv4 address? False\n"
     ]
    }
   ],
   "source": [
    "def is_valid_ipv4(ip):\n",
    "    parts = ip.split('.')\n",
    "    \n",
    "    # Check if the IP address has 4 parts\n",
    "    if len(parts) != 4:\n",
    "        return False\n",
    "    \n",
    "    # Check if each part is a valid integer in the range [0, 255]\n",
    "    for part in parts:\n",
    "        try:\n",
    "            num = int(part)\n",
    "            if num < 0 or num > 255:\n",
    "                return False\n",
    "        except ValueError:\n",
    "            return False\n",
    "    \n",
    "    return True\n",
    "\n",
    "# Example usage:\n",
    "ip1 = \"192.168.1.1\"\n",
    "ip2 = \"256.0.0.0\"\n",
    "ip3 = \"192.168.1\"\n",
    "print(\"Is\", ip1, \"a valid IPv4 address?\", is_valid_ipv4(ip1))\n",
    "print(\"Is\", ip2, \"a valid IPv4 address?\", is_valid_ipv4(ip2))\n",
    "print(\"Is\", ip3, \"a valid IPv4 address?\", is_valid_ipv4(ip3))"
   ]
  },
  {
   "cell_type": "markdown",
   "metadata": {},
   "source": [
    "**9. Implement a function to convert a decimal number to binary.**"
   ]
  },
  {
   "cell_type": "code",
   "execution_count": 9,
   "metadata": {},
   "outputs": [
    {
     "name": "stdout",
     "output_type": "stream",
     "text": [
      "Binary representation of 25 is: 11001\n"
     ]
    }
   ],
   "source": [
    "def decimal_to_binary(decimal):\n",
    "    if decimal == 0:\n",
    "        return '0'  # Special case for decimal 0\n",
    "    \n",
    "    binary = ''  # Initialize an empty string to store the binary representation\n",
    "    while decimal > 0:\n",
    "        binary = str(decimal % 2) + binary  # Append the remainder of division by 2 to the binary string\n",
    "        decimal //= 2  # Integer division by 2 to get the next quotient\n",
    "    \n",
    "    return binary\n",
    "\n",
    "# Example usage:\n",
    "decimal_number = 25\n",
    "print(\"Binary representation of\", decimal_number, \"is:\", decimal_to_binary(decimal_number))"
   ]
  },
  {
   "cell_type": "markdown",
   "metadata": {},
   "source": [
    "**10. Create a function to find the transpose of a matrix.**"
   ]
  },
  {
   "cell_type": "code",
   "execution_count": 10,
   "metadata": {},
   "outputs": [
    {
     "name": "stdout",
     "output_type": "stream",
     "text": [
      "Original matrix:\n",
      "[1, 2, 3]\n",
      "[4, 5, 6]\n",
      "[7, 8, 9]\n",
      "\n",
      "Transpose of the matrix:\n",
      "[1, 4, 7]\n",
      "[2, 5, 8]\n",
      "[3, 6, 9]\n"
     ]
    }
   ],
   "source": [
    "def transpose_matrix(matrix):\n",
    "    # Get the number of rows and columns in the matrix\n",
    "    num_rows = len(matrix)\n",
    "    num_cols = len(matrix[0]) if matrix else 0\n",
    "    \n",
    "    # Initialize a new matrix to store the transpose\n",
    "    transpose = [[0] * num_rows for _ in range(num_cols)]\n",
    "    \n",
    "    # Iterate through the elements of the original matrix and assign them to the transpose matrix\n",
    "    for i in range(num_rows):\n",
    "        for j in range(num_cols):\n",
    "            transpose[j][i] = matrix[i][j]\n",
    "    \n",
    "    return transpose\n",
    "\n",
    "# Example usage:\n",
    "matrix = [\n",
    "    [1, 2, 3],\n",
    "    [4, 5, 6],\n",
    "    [7, 8, 9]\n",
    "]\n",
    "print(\"Original matrix:\")\n",
    "for row in matrix:\n",
    "    print(row)\n",
    "print(\"\\nTranspose of the matrix:\")\n",
    "transposed_matrix = transpose_matrix(matrix)\n",
    "for row in transposed_matrix:\n",
    "    print(row)"
   ]
  },
  {
   "cell_type": "markdown",
   "metadata": {},
   "source": [
    "**11. Implement a function to check if a matrix is symmetric.**"
   ]
  },
  {
   "cell_type": "code",
   "execution_count": 11,
   "metadata": {},
   "outputs": [
    {
     "name": "stdout",
     "output_type": "stream",
     "text": [
      "Is the symmetric matrix symmetric? True\n",
      "Is the non-symmetric matrix symmetric? False\n"
     ]
    }
   ],
   "source": [
    "def is_symmetric(matrix):\n",
    "    # Get the number of rows and columns in the matrix\n",
    "    num_rows = len(matrix)\n",
    "    num_cols = len(matrix[0]) if matrix else 0\n",
    "    \n",
    "    # Check if the matrix is square (number of rows == number of columns)\n",
    "    if num_rows != num_cols:\n",
    "        return False\n",
    "    \n",
    "    # Check if the matrix is equal to its transpose\n",
    "    for i in range(num_rows):\n",
    "        for j in range(num_cols):\n",
    "            if matrix[i][j] != matrix[j][i]:\n",
    "                return False\n",
    "    return True\n",
    "\n",
    "# Example usage:\n",
    "symmetric_matrix = [\n",
    "    [1, 2, 3],\n",
    "    [2, 4, 5],\n",
    "    [3, 5, 6]\n",
    "]\n",
    "\n",
    "non_symmetric_matrix = [\n",
    "    [1, 2, 3],\n",
    "    [4, 5, 6],\n",
    "    [7, 8, 9]\n",
    "]\n",
    "\n",
    "print(\"Is the symmetric matrix symmetric?\", is_symmetric(symmetric_matrix))\n",
    "print(\"Is the non-symmetric matrix symmetric?\", is_symmetric(non_symmetric_matrix))"
   ]
  },
  {
   "cell_type": "markdown",
   "metadata": {},
   "source": [
    "**12. Write a program to find the kth largest element in an unsorted list.**"
   ]
  },
  {
   "cell_type": "code",
   "execution_count": 12,
   "metadata": {},
   "outputs": [
    {
     "name": "stdout",
     "output_type": "stream",
     "text": [
      "Original list: [3, 2, 1, 5, 6, 4]\n",
      "The 2 largest element is: 5\n"
     ]
    }
   ],
   "source": [
    "import random\n",
    "\n",
    "def partition(nums, low, high):\n",
    "    pivot_index = random.randint(low, high)\n",
    "    pivot = nums[pivot_index]\n",
    "    nums[pivot_index], nums[high] = nums[high], nums[pivot_index]\n",
    "    i = low\n",
    "    for j in range(low, high):\n",
    "        if nums[j] <= pivot:\n",
    "            nums[i], nums[j] = nums[j], nums[i]\n",
    "            i += 1\n",
    "    nums[i], nums[high] = nums[high], nums[i]\n",
    "    return i\n",
    "\n",
    "def quickselect(nums, low, high, k):\n",
    "    if low == high:\n",
    "        return nums[low]\n",
    "    pivot_index = partition(nums, low, high)\n",
    "    if k == pivot_index:\n",
    "        return nums[k]\n",
    "    elif k < pivot_index:\n",
    "        return quickselect(nums, low, pivot_index - 1, k)\n",
    "    else:\n",
    "        return quickselect(nums, pivot_index + 1, high, k)\n",
    "\n",
    "def find_kth_largest(nums, k):\n",
    "    if k < 1 or k > len(nums):\n",
    "        return None\n",
    "    return quickselect(nums, 0, len(nums) - 1, len(nums) - k)\n",
    "\n",
    "# Example usage:\n",
    "unsorted_list = [3, 2, 1, 5, 6, 4]\n",
    "k = 2\n",
    "print(\"Original list:\", unsorted_list)\n",
    "print(\"The\", k, \"largest element is:\", find_kth_largest(unsorted_list, k))"
   ]
  },
  {
   "cell_type": "markdown",
   "metadata": {},
   "source": [
    "**13. Implement a function to sort a list of tuples based on the second element.**"
   ]
  },
  {
   "cell_type": "code",
   "execution_count": 13,
   "metadata": {},
   "outputs": [
    {
     "name": "stdout",
     "output_type": "stream",
     "text": [
      "Sorted list of tuples based on the second element:\n",
      "(4, 1)\n",
      "(2, 3)\n",
      "(1, 5)\n",
      "(5, 7)\n",
      "(3, 9)\n"
     ]
    }
   ],
   "source": [
    "def sort_tuples_by_second_element(tuples_list):\n",
    "    return sorted(tuples_list, key=lambda x: x[1])\n",
    "\n",
    "# Example usage:\n",
    "tuples_list = [(1, 5), (2, 3), (3, 9), (4, 1), (5, 7)]\n",
    "sorted_list = sort_tuples_by_second_element(tuples_list)\n",
    "print(\"Sorted list of tuples based on the second element:\")\n",
    "for item in sorted_list:\n",
    "    print(item)"
   ]
  },
  {
   "cell_type": "markdown",
   "metadata": {},
   "source": [
    "**14. Write a Python program to implement a stack using a linked list.**"
   ]
  },
  {
   "cell_type": "code",
   "execution_count": 14,
   "metadata": {},
   "outputs": [
    {
     "name": "stdout",
     "output_type": "stream",
     "text": [
      "Is stack empty? True\n",
      "Stack elements:\n",
      "3\n",
      "2\n",
      "1\n",
      "Peek: 3\n",
      "Pop: 3\n",
      "Stack elements:\n",
      "2\n",
      "1\n"
     ]
    }
   ],
   "source": [
    "class Node:\n",
    "    def __init__(self, data):\n",
    "        self.data = data\n",
    "        self.next = None\n",
    "\n",
    "class Stack:\n",
    "    def __init__(self):\n",
    "        self.top = None\n",
    "    \n",
    "    def is_empty(self):\n",
    "        return self.top is None\n",
    "    \n",
    "    def push(self, data):\n",
    "        new_node = Node(data)\n",
    "        new_node.next = self.top\n",
    "        self.top = new_node\n",
    "    \n",
    "    def pop(self):\n",
    "        if self.is_empty():\n",
    "            print(\"Stack is empty. Cannot pop.\")\n",
    "            return None\n",
    "        popped_data = self.top.data\n",
    "        self.top = self.top.next\n",
    "        return popped_data\n",
    "    \n",
    "    def peek(self):\n",
    "        if self.is_empty():\n",
    "            print(\"Stack is empty. Cannot peek.\")\n",
    "            return None\n",
    "        return self.top.data\n",
    "    \n",
    "    def display(self):\n",
    "        if self.is_empty():\n",
    "            print(\"Stack is empty.\")\n",
    "            return\n",
    "        current = self.top\n",
    "        print(\"Stack elements:\")\n",
    "        while current:\n",
    "            print(current.data)\n",
    "            current = current.next\n",
    "\n",
    "# Example usage:\n",
    "stack = Stack()\n",
    "print(\"Is stack empty?\", stack.is_empty())\n",
    "stack.push(1)\n",
    "stack.push(2)\n",
    "stack.push(3)\n",
    "stack.display()\n",
    "print(\"Peek:\", stack.peek())\n",
    "print(\"Pop:\", stack.pop())\n",
    "stack.display()"
   ]
  },
  {
   "cell_type": "markdown",
   "metadata": {},
   "source": [
    "**15. Create a function to reverse a linked list.**"
   ]
  },
  {
   "cell_type": "code",
   "execution_count": 15,
   "metadata": {},
   "outputs": [
    {
     "name": "stdout",
     "output_type": "stream",
     "text": [
      "Original linked list:\n",
      "1 2 3 4 \n",
      "Reversed linked list:\n",
      "4 3 2 1 \n"
     ]
    }
   ],
   "source": [
    "class Node:\n",
    "    def __init__(self, data):\n",
    "        self.data = data\n",
    "        self.next = None\n",
    "\n",
    "def reverse_linked_list(head):\n",
    "    prev = None\n",
    "    current = head\n",
    "\n",
    "    while current:\n",
    "        next_node = current.next\n",
    "        current.next = prev\n",
    "        prev = current\n",
    "        current = next_node\n",
    "\n",
    "    return prev\n",
    "\n",
    "def print_linked_list(head):\n",
    "    current = head\n",
    "    while current:\n",
    "        print(current.data, end=\" \")\n",
    "        current = current.next\n",
    "    print()\n",
    "\n",
    "# Example usage:\n",
    "# Creating a linked list: 1 -> 2 -> 3 -> 4 -> None\n",
    "head = Node(1)\n",
    "head.next = Node(2)\n",
    "head.next.next = Node(3)\n",
    "head.next.next.next = Node(4)\n",
    "\n",
    "print(\"Original linked list:\")\n",
    "print_linked_list(head)\n",
    "\n",
    "# Reversing the linked list\n",
    "head = reverse_linked_list(head)\n",
    "\n",
    "print(\"Reversed linked list:\")\n",
    "print_linked_list(head)"
   ]
  },
  {
   "cell_type": "markdown",
   "metadata": {},
   "source": [
    "**16. Create a function that takes a string as input and returns True if it is a pangram (contains all the letters of the alphabet at least once), otherwise False.**"
   ]
  },
  {
   "cell_type": "code",
   "execution_count": 16,
   "metadata": {},
   "outputs": [
    {
     "name": "stdout",
     "output_type": "stream",
     "text": [
      "Is the string a pangram? True\n",
      "Is the string a pangram? False\n"
     ]
    }
   ],
   "source": [
    "def is_pangram(input_string):\n",
    "    alphabet = \"abcdefghijklmnopqrstuvwxyz\"\n",
    "    input_string = input_string.lower()  # Convert the string to lowercase\n",
    "    for char in alphabet:\n",
    "        if char not in input_string:\n",
    "            return False\n",
    "    return True\n",
    "\n",
    "# Example usage:\n",
    "input_str1 = \"The quick brown fox jumps over the lazy dog\"\n",
    "input_str2 = \"This is not a pangram\"\n",
    "print(\"Is the string a pangram?\", is_pangram(input_str1))\n",
    "print(\"Is the string a pangram?\", is_pangram(input_str2))"
   ]
  },
  {
   "cell_type": "markdown",
   "metadata": {},
   "source": [
    "**17. Implement a program that takes a list of numbers as input and returns the cumulative sum of the numbers.**"
   ]
  },
  {
   "cell_type": "code",
   "execution_count": 17,
   "metadata": {},
   "outputs": [
    {
     "name": "stdout",
     "output_type": "stream",
     "text": [
      "Original list of numbers: [1, 2, 3, 4, 5]\n",
      "Cumulative sum of numbers: [1, 3, 6, 10, 15]\n"
     ]
    }
   ],
   "source": [
    "def cumulative_sum(numbers):\n",
    "    cumulative = []\n",
    "    current_sum = 0\n",
    "    for num in numbers:\n",
    "        current_sum += num\n",
    "        cumulative.append(current_sum)\n",
    "    return cumulative\n",
    "\n",
    "# Example usage:\n",
    "numbers = [1, 2, 3, 4, 5]\n",
    "print(\"Original list of numbers:\", numbers)\n",
    "print(\"Cumulative sum of numbers:\", cumulative_sum(numbers))"
   ]
  },
  {
   "cell_type": "markdown",
   "metadata": {},
   "source": [
    "**18. Implement a function to remove all duplicates from a list while preserving the order of elements.**"
   ]
  },
  {
   "cell_type": "code",
   "execution_count": 18,
   "metadata": {},
   "outputs": [
    {
     "name": "stdout",
     "output_type": "stream",
     "text": [
      "Original list: [1, 2, 3, 2, 4, 3, 5, 6, 6, 7]\n",
      "List with duplicates removed while preserving order: [1, 2, 3, 4, 5, 6, 7]\n"
     ]
    }
   ],
   "source": [
    "def remove_duplicates_preserve_order(input_list):\n",
    "    seen = set()\n",
    "    result = []\n",
    "    for item in input_list:\n",
    "        if item not in seen:\n",
    "            result.append(item)\n",
    "            seen.add(item)\n",
    "    return result\n",
    "\n",
    "# Example usage:\n",
    "input_list = [1, 2, 3, 2, 4, 3, 5, 6, 6, 7]\n",
    "print(\"Original list:\", input_list)\n",
    "print(\"List with duplicates removed while preserving order:\", remove_duplicates_preserve_order(input_list))"
   ]
  },
  {
   "cell_type": "markdown",
   "metadata": {},
   "source": [
    "**19. The Tower of Hanoi is a mathematical puzzle where you have three pegs and a number of disks of different sizes which can slide onto any peg. The puzzle starts with the disks in a neat stack in ascending order of size on one peg, with the smallest disk at the top. Write a Python program to solve the Tower of Hanoi puzzle for any number of disks.**\n"
   ]
  },
  {
   "cell_type": "code",
   "execution_count": 19,
   "metadata": {},
   "outputs": [
    {
     "name": "stdout",
     "output_type": "stream",
     "text": [
      "Move disk 1 from A to C\n",
      "Move disk 2 from A to B\n",
      "Move disk 1 from C to B\n",
      "Move disk 3 from A to C\n",
      "Move disk 1 from B to A\n",
      "Move disk 2 from B to C\n",
      "Move disk 1 from A to C\n"
     ]
    }
   ],
   "source": [
    "def tower_of_hanoi(n, source, target, auxiliary):\n",
    "    if n == 1:\n",
    "        print(\"Move disk 1 from {} to {}\".format(source, target))\n",
    "        return\n",
    "    tower_of_hanoi(n - 1, source, auxiliary, target)\n",
    "    print(\"Move disk {} from {} to {}\".format(n, source, target))\n",
    "    tower_of_hanoi(n - 1, auxiliary, target, source)\n",
    "\n",
    "# Example usage:\n",
    "num_disks = 3\n",
    "tower_of_hanoi(num_disks, 'A', 'C', 'B')"
   ]
  },
  {
   "cell_type": "markdown",
   "metadata": {},
   "source": [
    "**Explanation**\n",
    "\n",
    "> In this program, the `tower_of_hanoi` function is a recursive function that takes four parameters: `n` (the number of disks), `source` (the peg from which to move the disks), `target` (the peg to which to move the disks), and `auxiliary` (the auxiliary peg).\n",
    "\n",
    "> The base case is when `n == 1`, in which case we simply move the top disk from the source peg to the target peg.\n",
    "\n",
    "> In the recursive case, we first move `n-1` disks from the source peg to the auxiliary peg using the target peg as auxiliary. Then, we move the `nth` disk from the source peg to the target peg. Finally, we recursively move the `n-1` disks from the auxiliary peg to the target peg using the source peg as auxiliary."
   ]
  },
  {
   "cell_type": "markdown",
   "metadata": {},
   "source": [
    "**20. Mastermind is a code-breaking game for two players. One player creates a secret code, and the other player tries to guess the code within a certain number of turns. After each guess, the creator of the code provides feedback in the form of colored pegs indicating the number of correct colors and correct positions. Write a Python program to implement a solver for the Mastermind game.**"
   ]
  },
  {
   "cell_type": "code",
   "execution_count": 20,
   "metadata": {},
   "outputs": [
    {
     "name": "stdout",
     "output_type": "stream",
     "text": [
      "Secret code: ['G', 'G', 'G', 'G']\n",
      "Turn 1: Guessing ['R', 'G', 'G', 'R']\n",
      "Feedback: 2 correct positions, 0 correct colors\n",
      "Turn 2: Guessing ['G', 'R', 'Y', 'B']\n",
      "Feedback: 1 correct positions, 0 correct colors\n",
      "Turn 3: Guessing ['Y', 'G', 'G', 'Y']\n",
      "Feedback: 2 correct positions, 0 correct colors\n",
      "Turn 4: Guessing ['Y', 'Y', 'B', 'R']\n",
      "Feedback: 0 correct positions, 0 correct colors\n",
      "Turn 5: Guessing ['G', 'R', 'R', 'R']\n",
      "Feedback: 1 correct positions, 0 correct colors\n",
      "Turn 6: Guessing ['B', 'Y', 'B', 'G']\n",
      "Feedback: 1 correct positions, 0 correct colors\n",
      "Turn 7: Guessing ['B', 'G', 'R', 'Y']\n",
      "Feedback: 1 correct positions, 0 correct colors\n",
      "Turn 8: Guessing ['G', 'R', 'R', 'G']\n",
      "Feedback: 2 correct positions, 0 correct colors\n",
      "Turn 9: Guessing ['B', 'B', 'Y', 'G']\n",
      "Feedback: 1 correct positions, 0 correct colors\n",
      "Turn 10: Guessing ['Y', 'G', 'B', 'Y']\n",
      "Feedback: 1 correct positions, 0 correct colors\n",
      "Sorry, you've run out of turns. The secret code was: ['G', 'G', 'G', 'G']\n"
     ]
    }
   ],
   "source": [
    "import random\n",
    "\n",
    "def generate_secret_code(colors, code_length):\n",
    "    return [random.choice(colors) for _ in range(code_length)]\n",
    "\n",
    "def evaluate_guess(secret_code, guess):\n",
    "    secret_code_count = {color: 0 for color in set(secret_code)}\n",
    "    guess_count = {color: 0 for color in set(guess)}\n",
    "    \n",
    "    for color in secret_code:\n",
    "        secret_code_count[color] += 1\n",
    "    \n",
    "    for color in guess:\n",
    "        guess_count[color] += 1\n",
    "    \n",
    "    correct_positions = sum(secret_code[i] == guess[i] for i in range(len(secret_code)))\n",
    "    correct_colors = sum(min(secret_code_count.get(color, 0), guess_count.get(color, 0)) for color in set(guess))\n",
    "    \n",
    "    return correct_positions, correct_colors - correct_positions\n",
    "\n",
    "def mastermind_solver(colors, code_length, max_turns):\n",
    "    secret_code = generate_secret_code(colors, code_length)\n",
    "    print(\"Secret code:\", secret_code)\n",
    "\n",
    "    for turn in range(1, max_turns + 1):\n",
    "        guess = [random.choice(colors) for _ in range(code_length)]\n",
    "        print(\"Turn {}: Guessing {}\".format(turn, guess))\n",
    "        correct_positions, correct_colors = evaluate_guess(secret_code, guess)\n",
    "        print(\"Feedback: {} correct positions, {} correct colors\".format(correct_positions, correct_colors))\n",
    "        if correct_positions == code_length:\n",
    "            print(\"Congratulations! You've cracked the code in {} turns.\".format(turn))\n",
    "            return\n",
    "    print(\"Sorry, you've run out of turns. The secret code was:\", secret_code)\n",
    "\n",
    "# Example usage:\n",
    "colors = ['R', 'G', 'B', 'Y']  # Red, Green, Blue, Yellow\n",
    "code_length = 4\n",
    "max_turns = 10\n",
    "mastermind_solver(colors, code_length, max_turns)"
   ]
  },
  {
   "cell_type": "markdown",
   "metadata": {},
   "source": [
    "**Explanation**\n",
    "\n",
    "> The `generate_secret_code` function generates a secret code of a specified length using colors chosen randomly from a given set of colors.\n",
    "\n",
    "> The `evaluate_guess` function takes the secret code and a guess as input and returns the number of correct colors in correct positions and the number of correct colors in incorrect positions.\n",
    "\n",
    "> The `mastermind_solver` function implements the solver for the Mastermind game. It generates a secret code, then iterates through a specified number of turns. In each turn, it generates a guess, evaluates it against the secret code, and provides feedback. If the correct code is guessed within the maximum number of turns, it prints a congratulatory message; otherwise, it reveals the secret code."
   ]
  },
  {
   "cell_type": "markdown",
   "metadata": {},
   "source": [
    "**21. Find the kth largest element in an unsorted array.**"
   ]
  },
  {
   "cell_type": "code",
   "execution_count": 21,
   "metadata": {},
   "outputs": [
    {
     "name": "stdout",
     "output_type": "stream",
     "text": [
      "4\n"
     ]
    }
   ],
   "source": [
    "def findKthLargest(nums, k):\n",
    "    import heapq\n",
    "    return heapq.nlargest(k, nums)[-1]\n",
    "\n",
    "nums = [3,2,3,1,2,4,5,5,6]\n",
    "k = 4\n",
    "print(findKthLargest(nums, k))  # Output: 4"
   ]
  },
  {
   "cell_type": "markdown",
   "metadata": {},
   "source": [
    "**22. Given a sorted array and a target value, return the index if the target is found. If not, return the index where it would be if it were inserted in order.**"
   ]
  },
  {
   "cell_type": "code",
   "execution_count": 22,
   "metadata": {},
   "outputs": [
    {
     "name": "stdout",
     "output_type": "stream",
     "text": [
      "2\n"
     ]
    }
   ],
   "source": [
    "def search_insert(nums, target):\n",
    "    left, right = 0, len(nums) - 1\n",
    "    while left <= right:\n",
    "        mid = (left + right) // 2\n",
    "        if nums[mid] == target:\n",
    "            return mid\n",
    "        elif nums[mid] < target:\n",
    "            left = mid + 1\n",
    "        else:\n",
    "            right = mid - 1\n",
    "    return left\n",
    "\n",
    "nums = [1, 3, 5, 6]\n",
    "target = 5\n",
    "print(search_insert(nums, target))  # Output: 2"
   ]
  },
  {
   "cell_type": "markdown",
   "metadata": {},
   "source": [
    "**23. Write a Python program to implement the Sieve of Eratosthenes for prime number generation.**"
   ]
  },
  {
   "cell_type": "code",
   "execution_count": 23,
   "metadata": {},
   "outputs": [
    {
     "name": "stdout",
     "output_type": "stream",
     "text": [
      "Enter the limit for prime number generation: 25\n",
      "Prime numbers up to 25 are: [2, 3, 5, 7, 11, 13, 17, 19, 23]\n"
     ]
    }
   ],
   "source": [
    "def sieve_of_eratosthenes(limit):\n",
    "    primes = [True] * (limit + 1)\n",
    "    primes[0] = primes[1] = False\n",
    "    \n",
    "    for i in range(2, int(limit**0.5) + 1):\n",
    "        if primes[i]:\n",
    "            for j in range(i*i, limit + 1, i):\n",
    "                primes[j] = False\n",
    "                \n",
    "    return [i for i in range(2, limit + 1) if primes[i]]\n",
    "\n",
    "# Example usage\n",
    "limit = int(input(\"Enter the limit for prime number generation: \"))\n",
    "print(\"Prime numbers up to\", limit, \"are:\", sieve_of_eratosthenes(limit))"
   ]
  },
  {
   "cell_type": "markdown",
   "metadata": {},
   "source": [
    "**24. Write a function to find the first non-repeating character in a string.**"
   ]
  },
  {
   "cell_type": "code",
   "execution_count": 24,
   "metadata": {},
   "outputs": [
    {
     "name": "stdout",
     "output_type": "stream",
     "text": [
      "Enter a string: shivankumarroy\n",
      "First non-repeating character: s\n"
     ]
    }
   ],
   "source": [
    "def first_non_repeating_character(s):\n",
    "    char_count = {}\n",
    "\n",
    "    # Count occurrences of each character\n",
    "    for char in s:\n",
    "        char_count[char] = char_count.get(char, 0) + 1\n",
    "\n",
    "    # Find the first character with count 1\n",
    "    for char in s:\n",
    "        if char_count[char] == 1:\n",
    "            return char\n",
    "\n",
    "    return None  # Return None if no non-repeating character is found\n",
    "\n",
    "# Example usage\n",
    "input_string = input(\"Enter a string: \")\n",
    "result = first_non_repeating_character(input_string)\n",
    "if result:\n",
    "    print(\"First non-repeating character:\", result)\n",
    "else:\n",
    "    print(\"No non-repeating character found in the string.\")"
   ]
  },
  {
   "cell_type": "markdown",
   "metadata": {},
   "source": [
    "**25. Write a Python program to implement binary search tree operations (insertion, deletion, search).**"
   ]
  },
  {
   "cell_type": "code",
   "execution_count": 25,
   "metadata": {},
   "outputs": [
    {
     "name": "stdout",
     "output_type": "stream",
     "text": [
      "Binary Search Tree:\n",
      "       5\n",
      "     /   \\\n",
      "    3     7\n",
      "   / \\   / \\\n",
      "  2   4 6   8\n",
      "\n",
      "Search:\n",
      "Search 3: 3\n",
      "Search 9: Not found\n",
      "\n",
      "Deletion:\n",
      "Deleted 3\n",
      "Binary Search Tree after deletion:\n",
      "       5\n",
      "     /   \\\n",
      "    2     7\n",
      "       \\   \\\n",
      "        4   8\n"
     ]
    }
   ],
   "source": [
    "class TreeNode:\n",
    "    def __init__(self, key):\n",
    "        self.key = key\n",
    "        self.left = None\n",
    "        self.right = None\n",
    "\n",
    "class BST:\n",
    "    def __init__(self):\n",
    "        self.root = None\n",
    "\n",
    "    def insert(self, key):\n",
    "        self.root = self._insert_recursively(self.root, key)\n",
    "\n",
    "    def _insert_recursively(self, root, key):\n",
    "        if root is None:\n",
    "            return TreeNode(key)\n",
    "        if key < root.key:\n",
    "            root.left = self._insert_recursively(root.left, key)\n",
    "        elif key > root.key:\n",
    "            root.right = self._insert_recursively(root.right, key)\n",
    "        return root\n",
    "\n",
    "    def search(self, key):\n",
    "        return self._search_recursively(self.root, key)\n",
    "\n",
    "    def _search_recursively(self, root, key):\n",
    "        if root is None or root.key == key:\n",
    "            return root\n",
    "        if key < root.key:\n",
    "            return self._search_recursively(root.left, key)\n",
    "        return self._search_recursively(root.right, key)\n",
    "\n",
    "    def delete(self, key):\n",
    "        self.root = self._delete_recursively(self.root, key)\n",
    "\n",
    "    def _delete_recursively(self, root, key):\n",
    "        if root is None:\n",
    "            return root\n",
    "        if key < root.key:\n",
    "            root.left = self._delete_recursively(root.left, key)\n",
    "        elif key > root.key:\n",
    "            root.right = self._delete_recursively(root.right, key)\n",
    "        else:\n",
    "            if root.left is None:\n",
    "                return root.right\n",
    "            elif root.right is None:\n",
    "                return root.left\n",
    "            root.key = self._min_value_node(root.right).key\n",
    "            root.right = self._delete_recursively(root.right, root.key)\n",
    "        return root\n",
    "\n",
    "    def _min_value_node(self, node):\n",
    "        current = node\n",
    "        while current.left is not None:\n",
    "            current = current.left\n",
    "        return current\n",
    "\n",
    "# Example usage\n",
    "bst = BST()\n",
    "bst.insert(5)\n",
    "bst.insert(3)\n",
    "bst.insert(7)\n",
    "bst.insert(2)\n",
    "bst.insert(4)\n",
    "bst.insert(6)\n",
    "bst.insert(8)\n",
    "\n",
    "print(\"Binary Search Tree:\")\n",
    "print(\"       5\")\n",
    "print(\"     /   \\\\\")\n",
    "print(\"    3     7\")\n",
    "print(\"   / \\\\   / \\\\\")\n",
    "print(\"  2   4 6   8\")\n",
    "\n",
    "print(\"\\nSearch:\")\n",
    "print(\"Search 3:\", bst.search(3).key if bst.search(3) else \"Not found\")\n",
    "print(\"Search 9:\", bst.search(9).key if bst.search(9) else \"Not found\")\n",
    "\n",
    "print(\"\\nDeletion:\")\n",
    "bst.delete(3)\n",
    "print(\"Deleted 3\")\n",
    "print(\"Binary Search Tree after deletion:\")\n",
    "print(\"       5\")\n",
    "print(\"     /   \\\\\")\n",
    "print(\"    2     7\")\n",
    "print(\"       \\\\   \\\\\")\n",
    "print(\"        4   8\")"
   ]
  },
  {
   "cell_type": "markdown",
   "metadata": {},
   "source": [
    "**26. Write a function to check if a given string is a valid email address.**"
   ]
  },
  {
   "cell_type": "code",
   "execution_count": 26,
   "metadata": {},
   "outputs": [
    {
     "name": "stdout",
     "output_type": "stream",
     "text": [
      "Enter an email address: shivan@gmail.com\n",
      "Valid email address\n"
     ]
    }
   ],
   "source": [
    "import re\n",
    "\n",
    "def is_valid_email(email):\n",
    "    # Regular expression pattern for matching email addresses\n",
    "    pattern = re.compile(r'^[\\w\\.-]+@[a-zA-Z0-9\\.-]+\\.[a-zA-Z]{2,}$')\n",
    "    return bool(re.match(pattern, email))\n",
    "\n",
    "# Example usage\n",
    "email = input(\"Enter an email address: \")\n",
    "if is_valid_email(email):\n",
    "    print(\"Valid email address\")\n",
    "else:\n",
    "    print(\"Invalid email address\")"
   ]
  },
  {
   "cell_type": "markdown",
   "metadata": {},
   "source": [
    "**27. Write a function to check if a string contains only digits.**"
   ]
  },
  {
   "cell_type": "code",
   "execution_count": 27,
   "metadata": {},
   "outputs": [
    {
     "name": "stdout",
     "output_type": "stream",
     "text": [
      "Enter a string: Shivan Kumar 1\n",
      "The string contains characters other than digits.\n"
     ]
    }
   ],
   "source": [
    "def contains_only_digits(s):\n",
    "    return s.isdigit()\n",
    "\n",
    "# Example usage\n",
    "string = input(\"Enter a string: \")\n",
    "if contains_only_digits(string):\n",
    "    print(\"The string contains only digits.\")\n",
    "else:\n",
    "    print(\"The string contains characters other than digits.\")"
   ]
  },
  {
   "cell_type": "markdown",
   "metadata": {},
   "source": [
    "**28. Finding the Maximum Number in a List**"
   ]
  },
  {
   "cell_type": "code",
   "execution_count": 28,
   "metadata": {},
   "outputs": [
    {
     "name": "stdout",
     "output_type": "stream",
     "text": [
      "125\n"
     ]
    }
   ],
   "source": [
    "numberList = [15, 85, 35, 89, 125]\n",
    "\n",
    "maxNum = numberList[0]\n",
    "for num in numberList:\n",
    "    if maxNum < num:\n",
    "        maxNum = num\n",
    "print(maxNum)"
   ]
  },
  {
   "cell_type": "markdown",
   "metadata": {},
   "source": [
    "**29. Finding the Minimum Number in a List**"
   ]
  },
  {
   "cell_type": "code",
   "execution_count": 29,
   "metadata": {},
   "outputs": [
    {
     "name": "stdout",
     "output_type": "stream",
     "text": [
      "2\n"
     ]
    }
   ],
   "source": [
    "numberList = [15, 85, 35, 89, 125, 2]\n",
    "\n",
    "minNum = numberList[0]\n",
    "for num in numberList:\n",
    "    if minNum > num:\n",
    "        minNum = num\n",
    "print(minNum)"
   ]
  },
  {
   "cell_type": "markdown",
   "metadata": {},
   "source": [
    "**30. There are n children standing in a line. Each child is assigned a rating value given in the integer array ratings. You are giving candies to these children subjected to the following requirements: Each child must have at least one candy. Children with a higher rating get more candies than their neighbors. Return the minimum number of candies you need to have to distribute the candies to the children.**"
   ]
  },
  {
   "cell_type": "code",
   "execution_count": 32,
   "metadata": {},
   "outputs": [
    {
     "name": "stdout",
     "output_type": "stream",
     "text": [
      "Minimum number of candies needed: 5\n"
     ]
    }
   ],
   "source": [
    "def min_candies(ratings):\n",
    "    n = len(ratings)\n",
    "    candies = [1] * n  # Initialize candies array with 1 candy for each child\n",
    "\n",
    "    # Traverse from left to right, updating candies based on ratings\n",
    "    for i in range(1, n):\n",
    "        if ratings[i] > ratings[i - 1]:\n",
    "            candies[i] = candies[i - 1] + 1\n",
    "\n",
    "    # Traverse from right to left, updating candies based on ratings and previous candies\n",
    "    for i in range(n - 2, -1, -1):\n",
    "        if ratings[i] > ratings[i + 1]:\n",
    "            candies[i] = max(candies[i], candies[i + 1] + 1)\n",
    "\n",
    "    # Return the total number of candies needed\n",
    "    return sum(candies)\n",
    "\n",
    "# Example usage\n",
    "ratings = [1, 0, 2]\n",
    "print(\"Minimum number of candies needed:\", min_candies(ratings))"
   ]
  },
  {
   "cell_type": "markdown",
   "metadata": {},
   "source": [
    "**31. Given two sorted arrays nums1 and nums2 of size m and n respectively, return the median of the two sorted arrays.**"
   ]
  },
  {
   "cell_type": "code",
   "execution_count": 33,
   "metadata": {},
   "outputs": [
    {
     "name": "stdout",
     "output_type": "stream",
     "text": [
      "Median of the two sorted arrays: 2\n"
     ]
    }
   ],
   "source": [
    "def findMedianSortedArrays(nums1, nums2):\n",
    "    if len(nums1) > len(nums2):\n",
    "        nums1, nums2 = nums2, nums1\n",
    "\n",
    "    m, n = len(nums1), len(nums2)\n",
    "    low, high = 0, m\n",
    "\n",
    "    while low <= high:\n",
    "        partition_nums1 = (low + high) // 2\n",
    "        partition_nums2 = (m + n + 1) // 2 - partition_nums1\n",
    "\n",
    "        max_left_nums1 = float('-inf') if partition_nums1 == 0 else nums1[partition_nums1 - 1]\n",
    "        min_right_nums1 = float('inf') if partition_nums1 == m else nums1[partition_nums1]\n",
    "\n",
    "        max_left_nums2 = float('-inf') if partition_nums2 == 0 else nums2[partition_nums2 - 1]\n",
    "        min_right_nums2 = float('inf') if partition_nums2 == n else nums2[partition_nums2]\n",
    "\n",
    "        if max_left_nums1 <= min_right_nums2 and max_left_nums2 <= min_right_nums1:\n",
    "            if (m + n) % 2 == 0:\n",
    "                return (max(max_left_nums1, max_left_nums2) + min(min_right_nums1, min_right_nums2)) / 2.0\n",
    "            else:\n",
    "                return max(max_left_nums1, max_left_nums2)\n",
    "        elif max_left_nums1 > min_right_nums2:\n",
    "            high = partition_nums1 - 1\n",
    "        else:\n",
    "            low = partition_nums1 + 1\n",
    "\n",
    "# Example usage\n",
    "nums1 = [1, 3]\n",
    "nums2 = [2]\n",
    "print(\"Median of the two sorted arrays:\", findMedianSortedArrays(nums1, nums2))"
   ]
  },
  {
   "cell_type": "markdown",
   "metadata": {},
   "source": [
    "**32. Write a function that takes a string as input and returns the length of the longest substring without repeating characters.**"
   ]
  },
  {
   "cell_type": "code",
   "execution_count": 34,
   "metadata": {},
   "outputs": [
    {
     "name": "stdout",
     "output_type": "stream",
     "text": [
      "Enter a string: shivankumarroy\n",
      "Length of the longest substring without repeating characters: 9\n"
     ]
    }
   ],
   "source": [
    "def length_of_longest_substring(s):\n",
    "    max_length = 0\n",
    "    start = 0\n",
    "    char_index_map = {}\n",
    "\n",
    "    for end, char in enumerate(s):\n",
    "        if char in char_index_map and char_index_map[char] >= start:\n",
    "            start = char_index_map[char] + 1\n",
    "        char_index_map[char] = end\n",
    "        max_length = max(max_length, end - start + 1)\n",
    "\n",
    "    return max_length\n",
    "\n",
    "# Example usage\n",
    "input_string = input(\"Enter a string: \")\n",
    "print(\"Length of the longest substring without repeating characters:\", length_of_longest_substring(input_string))"
   ]
  },
  {
   "cell_type": "markdown",
   "metadata": {},
   "source": [
    "**33. Design a parking lot using object-oriented principles.**\n",
    "> Asked in Linkedin Interview"
   ]
  },
  {
   "cell_type": "code",
   "execution_count": 35,
   "metadata": {},
   "outputs": [],
   "source": [
    "class ParkingLot:\n",
    "    def __init__(self, total_spots):\n",
    "        self.total_spots = total_spots\n",
    "        self.available_spots = total_spots\n",
    "        self.parked_vehicles = []\n",
    "\n",
    "    def park_vehicle(self, vehicle):\n",
    "        if self.available_spots > 0:\n",
    "            self.parked_vehicles.append(vehicle)\n",
    "            self.available_spots -= 1\n",
    "            print(f\"{vehicle.type} with license plate {vehicle.license_plate} parked successfully.\")\n",
    "        else:\n",
    "            print(\"Parking lot is full.\")\n",
    "\n",
    "    def remove_vehicle(self, vehicle):\n",
    "        if vehicle in self.parked_vehicles:\n",
    "            self.parked_vehicles.remove(vehicle)\n",
    "            self.available_spots += 1\n",
    "            print(f\"{vehicle.type} with license plate {vehicle.license_plate} removed from the parking lot.\")\n",
    "        else:\n",
    "            print(\"Vehicle not found in the parking lot.\")\n",
    "\n",
    "    def check_available_spots(self):\n",
    "        return self.available_spots\n",
    "\n",
    "    def display_parked_vehicles(self):\n",
    "        print(\"Vehicles parked in the parking lot:\")\n",
    "        for vehicle in self.parked_vehicles:\n",
    "            print(f\"{vehicle.type} with license plate {vehicle.license_plate}\")\n",
    "\n",
    "\n",
    "class Vehicle:\n",
    "    def __init__(self, license_plate, type):\n",
    "        self.license_plate = license_plate\n",
    "        self.type = type\n",
    "\n",
    "\n",
    "class ParkingSpot:\n",
    "    def __init__(self, spot_number, size):\n",
    "        self.spot_number = spot_number\n",
    "        self.size = size\n",
    "        self.occupied = False\n",
    "\n",
    "    def occupy_spot(self):\n",
    "        self.occupied = True\n",
    "\n",
    "    def free_spot(self):\n",
    "        self.occupied = False"
   ]
  },
  {
   "cell_type": "markdown",
   "metadata": {},
   "source": [
    "> This implementation provides basic functionalities for parking lot management such as parking vehicles, removing vehicles, checking available spots, and displaying parked vehicles. You can create instances of `ParkingLot`, `Vehicle`, and `ParkingSpot` classes to interact with the parking lot system."
   ]
  },
  {
   "cell_type": "markdown",
   "metadata": {},
   "source": [
    "**34. Design a simplified version of Twitter where users can post tweets, follow/unfollow other users, and see the 10 most recent tweets in the user's news feed.**\n",
    "\n",
    "> Asked in Twitter SDE-2 Interview"
   ]
  },
  {
   "cell_type": "code",
   "execution_count": 36,
   "metadata": {},
   "outputs": [],
   "source": [
    "from collections import deque\n",
    "import heapq\n",
    "import time\n",
    "\n",
    "class User:\n",
    "    def __init__(self, user_id):\n",
    "        self.user_id = user_id\n",
    "        self.followed_users = set()\n",
    "        self.tweets = deque(maxlen=10)  # Store up to 10 most recent tweets\n",
    "\n",
    "    def post_tweet(self, tweet_id, text):\n",
    "        tweet = Tweet(tweet_id, text)\n",
    "        self.tweets.append(tweet)\n",
    "\n",
    "    def follow(self, other_user):\n",
    "        self.followed_users.add(other_user)\n",
    "\n",
    "    def unfollow(self, other_user):\n",
    "        if other_user in self.followed_users:\n",
    "            self.followed_users.remove(other_user)\n",
    "\n",
    "    def get_news_feed(self):\n",
    "        tweets = []\n",
    "        for followed_user in self.followed_users:\n",
    "            tweets.extend(followed_user.tweets)\n",
    "        tweets.extend(self.tweets)\n",
    "        # Get the 10 most recent tweets\n",
    "        return heapq.nlargest(10, tweets, key=lambda x: x.timestamp)\n",
    "\n",
    "class Tweet:\n",
    "    def __init__(self, tweet_id, text):\n",
    "        self.tweet_id = tweet_id\n",
    "        self.text = text\n",
    "        self.timestamp = time.time()\n",
    "\n",
    "    def get_text(self):\n",
    "        return self.text\n",
    "\n",
    "    def get_timestamp(self):\n",
    "        return self.timestamp"
   ]
  },
  {
   "cell_type": "markdown",
   "metadata": {},
   "source": [
    "> In this implementation, the `User` class represents a Twitter user, and the `Tweet` class represents a tweet. Users can post tweets, follow/unfollow other users, and get their news feed."
   ]
  },
  {
   "cell_type": "code",
   "execution_count": 37,
   "metadata": {},
   "outputs": [
    {
     "name": "stdout",
     "output_type": "stream",
     "text": [
      "User 1's news feed:\n",
      "Good morning!\n",
      "Hello, Twitter!\n"
     ]
    }
   ],
   "source": [
    "# Example usage\n",
    "user1 = User(\"user1\")\n",
    "user2 = User(\"user2\")\n",
    "\n",
    "user1.post_tweet(1, \"Hello, Twitter!\")\n",
    "user2.post_tweet(2, \"Good morning!\")\n",
    "user1.follow(user2)\n",
    "\n",
    "print(\"User 1's news feed:\")\n",
    "for tweet in user1.get_news_feed():\n",
    "    print(tweet.get_text())"
   ]
  },
  {
   "cell_type": "markdown",
   "metadata": {},
   "source": [
    "**35. Write a function to check whether a given string can represent a valid IPv4 or IPv6 address or neither.**\n",
    "> Asked in Cisco Interview"
   ]
  },
  {
   "cell_type": "code",
   "execution_count": 38,
   "metadata": {},
   "outputs": [
    {
     "name": "stdout",
     "output_type": "stream",
     "text": [
      "172.16.254.1 : IPv4\n",
      "2001:0db8:85a3:0000:0000:8a2e:0370:7334 : IPv6\n",
      "256.256.256.256 : Neither\n",
      "2001:0db8:85a3::8A2E:0370:7334: : Neither\n"
     ]
    }
   ],
   "source": [
    "def valid_ip_address(ip):\n",
    "    # Check for IPv4 address\n",
    "    if '.' in ip:\n",
    "        parts = ip.split('.')\n",
    "        if len(parts) != 4:\n",
    "            return \"Neither\"\n",
    "        for part in parts:\n",
    "            if not part.isdigit() or not 0 <= int(part) <= 255 or (part[0] == '0' and len(part) > 1):\n",
    "                return \"Neither\"\n",
    "        return \"IPv4\"\n",
    "\n",
    "    # Check for IPv6 address\n",
    "    elif ':' in ip:\n",
    "        parts = ip.split(':')\n",
    "        if len(parts) != 8:\n",
    "            return \"Neither\"\n",
    "        for part in parts:\n",
    "            if not part or len(part) > 4 or not all(c in '0123456789abcdefABCDEF' for c in part):\n",
    "                return \"Neither\"\n",
    "        return \"IPv6\"\n",
    "\n",
    "    # If neither IPv4 nor IPv6\n",
    "    return \"Neither\"\n",
    "\n",
    "# Example usage\n",
    "ip1 = \"172.16.254.1\"\n",
    "ip2 = \"2001:0db8:85a3:0000:0000:8a2e:0370:7334\"\n",
    "ip3 = \"256.256.256.256\"\n",
    "ip4 = \"2001:0db8:85a3::8A2E:0370:7334:\"\n",
    "\n",
    "print(ip1, \":\", valid_ip_address(ip1))\n",
    "print(ip2, \":\", valid_ip_address(ip2))\n",
    "print(ip3, \":\", valid_ip_address(ip3))\n",
    "print(ip4, \":\", valid_ip_address(ip4))"
   ]
  },
  {
   "cell_type": "markdown",
   "metadata": {},
   "source": [
    "> This function first checks if the input string contains a period ('.') or colon (':') to determine if it's a potential IPv4 or IPv6 address, respectively. Then, it validates each part of the address according to the rules for IPv4 and IPv6. If the input string doesn't contain a period or colon, or if it doesn't satisfy the criteria for either IPv4 or IPv6, it returns \"Neither\"."
   ]
  },
  {
   "cell_type": "markdown",
   "metadata": {},
   "source": [
    "**36. Given a string S and a string T, find the minimum window in S which will contain all the characters in T in complexity O(n).**"
   ]
  },
  {
   "cell_type": "code",
   "execution_count": 39,
   "metadata": {},
   "outputs": [
    {
     "name": "stdout",
     "output_type": "stream",
     "text": [
      "Minimum window in S containing all characters in T: BANC\n"
     ]
    }
   ],
   "source": [
    "from collections import Counter\n",
    "\n",
    "def min_window(s, t):\n",
    "    if not s or not t:\n",
    "        return \"\"\n",
    "\n",
    "    # Count characters in T\n",
    "    target_counts = Counter(t)\n",
    "    required_chars = len(target_counts)\n",
    "    formed_chars = 0\n",
    "\n",
    "    # Initialize sliding window variables\n",
    "    left, right = 0, 0\n",
    "    window_counts = {}\n",
    "    ans = float('inf'), 0, 0\n",
    "\n",
    "    # Move the right pointer to expand the window\n",
    "    while right < len(s):\n",
    "        char = s[right]\n",
    "        window_counts[char] = window_counts.get(char, 0) + 1\n",
    "        if char in target_counts and window_counts[char] == target_counts[char]:\n",
    "            formed_chars += 1\n",
    "\n",
    "        # Try to minimize the window size by moving the left pointer\n",
    "        while left <= right and formed_chars == required_chars:\n",
    "            char = s[left]\n",
    "\n",
    "            # Update the minimum window if needed\n",
    "            if right - left + 1 < ans[0]:\n",
    "                ans = (right - left + 1, left, right)\n",
    "\n",
    "            window_counts[char] -= 1\n",
    "            if char in target_counts and window_counts[char] < target_counts[char]:\n",
    "                formed_chars -= 1\n",
    "\n",
    "            left += 1\n",
    "\n",
    "        right += 1\n",
    "\n",
    "    return \"\" if ans[0] == float('inf') else s[ans[1]: ans[2] + 1]\n",
    "\n",
    "# Example usage\n",
    "S = \"ADOBECODEBANC\"\n",
    "T = \"ABC\"\n",
    "print(\"Minimum window in S containing all characters in T:\", min_window(S, T))"
   ]
  },
  {
   "cell_type": "markdown",
   "metadata": {},
   "source": [
    "> This function initializes a sliding window `[left, right]` and moves the right pointer to expand the window while keeping track of the characters seen. When all required characters are seen `(formed_chars == required_chars)`, it tries to minimize the window size by moving the left pointer. Finally, it returns the minimum window found."
   ]
  },
  {
   "cell_type": "markdown",
   "metadata": {},
   "source": [
    "**37. Write a function that takes the original price of a product and a discount percentage as input and returns the discounted price.**\n",
    "> Asked in myntra Interview"
   ]
  },
  {
   "cell_type": "code",
   "execution_count": 40,
   "metadata": {},
   "outputs": [
    {
     "name": "stdout",
     "output_type": "stream",
     "text": [
      "Enter the original price of the product: 500\n",
      "Enter the discount percentage: 7\n",
      "Discounted price: 465.0\n"
     ]
    }
   ],
   "source": [
    "def calculate_discounted_price(original_price, discount_percentage):\n",
    "    if discount_percentage < 0 or discount_percentage > 100:\n",
    "        raise ValueError(\"Discount percentage should be between 0 and 100.\")\n",
    "\n",
    "    discounted_price = original_price - (original_price * discount_percentage / 100)\n",
    "    return discounted_price\n",
    "\n",
    "# Example usage\n",
    "original_price = float(input(\"Enter the original price of the product: \"))\n",
    "discount_percentage = float(input(\"Enter the discount percentage: \"))\n",
    "\n",
    "discounted_price = calculate_discounted_price(original_price, discount_percentage)\n",
    "print(\"Discounted price:\", discounted_price)"
   ]
  },
  {
   "cell_type": "markdown",
   "metadata": {},
   "source": [
    "**38. Write a Python function that calculates the discounted price of a product based on the current day of the week. The product has a regular price, and the discount policy is as follows: Monday to Friday, every alternate day has a 20% discount, while Saturday and Sunday have a 40% discount. Implement the function to take the original price of the product as input and return the discounted price.**"
   ]
  },
  {
   "cell_type": "code",
   "execution_count": 41,
   "metadata": {},
   "outputs": [
    {
     "name": "stdout",
     "output_type": "stream",
     "text": [
      "Enter the original price of the product: 500\n",
      "Discounted price: 400.0\n"
     ]
    }
   ],
   "source": [
    "import datetime\n",
    "\n",
    "def calculate_discounted_price(original_price):\n",
    "    today = datetime.datetime.now().weekday()  # Get the current day of the week (0=Monday, 1=Tuesday, ..., 6=Sunday)\n",
    "\n",
    "    if today < 5:  # Monday to Friday\n",
    "        discount_percentage = 20 if today % 2 == 0 else 0  # Apply 20% discount every alternate day\n",
    "    else:  # Saturday and Sunday\n",
    "        discount_percentage = 40\n",
    "\n",
    "    discounted_price = original_price - (original_price * discount_percentage / 100)\n",
    "    return discounted_price\n",
    "\n",
    "# Example usage\n",
    "original_price = float(input(\"Enter the original price of the product: \"))\n",
    "discounted_price = calculate_discounted_price(original_price)\n",
    "print(\"Discounted price:\", discounted_price)"
   ]
  },
  {
   "cell_type": "markdown",
   "metadata": {},
   "source": [
    "**Implement without using calendar libraries**"
   ]
  },
  {
   "cell_type": "code",
   "execution_count": 42,
   "metadata": {},
   "outputs": [
    {
     "name": "stdout",
     "output_type": "stream",
     "text": [
      "Enter the original price of the product: 500\n",
      "Discounted price: 400.0\n"
     ]
    }
   ],
   "source": [
    "def get_current_day_of_week():\n",
    "    # Define a reference date (e.g., January 1, 2022 is a Saturday)\n",
    "    reference_date = (2022, 1, 1)  # (year, month, day)\n",
    "    days_since_reference_date = (datetime.date.today() - datetime.date(*reference_date)).days\n",
    "    \n",
    "    # Calculate the current day of the week (0=Saturday, 1=Sunday, ..., 6=Friday)\n",
    "    return (days_since_reference_date + 5) % 7\n",
    "\n",
    "def calculate_discounted_price(original_price):\n",
    "    today = get_current_day_of_week()\n",
    "\n",
    "    if today < 5:  # Monday to Friday\n",
    "        discount_percentage = 20 if today % 2 == 0 else 0  # Apply 20% discount every alternate day\n",
    "    else:  # Saturday and Sunday\n",
    "        discount_percentage = 40\n",
    "\n",
    "    discounted_price = original_price - (original_price * discount_percentage / 100)\n",
    "    return discounted_price\n",
    "\n",
    "# Example usage\n",
    "original_price = float(input(\"Enter the original price of the product: \"))\n",
    "discounted_price = calculate_discounted_price(original_price)\n",
    "print(\"Discounted price:\", discounted_price)"
   ]
  },
  {
   "cell_type": "markdown",
   "metadata": {},
   "source": [
    "**39. Design a function to calculate the shipping cost based on the weight of the product and the distance to be shipped. Consider different shipping methods with varying rates.**\n",
    "\n",
    "> Asked in Delhivery DS Round 2"
   ]
  },
  {
   "cell_type": "code",
   "execution_count": 43,
   "metadata": {},
   "outputs": [
    {
     "name": "stdout",
     "output_type": "stream",
     "text": [
      "Enter the weight of the product (in kg): 2.2\n",
      "Enter the distance to be shipped (in km): 70\n",
      "Enter the shipping method (standard/express/priority): priority\n",
      "Shipping cost: 39.4\n"
     ]
    }
   ],
   "source": [
    "def calculate_shipping_cost(weight, distance, method='standard'):\n",
    "    # Define shipping rates for different methods\n",
    "    shipping_rates = {\n",
    "        'standard': {'rate_per_weight': 0.5, 'rate_per_distance': 0.1},\n",
    "        'express': {'rate_per_weight': 1, 'rate_per_distance': 0.2},\n",
    "        'priority': {'rate_per_weight': 2, 'rate_per_distance': 0.5}\n",
    "    }\n",
    "\n",
    "    if method not in shipping_rates:\n",
    "        raise ValueError(\"Invalid shipping method. Choose from 'standard', 'express', or 'priority'.\")\n",
    "\n",
    "    rate_per_weight = shipping_rates[method]['rate_per_weight']\n",
    "    rate_per_distance = shipping_rates[method]['rate_per_distance']\n",
    "\n",
    "    shipping_cost = weight * rate_per_weight + distance * rate_per_distance\n",
    "    return shipping_cost\n",
    "\n",
    "# Example usage\n",
    "weight = float(input(\"Enter the weight of the product (in kg): \"))\n",
    "distance = float(input(\"Enter the distance to be shipped (in km): \"))\n",
    "method = input(\"Enter the shipping method (standard/express/priority): \")\n",
    "\n",
    "shipping_cost = calculate_shipping_cost(weight, distance, method)\n",
    "print(\"Shipping cost:\", shipping_cost)"
   ]
  },
  {
   "cell_type": "markdown",
   "metadata": {},
   "source": [
    "**40. Design a class representing an ATM machine that allows users to withdraw money, check balance, and deposit money into their accounts.**\n",
    "\n",
    "> Asked in IDFC Bank"
   ]
  },
  {
   "cell_type": "code",
   "execution_count": 44,
   "metadata": {},
   "outputs": [
    {
     "name": "stdout",
     "output_type": "stream",
     "text": [
      "Current balance: 1000\n",
      "Enter amount to deposit: 700\n",
      "Deposit successful. Current balance: 1700.0\n",
      "Enter amount to withdraw: 500\n",
      "Withdrawal successful. Current balance: 1200.0\n"
     ]
    }
   ],
   "source": [
    "class ATM:\n",
    "    def __init__(self, balance):\n",
    "        self.balance = balance\n",
    "\n",
    "    def check_balance(self):\n",
    "        return self.balance\n",
    "\n",
    "    def deposit(self, amount):\n",
    "        if amount > 0:\n",
    "            self.balance += amount\n",
    "            return True\n",
    "        else:\n",
    "            return False\n",
    "\n",
    "    def withdraw(self, amount):\n",
    "        if amount > 0 and amount <= self.balance:\n",
    "            self.balance -= amount\n",
    "            return True\n",
    "        else:\n",
    "            return False\n",
    "\n",
    "# Example usage\n",
    "atm = ATM(1000)  # Initialize ATM with a balance of 1000\n",
    "\n",
    "print(\"Current balance:\", atm.check_balance())\n",
    "\n",
    "amount_to_deposit = float(input(\"Enter amount to deposit: \"))\n",
    "if atm.deposit(amount_to_deposit):\n",
    "    print(\"Deposit successful. Current balance:\", atm.check_balance())\n",
    "else:\n",
    "    print(\"Invalid deposit amount.\")\n",
    "\n",
    "amount_to_withdraw = float(input(\"Enter amount to withdraw: \"))\n",
    "if atm.withdraw(amount_to_withdraw):\n",
    "    print(\"Withdrawal successful. Current balance:\", atm.check_balance())\n",
    "else:\n",
    "    print(\"Insufficient funds or invalid withdrawal amount.\")"
   ]
  },
  {
   "cell_type": "markdown",
   "metadata": {},
   "source": [
    "**Explanation**\n",
    "> This `ATM` class has three main methods:\n",
    "\n",
    "- `check_balance():` Returns the current balance of the ATM.\n",
    "- `deposit(amount):` Allows users to deposit money into their accounts. Returns `True` if the deposit is successful, and `False` otherwise.\n",
    "- `withdraw(amount):` Allows users to withdraw money from their accounts. Returns `True` if the withdrawal is successful, and `False` otherwise."
   ]
  },
  {
   "cell_type": "markdown",
   "metadata": {},
   "source": [
    "**41. Given two arrays, write a python function to return the intersection of the two?** \n",
    "\n",
    "> For example, `X = [1,5,9,0]` and `Y = [3,0,2,9]` it should return `[9,0]`"
   ]
  },
  {
   "cell_type": "code",
   "execution_count": 46,
   "metadata": {},
   "outputs": [
    {
     "name": "stdout",
     "output_type": "stream",
     "text": [
      "[0, 9]\n"
     ]
    }
   ],
   "source": [
    "def intersection_of_arrays(X, Y):\n",
    "    # Convert arrays to sets for faster intersection operation\n",
    "    set_X = set(X)\n",
    "    set_Y = set(Y)\n",
    "\n",
    "    # Find the intersection of the sets\n",
    "    intersection = set_X.intersection(set_Y)\n",
    "    \n",
    "    # Convert the intersection set back to a list\n",
    "    return list(intersection)\n",
    "\n",
    "# Example usage\n",
    "X = [1, 5, 9, 0]\n",
    "Y = [3, 0, 2, 9]\n",
    "print(intersection_of_arrays(X, Y))  # Output: [0, 9]"
   ]
  },
  {
   "cell_type": "markdown",
   "metadata": {},
   "source": [
    "**42. Given an array, find all the duplicates in this array?**"
   ]
  },
  {
   "cell_type": "code",
   "execution_count": 47,
   "metadata": {},
   "outputs": [
    {
     "name": "stdout",
     "output_type": "stream",
     "text": [
      "Duplicates in the array: [2, 3, 4]\n"
     ]
    }
   ],
   "source": [
    "def find_duplicates(arr):\n",
    "    duplicates = set()\n",
    "    seen = set()\n",
    "\n",
    "    for num in arr:\n",
    "        if num in seen:\n",
    "            duplicates.add(num)\n",
    "        else:\n",
    "            seen.add(num)\n",
    "\n",
    "    return list(duplicates)\n",
    "\n",
    "# Example usage\n",
    "arr = [4, 2, 3, 2, 1, 4, 5, 3]\n",
    "print(\"Duplicates in the array:\", find_duplicates(arr))"
   ]
  },
  {
   "cell_type": "markdown",
   "metadata": {},
   "source": [
    "**43. Given an array of integers, rearrange the array such that the even-indexed elements are greater than the odd-indexed elements.**"
   ]
  },
  {
   "cell_type": "code",
   "execution_count": 48,
   "metadata": {},
   "outputs": [
    {
     "name": "stdout",
     "output_type": "stream",
     "text": [
      "Original array: [3, 1, 2, 5, 4, 6, 7, 8]\n",
      "Rearranged array: [2, 1, 4, 3, 6, 5, 8, 7]\n"
     ]
    }
   ],
   "source": [
    "def rearrange_array(arr):\n",
    "    # Sort the array\n",
    "    arr.sort()\n",
    "\n",
    "    # Swap adjacent elements starting from index 1\n",
    "    for i in range(1, len(arr), 2):\n",
    "        arr[i], arr[i - 1] = arr[i - 1], arr[i]\n",
    "\n",
    "    return arr\n",
    "\n",
    "# Example usage\n",
    "arr = [3, 1, 2, 5, 4, 6, 7, 8]\n",
    "print(\"Original array:\", arr)\n",
    "print(\"Rearranged array:\", rearrange_array(arr))"
   ]
  },
  {
   "cell_type": "markdown",
   "metadata": {},
   "source": [
    "**44. Given an array of integers, find the majority element (element that appears more than n/2 times, where n is the size of the array).**"
   ]
  },
  {
   "cell_type": "code",
   "execution_count": 49,
   "metadata": {},
   "outputs": [
    {
     "name": "stdout",
     "output_type": "stream",
     "text": [
      "Majority element: 2\n"
     ]
    }
   ],
   "source": [
    "def find_majority_element(nums):\n",
    "    candidate = None\n",
    "    count = 0\n",
    "\n",
    "    for num in nums:\n",
    "        if count == 0:\n",
    "            candidate = num\n",
    "            count = 1\n",
    "        elif num == candidate:\n",
    "            count += 1\n",
    "        else:\n",
    "            count -= 1\n",
    "\n",
    "    # Verify if candidate is the majority element\n",
    "    count = 0\n",
    "    for num in nums:\n",
    "        if num == candidate:\n",
    "            count += 1\n",
    "\n",
    "    if count > len(nums) // 2:\n",
    "        return candidate\n",
    "    else:\n",
    "        return None\n",
    "\n",
    "# Example usage\n",
    "nums = [2, 2, 1, 1, 1, 2, 2]\n",
    "majority_element = find_majority_element(nums)\n",
    "if majority_element is not None:\n",
    "    print(\"Majority element:\", majority_element)\n",
    "else:\n",
    "    print(\"No majority element found.\")"
   ]
  },
  {
   "cell_type": "markdown",
   "metadata": {},
   "source": [
    "**45. Write a function to find the peak element in an array (an element which is greater than or equal to its neighbors).**"
   ]
  },
  {
   "cell_type": "code",
   "execution_count": 50,
   "metadata": {},
   "outputs": [
    {
     "name": "stdout",
     "output_type": "stream",
     "text": [
      "Peak element: 3\n"
     ]
    }
   ],
   "source": [
    "def find_peak_element(nums):\n",
    "    def binary_search(nums, left, right):\n",
    "        if left == right:\n",
    "            return left\n",
    "        \n",
    "        mid = (left + right) // 2\n",
    "        if nums[mid] > nums[mid + 1]:\n",
    "            return binary_search(nums, left, mid)\n",
    "        else:\n",
    "            return binary_search(nums, mid + 1, right)\n",
    "\n",
    "    return binary_search(nums, 0, len(nums) - 1)\n",
    "\n",
    "# Example usage\n",
    "nums = [1, 2, 3, 1]\n",
    "peak_index = find_peak_element(nums)\n",
    "print(\"Peak element:\", nums[peak_index])"
   ]
  },
  {
   "cell_type": "markdown",
   "metadata": {},
   "source": [
    "**46. Implement a function to shuffle a deck of cards represented as an array.**"
   ]
  },
  {
   "cell_type": "code",
   "execution_count": 51,
   "metadata": {},
   "outputs": [
    {
     "name": "stdout",
     "output_type": "stream",
     "text": [
      "Original deck: [1, 2, 3, 4, 5, 6, 7, 8, 9, 10, 11, 12, 13, 14, 15, 16, 17, 18, 19, 20, 21, 22, 23, 24, 25, 26, 27, 28, 29, 30, 31, 32, 33, 34, 35, 36, 37, 38, 39, 40, 41, 42, 43, 44, 45, 46, 47, 48, 49, 50, 51, 52]\n",
      "Shuffled deck: [6, 40, 46, 31, 45, 24, 12, 5, 33, 14, 16, 37, 35, 42, 23, 15, 30, 32, 22, 43, 1, 21, 34, 9, 7, 29, 17, 48, 36, 27, 41, 26, 25, 49, 4, 52, 38, 47, 11, 3, 2, 44, 50, 51, 13, 8, 10, 18, 19, 20, 39, 28]\n"
     ]
    }
   ],
   "source": [
    "import random\n",
    "\n",
    "def shuffle_deck(deck):\n",
    "    for i in range(len(deck) - 1, 0, -1):\n",
    "        j = random.randint(0, i)  # Choose a random index between 0 and i (inclusive)\n",
    "        deck[i], deck[j] = deck[j], deck[i]  # Swap elements\n",
    "\n",
    "# Example usage\n",
    "deck = list(range(1, 53))  # Standard deck of 52 cards represented as integers from 1 to 52\n",
    "print(\"Original deck:\", deck)\n",
    "shuffle_deck(deck)\n",
    "print(\"Shuffled deck:\", deck)"
   ]
  },
  {
   "cell_type": "markdown",
   "metadata": {},
   "source": [
    "**47. Given an unsorted array of integers, find the length of longest increasing subsequence.**"
   ]
  },
  {
   "cell_type": "code",
   "execution_count": 53,
   "metadata": {},
   "outputs": [
    {
     "name": "stdout",
     "output_type": "stream",
     "text": [
      "Length of longest increasing subsequence: 4\n"
     ]
    }
   ],
   "source": [
    "def length_of_lis(nums):\n",
    "    if not nums:\n",
    "        return 0\n",
    "\n",
    "    dp = [1] * len(nums)\n",
    "\n",
    "    for i in range(1, len(nums)):\n",
    "        for j in range(i):\n",
    "            if nums[i] > nums[j]:\n",
    "                dp[i] = max(dp[i], dp[j] + 1)\n",
    "\n",
    "    return max(dp)\n",
    "\n",
    "# Example usage\n",
    "nums = [10, 9, 2, 5, 3, 7, 101, 18]\n",
    "print(\"Length of longest increasing subsequence:\", length_of_lis(nums))"
   ]
  },
  {
   "cell_type": "markdown",
   "metadata": {},
   "source": [
    "**48. Given an array, rotate the array to the right by k steps, where k is non-negative.**"
   ]
  },
  {
   "cell_type": "code",
   "execution_count": 54,
   "metadata": {},
   "outputs": [
    {
     "name": "stdout",
     "output_type": "stream",
     "text": [
      "Rotated array: [5, 6, 7, 1, 2, 3, 4]\n"
     ]
    }
   ],
   "source": [
    "def rotate_array(nums, k):\n",
    "    n = len(nums)\n",
    "    k %= n  # Handle cases where k is greater than the length of the array\n",
    "\n",
    "    # Reverse the entire array\n",
    "    reverse(nums, 0, n - 1)\n",
    "\n",
    "    # Reverse the first k elements\n",
    "    reverse(nums, 0, k - 1)\n",
    "\n",
    "    # Reverse the remaining elements\n",
    "    reverse(nums, k, n - 1)\n",
    "\n",
    "def reverse(nums, start, end):\n",
    "    while start < end:\n",
    "        nums[start], nums[end] = nums[end], nums[start]\n",
    "        start += 1\n",
    "        end -= 1\n",
    "\n",
    "# Example usage\n",
    "nums = [1, 2, 3, 4, 5, 6, 7]\n",
    "k = 3\n",
    "rotate_array(nums, k)\n",
    "print(\"Rotated array:\", nums)"
   ]
  },
  {
   "cell_type": "markdown",
   "metadata": {},
   "source": [
    "**Explanation**\n",
    "\n",
    "- Original array: [1, 2, 3, 4, 5, 6, 7]\n",
    "- Reverse the entire array: [7, 6, 5, 4, 3, 2, 1]\n",
    "- Reverse the first 3 elements: [5, 6, 7, 4, 3, 2, 1]\n",
    "- Reverse the remaining elements: [5, 6, 7, 1, 2, 3, 4]"
   ]
  },
  {
   "cell_type": "markdown",
   "metadata": {},
   "source": [
    "**49. Given a string S and a string T, find the minimum window in S that contains all the characters in T.**"
   ]
  },
  {
   "cell_type": "code",
   "execution_count": 55,
   "metadata": {},
   "outputs": [
    {
     "name": "stdout",
     "output_type": "stream",
     "text": [
      "Minimum window: BANC\n"
     ]
    }
   ],
   "source": [
    "from collections import Counter\n",
    "\n",
    "def min_window(s, t):\n",
    "    if not s or not t:\n",
    "        return \"\"\n",
    "\n",
    "    target_counts = Counter(t)\n",
    "    required_chars = len(target_counts)\n",
    "    formed_chars = 0\n",
    "    left = 0\n",
    "    min_length = float('inf')\n",
    "    min_window_start = 0\n",
    "\n",
    "    window_counts = {}\n",
    "    \n",
    "    for right, char in enumerate(s):\n",
    "        window_counts[char] = window_counts.get(char, 0) + 1\n",
    "\n",
    "        if char in target_counts and window_counts[char] == target_counts[char]:\n",
    "            formed_chars += 1\n",
    "\n",
    "        while formed_chars == required_chars:\n",
    "            window_length = right - left + 1\n",
    "            if window_length < min_length:\n",
    "                min_length = window_length\n",
    "                min_window_start = left\n",
    "            \n",
    "            left_char = s[left]\n",
    "            window_counts[left_char] -= 1\n",
    "            if left_char in target_counts and window_counts[left_char] < target_counts[left_char]:\n",
    "                formed_chars -= 1\n",
    "\n",
    "            left += 1\n",
    "\n",
    "    return \"\" if min_length == float('inf') else s[min_window_start:min_window_start + min_length]\n",
    "\n",
    "# Example usage\n",
    "S = \"ADOBECODEBANC\"\n",
    "T = \"ABC\"\n",
    "print(\"Minimum window:\", min_window(S, T))  # Output: \"BANC\""
   ]
  },
  {
   "cell_type": "markdown",
   "metadata": {},
   "source": [
    "**Explanation**\n",
    "\n",
    "- We use two pointers (`left` and `right`) to maintain a sliding window.\n",
    "- We use two dictionaries (`target_counts` and `window_counts`) to keep track of the counts of characters in the target string `T` and the current window, respectively.\n",
    "- We use a variable `formed_chars` to keep track of the number of characters in T that are present in the current window.\n",
    "- We move the `right` pointer to expand the window until we have all the required characters from `T`.\n",
    "- Once we have all the required characters, we move the `left` pointer to shrink the window while still keeping all the required characters.\n",
    "- We update the minimum window length and its starting index whenever we find a valid window.\n",
    "- Finally, we return the minimum window found, or an empty string if no valid window is found."
   ]
  },
  {
   "cell_type": "markdown",
   "metadata": {},
   "source": [
    "**50. Write a Python program to calculate the compound interest for a given principal amount, interest rate, and time period.**"
   ]
  },
  {
   "cell_type": "code",
   "execution_count": 56,
   "metadata": {},
   "outputs": [
    {
     "name": "stdout",
     "output_type": "stream",
     "text": [
      "Compound interest: 157.62500000000023\n"
     ]
    }
   ],
   "source": [
    "def compound_interest(principal, rate, time, n):\n",
    "    amount = principal * (1 + rate / n) ** (n * time)\n",
    "    return amount - principal\n",
    "\n",
    "# Example usage\n",
    "principal = 1000\n",
    "rate = 0.05\n",
    "time = 3\n",
    "n = 1  # Compounded annually\n",
    "interest = compound_interest(principal, rate, time, n)\n",
    "print(\"Compound interest:\", interest)"
   ]
  },
  {
   "cell_type": "markdown",
   "metadata": {},
   "source": [
    "**Explanation**\n",
    "\n",
    "- The principal amount is `$1000`.\n",
    "- The annual interest rate is `5% (0.05 in decimal)`.\n",
    "- The time period is `3 years`.\n",
    "- Interest is compounded annually `(once per year)`."
   ]
  },
  {
   "cell_type": "markdown",
   "metadata": {},
   "source": [
    "> **Congratulations on completing 50 coding questions, everyone! 🎉 Each question conquered reflects your growth and determination. Keep pushing boundaries, embracing challenges, and never lose sight of your passion for coding. Your potential is limitless!**"
   ]
  },
  {
   "cell_type": "markdown",
   "metadata": {},
   "source": [
    "# Happy Learning"
   ]
  }
 ],
 "metadata": {
  "kernelspec": {
   "display_name": "Python 3",
   "language": "python",
   "name": "python3"
  },
  "language_info": {
   "codemirror_mode": {
    "name": "ipython",
    "version": 3
   },
   "file_extension": ".py",
   "mimetype": "text/x-python",
   "name": "python",
   "nbconvert_exporter": "python",
   "pygments_lexer": "ipython3",
   "version": "3.6.9"
  }
 },
 "nbformat": 4,
 "nbformat_minor": 4
}
