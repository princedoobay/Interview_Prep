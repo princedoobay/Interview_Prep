{
 "cells": [
  {
   "cell_type": "markdown",
   "metadata": {},
   "source": [
    "**1. What is Pandas? How does it differ from other data manipulation tools in Python?**"
   ]
  },
  {
   "cell_type": "markdown",
   "metadata": {},
   "source": [
    "Pandas is a Python library widely used for data manipulation and analysis. It provides powerful data structures like DataFrame and Series, along with a variety of functions to manipulate and analyze structured data. Some key features of Pandas include data alignment, handling missing data, reshaping and pivoting data, merging and joining datasets, and time series functionality.\n",
    "\n",
    "Here are some ways Pandas differs from other data manipulation tools in Python:\n",
    "\n",
    "1. **DataFrame and Series:** Pandas introduces the DataFrame and Series data structures, which are powerful tools for handling tabular data and one-dimensional labeled arrays, respectively. This makes it easy to work with structured data.\n",
    "\n",
    "2. **Integration with NumPy:** Pandas is built on top of NumPy, a fundamental package for scientific computing in Python. This integration allows for efficient manipulation and analysis of large datasets.\n",
    "\n",
    "3. **Data Alignment:** Pandas automatically aligns data based on labels, making it easy to perform operations on datasets even if they have different indexes or column names.\n",
    "\n",
    "4. **Missing Data Handling:** Pandas provides functions to handle missing data, allowing users to either remove or impute missing values based on different strategies.\n",
    "\n",
    "5. **GroupBy Functionality:** Pandas offers powerful GroupBy functionality, allowing users to split data into groups based on some criteria, apply a function to each group independently, and combine the results.\n",
    "\n",
    "6. **Time Series Functionality:** Pandas has extensive support for working with time series data, including date range generation, shifting and lagging, resampling, and time zone handling.\n",
    "\n",
    "7. **IO Tools:** Pandas provides robust input/output tools for reading and writing data in various formats, including CSV, Excel, SQL databases, and more.\n",
    "\n",
    "8. **Flexibility:** Pandas offers flexibility in data manipulation with its rich set of functions and methods, allowing users to perform complex operations efficiently."
   ]
  },
  {
   "cell_type": "markdown",
   "metadata": {},
   "source": [
    "**2. What is the purpose of the head() and tail() methods in Pandas?**"
   ]
  },
  {
   "cell_type": "markdown",
   "metadata": {},
   "source": [
    "The `head()` and `tail()` methods in Pandas are used to view the first few rows (head) or last few rows (tail) of a DataFrame or Series. These methods are commonly used for quick data inspection to get a sense of the structure and content of the data.\n",
    "\n",
    "\n",
    "- **head():** When called without any arguments, the `head()` method by default returns the first 5 rows of the DataFrame or Series. However, you can specify the number of rows you want to see by passing an integer argument to the method. For example, `df.head(10)` will return the first 10 rows of the DataFrame `df`.\n",
    "\n",
    "- **tail():** Similar to `head()`, the `tail()` method by default returns the last 5 rows of the DataFrame or Series. You can also specify the number of rows you want to see by passing an integer argument. For instance, `df.tail(10)` will return the last 10 rows of the DataFrame `df`."
   ]
  },
  {
   "cell_type": "markdown",
   "metadata": {},
   "source": [
    "**3. How do you select specific columns from a DataFrame?**"
   ]
  },
  {
   "cell_type": "markdown",
   "metadata": {},
   "source": [
    "You can select specific columns from a DataFrame in Pandas using square brackets `[]` or the `.loc[]` and `.iloc[]` accessors. \n",
    "\n",
    "**Here are some examples:**\n",
    "\n",
    "**Using square brackets `[]`:**"
   ]
  },
  {
   "cell_type": "code",
   "execution_count": 1,
   "metadata": {},
   "outputs": [
    {
     "name": "stdout",
     "output_type": "stream",
     "text": [
      "0    1\n",
      "1    2\n",
      "2    3\n",
      "3    4\n",
      "Name: A, dtype: int64\n",
      "   A  B\n",
      "0  1  a\n",
      "1  2  b\n",
      "2  3  c\n",
      "3  4  d\n"
     ]
    }
   ],
   "source": [
    "import pandas as pd\n",
    "\n",
    "# Create a DataFrame\n",
    "data = {'A': [1, 2, 3, 4],\n",
    "        'B': ['a', 'b', 'c', 'd'],\n",
    "        'C': [True, False, True, False]}\n",
    "df = pd.DataFrame(data)\n",
    "\n",
    "# Select a single column\n",
    "column_A = df['A']\n",
    "print(column_A)\n",
    "\n",
    "# Select multiple columns\n",
    "columns_AB = df[['A', 'B']]\n",
    "print(columns_AB)"
   ]
  },
  {
   "cell_type": "markdown",
   "metadata": {},
   "source": [
    "**Using `.loc[]` accessor (label-based indexing):**"
   ]
  },
  {
   "cell_type": "code",
   "execution_count": 2,
   "metadata": {},
   "outputs": [
    {
     "name": "stdout",
     "output_type": "stream",
     "text": [
      "0    1\n",
      "1    2\n",
      "2    3\n",
      "3    4\n",
      "Name: A, dtype: int64\n",
      "   A  B\n",
      "0  1  a\n",
      "1  2  b\n",
      "2  3  c\n",
      "3  4  d\n"
     ]
    }
   ],
   "source": [
    "# Select a single column\n",
    "column_A = df.loc[:, 'A']\n",
    "print(column_A)\n",
    "\n",
    "# Select multiple columns\n",
    "columns_AB = df.loc[:, ['A', 'B']]\n",
    "print(columns_AB)"
   ]
  },
  {
   "cell_type": "markdown",
   "metadata": {},
   "source": [
    "**Using `.iloc[]` accessor (integer-based indexing):**"
   ]
  },
  {
   "cell_type": "code",
   "execution_count": 3,
   "metadata": {},
   "outputs": [
    {
     "name": "stdout",
     "output_type": "stream",
     "text": [
      "0    1\n",
      "1    2\n",
      "2    3\n",
      "3    4\n",
      "Name: A, dtype: int64\n",
      "   A  B\n",
      "0  1  a\n",
      "1  2  b\n",
      "2  3  c\n",
      "3  4  d\n"
     ]
    }
   ],
   "source": [
    "# Select a single column\n",
    "column_A = df.iloc[:, 0]  # Index 0 corresponds to the first column 'A'\n",
    "print(column_A)\n",
    "\n",
    "# Select multiple columns\n",
    "columns_AB = df.iloc[:, [0, 1]]  # Indexes 0 and 1 correspond to columns 'A' and 'B'\n",
    "print(columns_AB)"
   ]
  },
  {
   "cell_type": "markdown",
   "metadata": {},
   "source": [
    "**4. Explain the difference between loc and iloc in Pandas.**"
   ]
  },
  {
   "cell_type": "markdown",
   "metadata": {},
   "source": [
    "In Pandas, both `.loc[]` and `.iloc[]` are used for indexing and selecting data from a DataFrame, but they have some key differences:\n",
    "\n",
    "**1. Label-based vs Integer-based Indexing:**\n",
    "\n",
    "- `.loc[]` is primarily used for label-based indexing, meaning you specify row and column labels explicitly.\n",
    "\n",
    "- `.iloc[]` is used for integer-based indexing, where you specify the integer positions of rows and columns.\n",
    "\n",
    "**2. Usage:**\n",
    "\n",
    "- With `.loc[]`, you provide the row and column labels to select data. It's similar to how you would index a dictionary using keys.\n",
    "\n",
    "- With `.iloc[]`, you provide the integer positions of rows and columns to select data. It's akin to traditional Python-style indexing.\n",
    "\n",
    "**3. Inclusivity:**\n",
    "\n",
    "- The slicing with `.loc[]` is inclusive of both the start and stop indices, meaning both the start and stop values are included in the selection.\n",
    "\n",
    "- The slicing with `.iloc[]` is exclusive of the stop index, meaning the element at the stop index is not included in the selection."
   ]
  },
  {
   "cell_type": "code",
   "execution_count": 5,
   "metadata": {},
   "outputs": [
    {
     "name": "stdout",
     "output_type": "stream",
     "text": [
      "      A  B\n",
      "row2  2  b\n",
      "row3  3  c\n",
      "row4  4  d\n",
      "******************\n",
      "      A  B\n",
      "row2  2  b\n",
      "row3  3  c\n",
      "row4  4  d\n"
     ]
    }
   ],
   "source": [
    "import pandas as pd\n",
    "\n",
    "# Create a sample DataFrame\n",
    "df = pd.DataFrame({'A': [1, 2, 3, 4, 5],\n",
    "                   'B': ['a', 'b', 'c', 'd', 'e']},\n",
    "                  index=['row1', 'row2', 'row3', 'row4', 'row5'])\n",
    "\n",
    "# Using .loc[] for label-based indexing\n",
    "print(df.loc['row2':'row4', 'A':'B'])  # Selects rows 'row2' to 'row4' and columns 'A' to 'B' inclusively\n",
    "\n",
    "print(\"******************\")\n",
    "\n",
    "# Using .iloc[] for integer-based indexing\n",
    "print(df.iloc[1:4, 0:2])  # Selects rows 1 to 3 (exclusive of 4) and columns 0 to 1 (exclusive of 2)"
   ]
  },
  {
   "cell_type": "markdown",
   "metadata": {},
   "source": [
    "**5. What is the significance of the isnull() and notnull() functions in Pandas?**"
   ]
  },
  {
   "cell_type": "markdown",
   "metadata": {},
   "source": [
    "The `isnull()` and `notnull()` functions in Pandas are used to detect missing or null values in a DataFrame or Series. These functions return a boolean mask indicating where the missing values are located within the data.\n",
    "\n",
    "Here's the significance of each function:\n",
    "\n",
    "**1. isnull():**\n",
    "\n",
    "- The `isnull()` function returns a boolean mask where `True` indicates missing values (i.e., NaN or None) and `False` indicates non-missing values.\n",
    "\n",
    "- This function is useful for identifying missing values within your dataset, allowing you to perform further analysis or handling of these missing values, such as imputation or removal.\n",
    "\n",
    "**notnull():**\n",
    "\n",
    "- The `notnull()` function is essentially the opposite of `isnull()`. It returns a boolean mask where `True` indicates non-missing values and `False` indicates missing values.\n",
    "\n",
    "- This function is useful when you want to identify where data is present in your dataset, enabling you to focus on valid data points for analysis or visualization."
   ]
  },
  {
   "cell_type": "code",
   "execution_count": 6,
   "metadata": {},
   "outputs": [
    {
     "name": "stdout",
     "output_type": "stream",
     "text": [
      "       A      B\n",
      "0  False  False\n",
      "1   True  False\n",
      "2  False   True\n",
      "3  False  False\n",
      "       A      B\n",
      "0   True   True\n",
      "1  False   True\n",
      "2   True  False\n",
      "3   True   True\n"
     ]
    }
   ],
   "source": [
    "import pandas as pd\n",
    "import numpy as np\n",
    "\n",
    "# Create a DataFrame with missing values\n",
    "data = {'A': [1, np.nan, 3, 4],\n",
    "        'B': ['a', 'b', None, 'd']}\n",
    "df = pd.DataFrame(data)\n",
    "\n",
    "# Check for missing values using isnull()\n",
    "print(df.isnull())\n",
    "\n",
    "# Check for non-missing values using notnull()\n",
    "print(df.notnull())"
   ]
  },
  {
   "cell_type": "markdown",
   "metadata": {},
   "source": [
    "**6. How do you rename columns in a Pandas DataFrame?**"
   ]
  },
  {
   "cell_type": "markdown",
   "metadata": {},
   "source": [
    "We can rename columns in a Pandas DataFrame using the rename() method. This method allows you to specify new names for one or more columns. \n",
    "\n",
    "Here's how you can do it:"
   ]
  },
  {
   "cell_type": "code",
   "execution_count": 9,
   "metadata": {},
   "outputs": [
    {
     "name": "stdout",
     "output_type": "stream",
     "text": [
      "   A  B  C\n",
      "0  1  4  7\n",
      "1  2  5  8\n",
      "2  3  6  9\n",
      "*********************\n",
      "   Column_A  Column_B  Column_C\n",
      "0         1         4         7\n",
      "1         2         5         8\n",
      "2         3         6         9\n"
     ]
    }
   ],
   "source": [
    "import pandas as pd\n",
    "\n",
    "# Create a sample DataFrame\n",
    "data = {'A': [1, 2, 3],\n",
    "        'B': [4, 5, 6],\n",
    "        'C': [7, 8, 9]}\n",
    "df = pd.DataFrame(data)\n",
    "\n",
    "print(df)\n",
    "\n",
    "print(\"*********************\")\n",
    "\n",
    "# Rename a single column\n",
    "df = df.rename(columns={'A': 'Column_A'})\n",
    "\n",
    "# Rename multiple columns\n",
    "df = df.rename(columns={'B': 'Column_B', 'C': 'Column_C'})\n",
    "\n",
    "# Print the DataFrame to see the changes\n",
    "print(df)"
   ]
  },
  {
   "cell_type": "markdown",
   "metadata": {},
   "source": [
    "**7. How can you remove duplicate rows from a DataFrame?**"
   ]
  },
  {
   "cell_type": "markdown",
   "metadata": {},
   "source": [
    "You can remove duplicate rows from a DataFrame in Pandas using the `drop_duplicates()` method. This method identifies and removes duplicate rows based on the values in all columns or a specific subset of columns."
   ]
  },
  {
   "cell_type": "code",
   "execution_count": 11,
   "metadata": {},
   "outputs": [
    {
     "name": "stdout",
     "output_type": "stream",
     "text": [
      "   A  B\n",
      "0  1  a\n",
      "1  2  b\n",
      "2  2  b\n",
      "3  3  c\n",
      "4  4  d\n",
      "5  4  d\n",
      "*********************\n",
      "   A  B\n",
      "0  1  a\n",
      "1  2  b\n",
      "3  3  c\n",
      "4  4  d\n"
     ]
    }
   ],
   "source": [
    "import pandas as pd\n",
    "\n",
    "# Create a sample DataFrame with duplicate rows\n",
    "data = {'A': [1, 2, 2, 3, 4, 4],\n",
    "        'B': ['a', 'b', 'b', 'c', 'd', 'd']}\n",
    "df = pd.DataFrame(data)\n",
    "\n",
    "print(df)\n",
    "\n",
    "print(\"*********************\")\n",
    "\n",
    "# Remove duplicate rows\n",
    "df_no_duplicates = df.drop_duplicates()\n",
    "\n",
    "# Print the DataFrame without duplicate rows\n",
    "print(df_no_duplicates)\n"
   ]
  },
  {
   "cell_type": "markdown",
   "metadata": {},
   "source": [
    "**8. What are the various methods for merging/joining DataFrames in Pandas?**"
   ]
  },
  {
   "cell_type": "markdown",
   "metadata": {},
   "source": [
    "In Pandas, you can merge or join DataFrames using various methods, primarily through the `pd.merge()` function. Here are the main methods for merging/joining DataFrames:\n",
    "\n",
    "**1.Inner Join:** Retains only the common rows between the DataFrames based on a common column(s). This is the default behavior of `pd.merge().`\n",
    "\n",
    "**2. Left Join:** Retains all rows from the left DataFrame and matches them with rows from the right DataFrame based on a common column(s). Missing values are filled with NaN.\n",
    "\n",
    "**3. Right Join:** Retains all rows from the right DataFrame and matches them with rows from the left DataFrame based on a common column(s). Missing values are filled with NaN.\n",
    "\n",
    "**4.Outer Join (Full Outer Join):** Retains all rows from both DataFrames and matches them based on a common column(s). Missing values are filled with NaN where there is no match.\n",
    "\n",
    "**5. Concatenation:** Combines DataFrames along a particular axis (usually rows or columns) without performing any matching based on keys. This is done using the `pd.concat()` function.\n"
   ]
  },
  {
   "cell_type": "code",
   "execution_count": 12,
   "metadata": {},
   "outputs": [
    {
     "name": "stdout",
     "output_type": "stream",
     "text": [
      "Inner Join:\n",
      "  key  value_left  value_right\n",
      "0   B           2            5\n",
      "1   C           3            6\n",
      "2   D           4            7\n",
      "\n",
      "Left Join:\n",
      "  key  value_left  value_right\n",
      "0   A           1          NaN\n",
      "1   B           2          5.0\n",
      "2   C           3          6.0\n",
      "3   D           4          7.0\n",
      "\n",
      "Right Join:\n",
      "  key  value_left  value_right\n",
      "0   B         2.0            5\n",
      "1   C         3.0            6\n",
      "2   D         4.0            7\n",
      "3   E         NaN            8\n",
      "\n",
      "Outer Join:\n",
      "  key  value_left  value_right\n",
      "0   A         1.0          NaN\n",
      "1   B         2.0          5.0\n",
      "2   C         3.0          6.0\n",
      "3   D         4.0          7.0\n",
      "4   E         NaN          8.0\n"
     ]
    }
   ],
   "source": [
    "import pandas as pd\n",
    "\n",
    "# Sample DataFrames\n",
    "left_df = pd.DataFrame({'key': ['A', 'B', 'C', 'D'],\n",
    "                        'value_left': [1, 2, 3, 4]})\n",
    "right_df = pd.DataFrame({'key': ['B', 'C', 'D', 'E'],\n",
    "                         'value_right': [5, 6, 7, 8]})\n",
    "\n",
    "# Inner join\n",
    "inner_join = pd.merge(left_df, right_df, on='key', how='inner')\n",
    "\n",
    "# Left join\n",
    "left_join = pd.merge(left_df, right_df, on='key', how='left')\n",
    "\n",
    "# Right join\n",
    "right_join = pd.merge(left_df, right_df, on='key', how='right')\n",
    "\n",
    "# Outer join\n",
    "outer_join = pd.merge(left_df, right_df, on='key', how='outer')\n",
    "\n",
    "print(\"Inner Join:\")\n",
    "print(inner_join)\n",
    "print(\"\\nLeft Join:\")\n",
    "print(left_join)\n",
    "print(\"\\nRight Join:\")\n",
    "print(right_join)\n",
    "print(\"\\nOuter Join:\")\n",
    "print(outer_join)"
   ]
  },
  {
   "cell_type": "markdown",
   "metadata": {},
   "source": [
    "**9. What is Numpy and why is it used in Python for numerical computing?**"
   ]
  },
  {
   "cell_type": "markdown",
   "metadata": {},
   "source": [
    "NumPy is a Python library for numerical computing. It's used for efficient manipulation of large arrays and matrices, along with a wide range of mathematical functions. It's fast, supports multi-dimensional arrays, and is extensively used in scientific computing, machine learning, and data analysis due to its efficiency and versatility."
   ]
  },
  {
   "cell_type": "markdown",
   "metadata": {},
   "source": [
    "**10. What is the difference between Numpy arrays and Python lists?**"
   ]
  },
  {
   "attachments": {
    "1.png": {
     "image/png": "[encoded data removed]"
    }
   },
   "cell_type": "markdown",
   "metadata": {},
   "source": [
    "![1.png](attachment:1.png)"
   ]
  },
  {
   "cell_type": "markdown",
   "metadata": {},
   "source": [
    "**11. How do you perform element-wise multiplication of two Numpy arrays?**"
   ]
  },
  {
   "cell_type": "markdown",
   "metadata": {},
   "source": [
    "To perform element-wise multiplication of two NumPy arrays, you can simply use the `* operator`. \n",
    "\n",
    "Here's a concise example:"
   ]
  },
  {
   "cell_type": "code",
   "execution_count": 14,
   "metadata": {},
   "outputs": [
    {
     "name": "stdout",
     "output_type": "stream",
     "text": [
      "[ 4 10 18]\n"
     ]
    }
   ],
   "source": [
    "import numpy as np\n",
    "\n",
    "# Create two NumPy arrays\n",
    "array1 = np.array([1, 2, 3])\n",
    "array2 = np.array([4, 5, 6])\n",
    "\n",
    "# Perform element-wise multiplication\n",
    "result = array1 * array2\n",
    "\n",
    "# Print the result\n",
    "print(result)"
   ]
  },
  {
   "cell_type": "markdown",
   "metadata": {},
   "source": [
    "**12. What is the purpose of the `np.dot()` function in Numpy?**"
   ]
  },
  {
   "cell_type": "markdown",
   "metadata": {},
   "source": [
    "The purpose of the `np.dot()` function in NumPy is to compute the dot product of two arrays. The dot product of two arrays is a mathematical operation that calculates the sum of the products of corresponding elements in the arrays.\n",
    "\n",
    "However, `np.dot()` behaves differently depending on the dimensionality of the input arrays:\n",
    "\n",
    "**1. For 1-D arrays:** The dot product of two 1-D arrays is the inner product of vectors (scalar product), which is the sum of the element-wise products.\n",
    "\n",
    "**2. For 2-D arrays:** The dot product of two 2-D arrays is the matrix multiplication of the arrays."
   ]
  },
  {
   "cell_type": "code",
   "execution_count": 15,
   "metadata": {},
   "outputs": [
    {
     "name": "stdout",
     "output_type": "stream",
     "text": [
      "Inner product of 1-D arrays: 32\n",
      "Matrix multiplication of 2-D arrays:\n",
      "[[19 22]\n",
      " [43 50]]\n"
     ]
    }
   ],
   "source": [
    "import numpy as np\n",
    "\n",
    "# Example with 1-D arrays (inner product)\n",
    "array1 = np.array([1, 2, 3])\n",
    "array2 = np.array([4, 5, 6])\n",
    "result_inner = np.dot(array1, array2)\n",
    "\n",
    "# Example with 2-D arrays (matrix multiplication)\n",
    "matrix1 = np.array([[1, 2], [3, 4]])\n",
    "matrix2 = np.array([[5, 6], [7, 8]])\n",
    "result_matrix = np.dot(matrix1, matrix2)\n",
    "\n",
    "print(\"Inner product of 1-D arrays:\", result_inner)\n",
    "print(\"Matrix multiplication of 2-D arrays:\")\n",
    "print(result_matrix)"
   ]
  },
  {
   "cell_type": "markdown",
   "metadata": {},
   "source": [
    "**13. How do you access specific elements or slices of a Numpy array?**"
   ]
  },
  {
   "cell_type": "markdown",
   "metadata": {},
   "source": [
    "You can access specific elements or slices of a NumPy array using indexing and slicing. \n",
    "\n",
    "Here's how you can do it:\n",
    "\n",
    "**1. Accessing Specific Elements:**\n",
    "\n",
    "- You can access a specific element of a NumPy array by specifying its index within square brackets `[]`. NumPy arrays are zero-indexed.\n",
    "\n",
    "- For example, to access the element at row 0, column 1 of a 2-D array `arr`, you would use `arr[0, 1]`\n",
    "\n",
    "**2. Slicing:**\n",
    "\n",
    "- You can extract a portion of a NumPy array using slicing. Slicing allows you to specify a range of indices to extract a subset of the array.\n",
    "\n",
    "- Slicing syntax is similar to Python lists, where you use the colon : to specify start, stop, and step values.\n",
    "\n",
    "- For example, to extract the first three elements of an array `arr`, you would use `arr[:3]`."
   ]
  },
  {
   "cell_type": "code",
   "execution_count": 16,
   "metadata": {},
   "outputs": [
    {
     "name": "stdout",
     "output_type": "stream",
     "text": [
      "Specific element: 2\n",
      "Slice of the second row: [4 5 6]\n",
      "Slice of the second column: [2 5 8]\n",
      "Slice of a subarray: [[2 3]\n",
      " [5 6]]\n"
     ]
    }
   ],
   "source": [
    "import numpy as np\n",
    "\n",
    "# Create a sample NumPy array\n",
    "arr = np.array([[1, 2, 3],\n",
    "                [4, 5, 6],\n",
    "                [7, 8, 9]])\n",
    "\n",
    "# Access specific elements\n",
    "element = arr[0, 1]  # Access element at row 0, column 1\n",
    "print(\"Specific element:\", element)\n",
    "\n",
    "# Slice the array\n",
    "slice_row = arr[1]    # Slice the second row\n",
    "slice_column = arr[:, 1]  # Slice the second column\n",
    "slice_subarray = arr[:2, 1:]  # Slice a subarray from row 0 to 1 and column 1 to end\n",
    "\n",
    "print(\"Slice of the second row:\", slice_row)\n",
    "print(\"Slice of the second column:\", slice_column)\n",
    "print(\"Slice of a subarray:\", slice_subarray)"
   ]
  },
  {
   "cell_type": "markdown",
   "metadata": {},
   "source": [
    "**14. What is the purpose of the np.where() function in Numpy?**"
   ]
  },
  {
   "cell_type": "markdown",
   "metadata": {},
   "source": [
    "The purpose of the `np.where()` function in NumPy is to return the indices where a specified condition is satisfied in an array. It provides a flexible way to search for elements in an array based on a given condition and return their indices.\n",
    "\n",
    "If `x` and `y` are not provided, np.where() returns a tuple of arrays containing the indices where the condition is True.\n",
    "\n",
    "Here are some common use cases of np.where():\n",
    "\n",
    "- **Find Indices of Elements:** You can use `np.where()` to find the indices of elements in an array that satisfy a certain condition.\n",
    "\n",
    "- **Conditional Assignment:** You can use `np.where()` for conditional assignment of values based on a condition.\n",
    "\n",
    "- **Filtering:** You can use `np.where()` to filter elements from an array based on a condition."
   ]
  },
  {
   "cell_type": "code",
   "execution_count": 17,
   "metadata": {},
   "outputs": [
    {
     "name": "stdout",
     "output_type": "stream",
     "text": [
      "Indices where elements are greater than 3: (array([3, 4], dtype=int64),)\n",
      "Elements greater than 3: [4 5]\n",
      "Conditional assignment: [0 0 0 4 5]\n"
     ]
    }
   ],
   "source": [
    "import numpy as np\n",
    "\n",
    "# Create a sample array\n",
    "arr = np.array([1, 2, 3, 4, 5])\n",
    "\n",
    "# Find indices where elements are greater than 3\n",
    "indices = np.where(arr > 3)\n",
    "print(\"Indices where elements are greater than 3:\", indices)\n",
    "print(\"Elements greater than 3:\", arr[indices])\n",
    "\n",
    "# Conditional assignment\n",
    "arr_new = np.where(arr > 3, arr, 0)  # Assign elements greater than 3 to the element itself, otherwise 0\n",
    "print(\"Conditional assignment:\", arr_new)"
   ]
  },
  {
   "cell_type": "markdown",
   "metadata": {},
   "source": [
    "**15. How do you compute the mean, median, and standard deviation of a Numpy array?**"
   ]
  },
  {
   "cell_type": "markdown",
   "metadata": {},
   "source": [
    "You can compute the mean, median, and standard deviation of a NumPy array using the built-in NumPy functions `np.mean()`, `np.median()`, and `np.std()` respectively. \n",
    "\n",
    "Here's how you can do it:"
   ]
  },
  {
   "cell_type": "code",
   "execution_count": 18,
   "metadata": {},
   "outputs": [
    {
     "name": "stdout",
     "output_type": "stream",
     "text": [
      "Mean: 3.0\n",
      "Median: 3.0\n",
      "Standard Deviation: 1.4142135623730951\n"
     ]
    }
   ],
   "source": [
    "import numpy as np\n",
    "\n",
    "# Create a sample NumPy array\n",
    "arr = np.array([1, 2, 3, 4, 5])\n",
    "\n",
    "# Compute the mean\n",
    "mean = np.mean(arr)\n",
    "\n",
    "# Compute the median\n",
    "median = np.median(arr)\n",
    "\n",
    "# Compute the standard deviation\n",
    "std_dev = np.std(arr)\n",
    "\n",
    "print(\"Mean:\", mean)\n",
    "print(\"Median:\", median)\n",
    "print(\"Standard Deviation:\", std_dev)"
   ]
  },
  {
   "cell_type": "markdown",
   "metadata": {},
   "source": [
    "**Explain the usage of the np.unique() function in Numpy.**"
   ]
  },
  {
   "cell_type": "markdown",
   "metadata": {},
   "source": [
    "The `np.unique()` function in NumPy is used to find the unique elements in an array and return them in sorted order. It removes duplicate values and returns a new array containing only the unique elements."
   ]
  },
  {
   "cell_type": "code",
   "execution_count": 19,
   "metadata": {},
   "outputs": [
    {
     "name": "stdout",
     "output_type": "stream",
     "text": [
      "Unique values: [1 2 3 4 5]\n"
     ]
    }
   ],
   "source": [
    "import numpy as np\n",
    "\n",
    "# Create a sample NumPy array\n",
    "arr = np.array([1, 2, 2, 3, 3, 3, 4, 4, 5])\n",
    "\n",
    "# Find the unique elements in the array\n",
    "unique_values = np.unique(arr)\n",
    "\n",
    "print(\"Unique values:\", unique_values)"
   ]
  },
  {
   "cell_type": "markdown",
   "metadata": {},
   "source": [
    "**16. How can you measure the execution time of a Numpy operation in Python?**"
   ]
  },
  {
   "cell_type": "markdown",
   "metadata": {},
   "source": [
    "You can measure the execution time of a NumPy operation in Python using the `timeit` module or the `time` module. \n",
    "\n",
    "Here's how you can do it with both approaches:"
   ]
  },
  {
   "cell_type": "code",
   "execution_count": 20,
   "metadata": {},
   "outputs": [
    {
     "name": "stdout",
     "output_type": "stream",
     "text": [
      "Execution time: 0.0257459\n"
     ]
    }
   ],
   "source": [
    "import numpy as np\n",
    "import timeit\n",
    "\n",
    "# Define the NumPy operation you want to measure\n",
    "setup_code = '''\n",
    "import numpy as np\n",
    "arr = np.random.rand(1000, 1000)  # Example: create a 1000x1000 random array\n",
    "'''\n",
    "\n",
    "operation_code = '''\n",
    "result = np.sum(arr)  # Example: perform a sum operation on the array\n",
    "'''\n",
    "\n",
    "# Measure the execution time\n",
    "execution_time = timeit.timeit(operation_code, setup=setup_code, number=10)\n",
    "\n",
    "print(\"Execution time:\", execution_time)"
   ]
  },
  {
   "cell_type": "markdown",
   "metadata": {},
   "source": [
    "**17. What is the purpose of the apply() function in Pandas? Provide an example.**"
   ]
  },
  {
   "cell_type": "markdown",
   "metadata": {},
   "source": [
    "The `apply()` function in Pandas is used to apply a function along an axis of a DataFrame or Series. It allows you to apply custom or predefined functions to each element or row/column of the DataFrame or Series."
   ]
  },
  {
   "cell_type": "code",
   "execution_count": 22,
   "metadata": {},
   "outputs": [
    {
     "name": "stdout",
     "output_type": "stream",
     "text": [
      "Original DataFrame:\n",
      "   A  B\n",
      "0  1  4\n",
      "1  2  5\n",
      "2  3  6\n",
      "\n",
      "DataFrame after applying the function:\n",
      "   A   B\n",
      "0  1  16\n",
      "1  4  25\n",
      "2  9  36\n"
     ]
    }
   ],
   "source": [
    "import pandas as pd\n",
    "\n",
    "# Create a sample DataFrame\n",
    "data = {'A': [1, 2, 3],\n",
    "        'B': [4, 5, 6]}\n",
    "df = pd.DataFrame(data)\n",
    "\n",
    "# Define a custom function to be applied\n",
    "def square(x):\n",
    "    return x ** 2\n",
    "\n",
    "# Apply the function to each element of the DataFrame\n",
    "result = df.apply(square)\n",
    "\n",
    "print(\"Original DataFrame:\")\n",
    "print(df)\n",
    "print(\"\\nDataFrame after applying the function:\")\n",
    "print(result)"
   ]
  },
  {
   "cell_type": "markdown",
   "metadata": {},
   "source": [
    "**18. How do you group data in a Pandas DataFrame? Explain with an example.**"
   ]
  },
  {
   "cell_type": "markdown",
   "metadata": {},
   "source": [
    "In Pandas, you can group data in a DataFrame using the `groupby()` function. This function allows you to group data based on one or more columns and then perform operations on each group independently. Common operations include aggregation (e.g., sum, mean), transformation, and filtering."
   ]
  },
  {
   "cell_type": "code",
   "execution_count": 23,
   "metadata": {},
   "outputs": [
    {
     "name": "stdout",
     "output_type": "stream",
     "text": [
      "Original DataFrame:\n",
      "  Category  Value\n",
      "0        A     10\n",
      "1        B     20\n",
      "2        A     30\n",
      "3        B     40\n",
      "4        A     50\n",
      "\n",
      "DataFrame grouped by 'Category' with sum:\n",
      "          Value\n",
      "Category       \n",
      "A            90\n",
      "B            60\n"
     ]
    }
   ],
   "source": [
    "import pandas as pd\n",
    "\n",
    "# Create a sample DataFrame\n",
    "data = {'Category': ['A', 'B', 'A', 'B', 'A'],\n",
    "        'Value': [10, 20, 30, 40, 50]}\n",
    "df = pd.DataFrame(data)\n",
    "\n",
    "# Group the DataFrame by the 'Category' column\n",
    "grouped = df.groupby('Category')\n",
    "\n",
    "# Calculate the sum of each group\n",
    "sum_by_category = grouped.sum()\n",
    "\n",
    "print(\"Original DataFrame:\")\n",
    "print(df)\n",
    "print(\"\\nDataFrame grouped by 'Category' with sum:\")\n",
    "print(sum_by_category)"
   ]
  },
  {
   "cell_type": "markdown",
   "metadata": {},
   "source": [
    "**19. Explain the purpose of the pd.cut() function in Pandas. Provide a use case.**"
   ]
  },
  {
   "cell_type": "markdown",
   "metadata": {},
   "source": [
    "The purpose of the `pd.cut()` function in Pandas is to segment and bin continuous data into discrete intervals or bins. It is particularly useful for converting a continuous variable into a categorical variable by dividing the data into predefined bins based on specified criteria.\n",
    "\n"
   ]
  },
  {
   "cell_type": "code",
   "execution_count": 24,
   "metadata": {},
   "outputs": [
    {
     "name": "stdout",
     "output_type": "stream",
     "text": [
      "      Name  Age    Age Group\n",
      "0    Alice   25        Young\n",
      "1      Bob   35  Middle-aged\n",
      "2  Charlie   45  Middle-aged\n",
      "3    David   55       Senior\n",
      "4      Eve   65       Senior\n"
     ]
    }
   ],
   "source": [
    "import pandas as pd\n",
    "\n",
    "# Create a sample DataFrame with age data\n",
    "data = {'Name': ['Alice', 'Bob', 'Charlie', 'David', 'Eve'],\n",
    "        'Age': [25, 35, 45, 55, 65]}\n",
    "df = pd.DataFrame(data)\n",
    "\n",
    "# Define bins for age groups\n",
    "bins = [0, 30, 50, 100]  # Bin edges\n",
    "\n",
    "# Bin the 'Age' column into discrete age groups\n",
    "df['Age Group'] = pd.cut(df['Age'], bins=bins, labels=['Young', 'Middle-aged', 'Senior'])\n",
    "\n",
    "print(df)"
   ]
  },
  {
   "cell_type": "markdown",
   "metadata": {},
   "source": [
    "**20. How do you apply custom functions to a Pandas DataFrame?**"
   ]
  },
  {
   "cell_type": "markdown",
   "metadata": {},
   "source": [
    "You can apply custom functions to a Pandas DataFrame using the `apply()` function or its variants like `applymap()` and `map()`. \n",
    "\n",
    "Each of these functions has different use cases:\n",
    "\n",
    "**1. apply():** This function is used to apply a function along the axis of a DataFrame or Series. It applies the function element-wise or column-wise (or row-wise if axis=1) and returns the result as a new DataFrame or Series.\n",
    "\n",
    "**2. applymap():** This function is used to apply a function to every element of a DataFrame. It applies the function element-wise to each individual element in the DataFrame and returns a new DataFrame with the transformed values.\n",
    "\n",
    "**3. map():** This function is used to apply a function to every element of a Series. It applies the function element-wise to each individual element in the Series and returns a new Series with the transformed values."
   ]
  },
  {
   "cell_type": "code",
   "execution_count": 25,
   "metadata": {},
   "outputs": [
    {
     "name": "stdout",
     "output_type": "stream",
     "text": [
      "Result using apply():\n",
      "   A   B\n",
      "0  2  10\n",
      "1  4  12\n",
      "2  6  14\n",
      "3  8  16\n",
      "\n",
      "Result using applymap():\n",
      "   A   B\n",
      "0  2  10\n",
      "1  4  12\n",
      "2  6  14\n",
      "3  8  16\n",
      "\n",
      "Result using map():\n",
      "0    11\n",
      "1    12\n",
      "2    13\n",
      "3    14\n",
      "Name: A, dtype: int64\n"
     ]
    }
   ],
   "source": [
    "import pandas as pd\n",
    "\n",
    "# Create a sample DataFrame\n",
    "data = {'A': [1, 2, 3, 4],\n",
    "        'B': [5, 6, 7, 8]}\n",
    "df = pd.DataFrame(data)\n",
    "\n",
    "# Define a custom function to be applied\n",
    "def custom_function(x):\n",
    "    return x * 2  # Double the value\n",
    "\n",
    "# Apply the custom function using apply() along the columns (axis=0)\n",
    "result_apply = df.apply(custom_function)\n",
    "print(\"Result using apply():\")\n",
    "print(result_apply)\n",
    "\n",
    "# Apply the custom function using applymap()\n",
    "result_applymap = df.applymap(custom_function)\n",
    "print(\"\\nResult using applymap():\")\n",
    "print(result_applymap)\n",
    "\n",
    "# Define a custom function to be applied to a Series\n",
    "def custom_function_series(x):\n",
    "    return x + 10  # Add 10 to the value\n",
    "\n",
    "# Apply the custom function using map() to a Series\n",
    "result_map = df['A'].map(custom_function_series)\n",
    "print(\"\\nResult using map():\")\n",
    "print(result_map)"
   ]
  },
  {
   "cell_type": "markdown",
   "metadata": {},
   "source": [
    "**21. What is the purpose of the `stack()` and `unstack()` functions in Pandas?**"
   ]
  },
  {
   "cell_type": "markdown",
   "metadata": {},
   "source": [
    "The `stack()` and `unstack()` functions in Pandas are used to transform data between wide and long formats, also known as \"stacked\" and \"unstacked\" formats. These functions are particularly useful when working with multi-level or hierarchical index data in DataFrame objects.\n",
    "\n",
    "**1. stack() Function:**\n",
    "\n",
    "- The `stack()` function is used to pivot a level of the column labels (axis=1) to the innermost level of the row index (axis=0), resulting in a DataFrame with a hierarchical index (MultiIndex).\n",
    "\n",
    "- It \"stacks\" or compresses a level of the DataFrame's column labels into the rows.\n",
    "\n",
    "- This function is typically used to transform wide-format data into long-format data.\n",
    "\n",
    "**2. unstack() Function:**\n",
    "\n",
    "- The `unstack()` function is used to pivot a level of the row index (axis=0) to the innermost level of the column labels (axis=1), resulting in a DataFrame with a hierarchical column index (MultiIndex).\n",
    "\n",
    "- It \"unstacks\" or expands a level of the DataFrame's row index into the columns.\n",
    "\n",
    "- This function is typically used to transform long-format data into wide-format data."
   ]
  },
  {
   "cell_type": "code",
   "execution_count": 27,
   "metadata": {},
   "outputs": [
    {
     "name": "stdout",
     "output_type": "stream",
     "text": [
      "Stacked DataFrame:\n",
      "A  1  X    1\n",
      "      Y    2\n",
      "   2  X    3\n",
      "      Y    4\n",
      "B  1  X    5\n",
      "      Y    6\n",
      "   2  X    7\n",
      "      Y    8\n",
      "dtype: int64\n",
      "\n",
      "Unstacked DataFrame:\n",
      "     X  Y\n",
      "A 1  1  2\n",
      "  2  3  4\n",
      "B 1  5  6\n",
      "  2  7  8\n"
     ]
    }
   ],
   "source": [
    "import pandas as pd\n",
    "\n",
    "# Create a sample DataFrame with a hierarchical index\n",
    "index = pd.MultiIndex.from_tuples([('A', 1), ('A', 2), ('B', 1), ('B', 2)])\n",
    "columns = ['X', 'Y']\n",
    "data = [[1, 2], [3, 4], [5, 6], [7, 8]]\n",
    "df = pd.DataFrame(data, index=index, columns=columns)\n",
    "\n",
    "# Stack the DataFrame to move the innermost level of column labels to the innermost level of row index\n",
    "stacked_df = df.stack()\n",
    "print(\"Stacked DataFrame:\")\n",
    "print(stacked_df)\n",
    "\n",
    "# Unstack the DataFrame to move the innermost level of row index to the innermost level of column labels\n",
    "unstacked_df = stacked_df.unstack()\n",
    "print(\"\\nUnstacked DataFrame:\")\n",
    "print(unstacked_df)"
   ]
  },
  {
   "cell_type": "markdown",
   "metadata": {},
   "source": [
    "**22. Explain the difference between concat() and append() functions in Pandas.**"
   ]
  },
  {
   "cell_type": "markdown",
   "metadata": {},
   "source": [
    "The `concat()` and `append()` functions in Pandas are used to combine multiple DataFrame or Series objects into a single DataFrame. However, they have different behaviors and use cases:\n",
    "\n",
    "**1. concat() Function:**\n",
    "\n",
    "- The `concat()` function is a more versatile and general-purpose function used to concatenate two or more DataFrame or Series objects along a particular axis (default is axis=0, which concatenates along rows).\n",
    "\n",
    "- It can concatenate objects along either rows or columns, depending on the value of the axis parameter.\n",
    "\n",
    "- When concatenating along rows `(axis=0)`, it stacks the objects vertically, adding rows to the resulting DataFrame.\n",
    "\n",
    "- When concatenating along columns `(axis=1)`, it aligns the objects horizontally, adding columns to the resulting DataFrame.\n",
    "\n",
    "- It does not modify the original DataFrame objects and always returns a new DataFrame.\n",
    "\n",
    "**2. append() Function:**\n",
    "\n",
    "- The `append()` function is a specialized method available only for DataFrame objects and is used specifically to append one DataFrame to another along the rows.\n",
    "\n",
    "- It is a shortcut for concatenating two DataFrames along rows `(axis=0)` and is equivalent to calling concat() with axis=0 on the two DataFrames.\n",
    "\n",
    "- It modifies the original DataFrame by appending rows from the second DataFrame to the first DataFrame in place.\n",
    "\n",
    "- While convenient for appending DataFrames along rows, it does not support concatenating along columns or concatenating multiple DataFrames in a single call."
   ]
  },
  {
   "cell_type": "markdown",
   "metadata": {},
   "source": [
    "**23. How do you handle multi-level indexing in Pandas?**"
   ]
  },
  {
   "cell_type": "markdown",
   "metadata": {},
   "source": [
    "In Pandas, multi-level indexing, also known as hierarchical indexing, allows you to work with data that has multiple levels of index labels. This enables you to represent higher-dimensional data in a tabular format and perform advanced data manipulation and analysis.\n",
    "\n",
    "Here's how you can handle multi-level indexing in Pandas:\n",
    "\n",
    "**1. Creating a DataFrame with Multi-Level Indexing:**\n",
    "\n",
    "- You can create a DataFrame with multi-level indexing using the `pd.MultiIndex.from_tuples()` function or by specifying the index parameter when creating the DataFrame.\n",
    "\n",
    "**2. Accessing Data with Multi-Level Indexing:**\n",
    "\n",
    "- You can access data in a DataFrame with multi-level indexing using the `.loc[]` accessor. You can specify index labels at each level separated by a comma.\n",
    "\n",
    "**3. Slicing and Selection:**\n",
    "\n",
    "- You can slice and select data from a DataFrame with multi-level indexing using the `.loc[]` accessor. You can specify ranges of index labels at each level.\n",
    "\n",
    "**4. Indexing and Selection Methods:**\n",
    "\n",
    "- Pandas provides several indexing and selection methods that work with multi-level indexing, such as `.xs()`, `.loc[]`, and `.iloc[]`.\n",
    "\n",
    "**5. Stacking and Unstacking:**\n",
    "\n",
    "- You can transform data between wide and long formats using the `stack()` and `unstack()` functions. `stack()` pivots the innermost level of column labels to the innermost level of the row index, while `unstack()` does the opposite.\n",
    "\n",
    "**6. Swapping Levels:**\n",
    "\n",
    "- You can swap levels of multi-level indices using the `swaplevel()` function, which allows you to change the order of index levels.\n",
    "\n",
    "**7. Sorting Levels:**\n",
    "You can sort index levels using the `sort_index()` function, which allows you to sort index labels within each level."
   ]
  },
  {
   "cell_type": "code",
   "execution_count": 28,
   "metadata": {},
   "outputs": [
    {
     "name": "stdout",
     "output_type": "stream",
     "text": [
      "Data for Group 'A':\n",
      "        X  Y\n",
      "Number      \n",
      "1       1  2\n",
      "2       3  4\n",
      "\n",
      "Data for Group 'A', Number 1:\n",
      "X    1\n",
      "Y    2\n",
      "Name: (A, 1), dtype: int64\n",
      "\n",
      "Unstacked DataFrame:\n",
      "        X     Y   \n",
      "Number  1  2  1  2\n",
      "Group             \n",
      "A       1  3  2  4\n",
      "B       5  7  6  8\n"
     ]
    }
   ],
   "source": [
    "import pandas as pd\n",
    "\n",
    "# Create a DataFrame with multi-level indexing\n",
    "index = pd.MultiIndex.from_tuples([('A', 1), ('A', 2), ('B', 1), ('B', 2)], names=['Group', 'Number'])\n",
    "columns = ['X', 'Y']\n",
    "data = [[1, 2], [3, 4], [5, 6], [7, 8]]\n",
    "df = pd.DataFrame(data, index=index, columns=columns)\n",
    "\n",
    "# Access data with multi-level indexing\n",
    "print(\"Data for Group 'A':\")\n",
    "print(df.loc['A'])\n",
    "\n",
    "# Slice data with multi-level indexing\n",
    "print(\"\\nData for Group 'A', Number 1:\")\n",
    "print(df.loc[('A', 1)])\n",
    "\n",
    "# Unstack the DataFrame\n",
    "unstacked_df = df.unstack()\n",
    "print(\"\\nUnstacked DataFrame:\")\n",
    "print(unstacked_df)"
   ]
  },
  {
   "cell_type": "markdown",
   "metadata": {},
   "source": [
    "**24. Explain the purpose and usage of the groupby() function in Pandas with complex aggregations.**"
   ]
  },
  {
   "cell_type": "markdown",
   "metadata": {},
   "source": [
    "The `groupby()` function in Pandas is used to split the data into groups based on one or more keys, and then apply a function to each group independently. This function is particularly useful for performing complex aggregations, transformations, and analyses on grouped data.\n",
    "\n",
    "The purpose and usage of the `groupby()` function with complex aggregations can be explained as follows:\n",
    "\n",
    "**1. Splitting the Data:**\n",
    "\n",
    "- The `groupby()` function splits the DataFrame into groups based on the values of one or more columns (keys). Each unique combination of values in the specified key(s) forms a separate group.\n",
    "\n",
    "**2. Applying Functions to Each Group:**\n",
    "\n",
    "- Once the data is split into groups, you can apply various aggregation functions to each group independently using methods like `sum()`, `mean()`, `count()`, `max()`, `min()`, etc.\n",
    "\n",
    "- You can also apply custom aggregation functions using the `agg()` method, which allows you to specify multiple aggregation functions to apply to each group.\n",
    "\n",
    "**3. Aggregating Multiple Columns:**\n",
    "\n",
    "- You can perform aggregations on multiple columns simultaneously by specifying multiple columns in the `groupby()` function and then applying aggregation functions.\n",
    "\n",
    "**4. Handling Missing Values:**\n",
    "\n",
    "- The `groupby()` function automatically excludes missing values (NaN) when performing aggregations unless explicitly specified using the `dropna=False` parameter.\n",
    "\n",
    "**5. Handling Hierarchical Indexing:**\n",
    "- The `groupby()` function can also be used with hierarchical indexing, where you can specify levels of the index to group by."
   ]
  },
  {
   "cell_type": "markdown",
   "metadata": {},
   "source": [
    "**25. What is the difference between `pd.DataFrame.apply()` and `pd.DataFrame.transform()`?**"
   ]
  },
  {
   "cell_type": "markdown",
   "metadata": {},
   "source": [
    "The `apply()` and `transform()` functions in Pandas DataFrame are both used for applying a function to the data, but they have different behaviors and use cases:\n",
    "\n",
    "**1. apply() Function:**\n",
    "\n",
    "- The `apply()` function is used to apply a function along an axis of the DataFrame (default is `axis=0`, which applies the function column-wise).\n",
    "\n",
    "- It can apply any function, including custom functions, to each column or row of the DataFrame independently.\n",
    "\n",
    "- The function passed to `apply()` is applied to each column or row as a whole, and the result is returned as a Series or DataFrame, depending on the function.\n",
    "\n",
    "- The `apply()` function is more flexible and can be used for a wide range of operations, but it may be slower compared to `transform()` for certain operations.\n",
    "\n",
    "**2. transform() Function:**\n",
    "\n",
    "- The `transform()` function is used to apply a function to each group of data defined by a grouping key, such as the values of a particular column or index level.\n",
    "\n",
    "- It applies the function to each group separately and returns a Series or DataFrame with the same shape as the original DataFrame, where each value corresponds to the result of applying the function to the corresponding group.\n",
    "\n",
    "- The function passed to `transform()` is applied to each group individually, and the results are aligned back to the original DataFrame based on the group's index or labels.\n",
    "\n",
    "- The `transform()` function is particularly useful for performing grouped operations, such as group-wise normalization, standardization, or imputation."
   ]
  },
  {
   "cell_type": "code",
   "execution_count": 29,
   "metadata": {},
   "outputs": [
    {
     "name": "stdout",
     "output_type": "stream",
     "text": [
      "Result using apply():\n",
      "   A   B\n",
      "0  2   8\n",
      "1  4  10\n",
      "2  6  12\n",
      "\n",
      "Result using transform():\n",
      "   A   B\n",
      "0  2   8\n",
      "1  4  10\n",
      "2  6  12\n"
     ]
    }
   ],
   "source": [
    "import pandas as pd\n",
    "\n",
    "# Create a sample DataFrame\n",
    "df = pd.DataFrame({'A': [1, 2, 3], 'B': [4, 5, 6]})\n",
    "\n",
    "# Define a custom function to double the values\n",
    "def double(x):\n",
    "    return x * 2\n",
    "\n",
    "# Using apply() to double each column independently\n",
    "result_apply = df.apply(double)\n",
    "print(\"Result using apply():\")\n",
    "print(result_apply)\n",
    "\n",
    "# Using transform() to double each column independently\n",
    "result_transform = df.transform(double)\n",
    "print(\"\\nResult using transform():\")\n",
    "print(result_transform)"
   ]
  },
  {
   "cell_type": "markdown",
   "metadata": {},
   "source": [
    "**In summary:**\n",
    "\n",
    "- Use `apply()` when you want to apply a function to each column or row of the DataFrame independently, without considering groups or aggregation.\n",
    "\n",
    "- Use `transform()` when you want to apply a function to each group of data defined by a grouping key, such as the values of a particular column or index level, and return a transformed version of the original DataFrame with the same shape."
   ]
  },
  {
   "cell_type": "markdown",
   "metadata": {},
   "source": [
    "**25. How can you optimize the speed of reading and writing large CSV files in Pandas?**"
   ]
  },
  {
   "cell_type": "markdown",
   "metadata": {},
   "source": [
    "To optimize the speed of reading and writing large CSV files in Pandas, you can use the following techniques:\n",
    "\n",
    "1. Specify data types using dtype.\n",
    "2. Use chunking with chunksize.\n",
    "3. Consider alternative libraries like dask or modin.\n",
    "4. Compress files using gzip.\n",
    "5. Use binary formats like Parquet or Feather.\n",
    "6. Utilize memory mapping with memory_map.\n",
    "7. Disable index creation with index_col=None.\n",
    "8. Consider using low-level I/O functions like csv.reader() and csv.writer()."
   ]
  },
  {
   "cell_type": "markdown",
   "metadata": {},
   "source": [
    "**26. Discuss the performance implications of using NumPy arrays versus Pandas DataFrames for numerical operations.**"
   ]
  },
  {
   "cell_type": "markdown",
   "metadata": {},
   "source": [
    "NumPy arrays generally offer better performance for numerical operations compared to Pandas DataFrames due to lower memory overhead, efficient vectorized operations, and optimized internal representation. Pandas DataFrames, while providing rich functionality, may be slower due to additional indexing overhead and abstraction layers."
   ]
  },
  {
   "cell_type": "markdown",
   "metadata": {},
   "source": [
    "**27. Explain the purpose and usage of the pd.get_dummies() function in Pandas for one-hot encoding.**"
   ]
  },
  {
   "cell_type": "markdown",
   "metadata": {},
   "source": [
    "The pd.get_dummies() function in Pandas is used for one-hot encoding categorical variables. One-hot encoding is a process of converting categorical variables into binary vectors, where each category is represented by a binary indicator variable.\n",
    "\n",
    "**Purpose:**\n",
    "- One-hot encoding is commonly used in machine learning and data preprocessing tasks, especially when dealing with categorical variables in predictive modeling.\n",
    "\n",
    "- It allows algorithms to work with categorical data by converting them into a numerical format that can be easily interpreted by machine learning models."
   ]
  },
  {
   "cell_type": "markdown",
   "metadata": {},
   "source": [
    "**28. Discuss the advantages and disadvantages of using Pandas for large-scale data processing.**"
   ]
  },
  {
   "cell_type": "markdown",
   "metadata": {},
   "source": [
    "**Advantages:**\n",
    "\n",
    "- Rich functionality.\n",
    "- Easy-to-use API.\n",
    "- Integration with ecosystem.\n",
    "- Optimized performance.\n",
    "- Flexibility in data formats.\n",
    "\n",
    "**Disadvantages:**\n",
    "\n",
    "- Memory usage.\n",
    "- Performance for large datasets.\n",
    "- Single-threaded processing.\n",
    "- Limited support for big data.\n",
    "- Indexing overhead."
   ]
  },
  {
   "cell_type": "markdown",
   "metadata": {},
   "source": [
    "**29. How do you efficiently merge multiple large DataFrames in Pandas?**"
   ]
  },
  {
   "cell_type": "markdown",
   "metadata": {},
   "source": [
    "To efficiently merge multiple large DataFrames in Pandas, consider the following strategies:\n",
    "\n",
    "**1. Use pd.merge() with Appropriate Options:**\n",
    "\n",
    "- Use the `pd.merge()` function to merge DataFrames based on common columns or indices.\n",
    "\n",
    "- Specify the on parameter to merge on specific columns, and use `how` parameter to specify the type of join (e.g., 'inner', 'outer', 'left', 'right').\n",
    "\n",
    "- Consider setting `sort` parameter to `False` if the DataFrames are already sorted, as sorting can be expensive for large datasets.\n",
    "\n",
    "**2. Use pd.concat() for Concatenation:**\n",
    "\n",
    "- Use the `pd.concat()` function to concatenate DataFrames along rows or columns.\n",
    "\n",
    "- Specify the `axis` parameter to concatenate along the appropriate axis (0 for rows, 1 for columns).\n",
    "\n",
    "- If concatenating along rows, ensure that DataFrames have the same column names and types.\n",
    "\n",
    "**3. Consider Chunking:**\n",
    "\n",
    "- If memory constraints are severe, consider reading and merging DataFrames in chunks using `pd.read_csv()` with `chunksize` parameter and processing each chunk sequentially.\n",
    "\n",
    "- This approach can be slower but allows processing large datasets with limited memory.\n",
    "\n",
    "**4. Use External Libraries:**\n",
    "\n",
    "- Consider using external libraries such as Dask or Vaex for parallel and out-of-core processing of large datasets, especially when Pandas' single-threaded processing or memory limitations are prohibitive."
   ]
  },
  {
   "cell_type": "markdown",
   "metadata": {},
   "source": [
    "**30. Explain the purpose and usage of the pd.to_datetime() function in Pandas for datetime conversion.**"
   ]
  },
  {
   "cell_type": "markdown",
   "metadata": {},
   "source": [
    "The `pd.to_datetime()` function in Pandas is used to convert input arguments into datetime objects. It is particularly useful for converting string representations of dates and times into datetime objects, which can then be used for various date and time manipulations and analyses.\n",
    "\n",
    "**Purpose:**\n",
    "\n",
    "- Convert string representations of dates and times into datetime objects.\n",
    "- Standardize the format of datetime data for consistency and ease of analysis.\n",
    "- Enable various datetime operations and calculations in Pandas."
   ]
  },
  {
   "cell_type": "code",
   "execution_count": 32,
   "metadata": {},
   "outputs": [
    {
     "name": "stdout",
     "output_type": "stream",
     "text": [
      "2022-01-01 00:00:00\n"
     ]
    }
   ],
   "source": [
    "import pandas as pd\n",
    "\n",
    "# Example\n",
    "date_str = '2022-01-01'\n",
    "datetime_obj = pd.to_datetime(date_str)\n",
    "print(datetime_obj)"
   ]
  },
  {
   "cell_type": "markdown",
   "metadata": {},
   "source": [
    "**31. Discuss the performance implications of using the .iterrows() and .apply() functions in Pandas for iterating over DataFrame rows. When would you use each method, and why?**"
   ]
  },
  {
   "cell_type": "markdown",
   "metadata": {},
   "source": [
    "When it comes to iterating over DataFrame rows in Pandas, the choice between .iterrows() and .apply() can significantly impact performance. \n",
    "\n",
    "Let's break down each method and discuss their implications:\n",
    "\n",
    "**1. .iterrows():**\n",
    "\n",
    "- This method returns an iterator that yields index and row data for each row in the DataFrame.\n",
    "\n",
    "- It operates row by row, making it suitable for small to medium-sized DataFrames.\n",
    "\n",
    "- However, it is relatively slow due to its iterative nature, as it involves Python-level iteration over rows.\n",
    "\n",
    "- The performance overhead becomes more pronounced as the DataFrame size increases because of the repeated Python function calls.\n",
    "\n",
    "**Use cases:**\n",
    "- When dealing with small to medium-sized DataFrames.\n",
    "- When you need access to both the index and the row data for each iteration.\n",
    "\n",
    "**2. .apply():**\n",
    "- This method applies a function along an axis of the DataFrame.\n",
    "\n",
    "- It is much faster than .iterrows() because it leverages vectorized operations, which are implemented in C and highly optimized.\n",
    "\n",
    "- The function applied can operate on entire rows (if axis=1) or entire columns (if axis=0), leading to efficient computation.\n",
    "\n",
    "- It is generally preferred over .iterrows() for larger DataFrames due to its performance benefits.\n",
    "\n",
    "**Use cases:**\n",
    "- When working with large DataFrames, as it offers better performance compared to .iterrows().\n",
    "\n",
    "- When the operation can be expressed as a vectorized operation or can be applied to entire rows/columns efficiently."
   ]
  },
  {
   "cell_type": "markdown",
   "metadata": {},
   "source": [
    "**32. Explain the concept of method chaining in Pandas. How does it improve code readability and efficiency? Provide examples of using method chaining for complex data manipulation tasks.**"
   ]
  },
  {
   "cell_type": "markdown",
   "metadata": {},
   "source": [
    "Method chaining in Pandas is a technique where multiple DataFrame methods are applied sequentially in a single line of code, with each method operating on the DataFrame returned by the previous method. This approach improves code readability by making the data manipulation process more concise and streamlined. It also enhances efficiency by minimizing the creation of intermediate DataFrames, thus reducing memory overhead and potentially improving performance."
   ]
  },
  {
   "cell_type": "code",
   "execution_count": 1,
   "metadata": {},
   "outputs": [
    {
     "name": "stdout",
     "output_type": "stream",
     "text": [
      "   A  C_new\n",
      "0  3    300\n",
      "1  4    400\n",
      "2  5    500\n"
     ]
    }
   ],
   "source": [
    "import pandas as pd\n",
    "\n",
    "# Example DataFrame\n",
    "df = pd.DataFrame({\n",
    "    'A': [1, 2, 3, 4, 5],\n",
    "    'B': [10, 20, 30, 40, 50],\n",
    "    'C': [100, 200, 300, 400, 500]\n",
    "})\n",
    "\n",
    "# Method chaining example\n",
    "result = df\\\n",
    "    .loc[df['A'] > 2]\\\n",
    "    .drop(columns='B')\\\n",
    "    .reset_index(drop=True)\\\n",
    "    .rename(columns={'C': 'C_new'})\n",
    "\n",
    "print(result)"
   ]
  },
  {
   "cell_type": "markdown",
   "metadata": {},
   "source": [
    "> Method chaining becomes particularly powerful when dealing with complex data manipulation tasks involving multiple steps. For example, consider a scenario where you want to filter rows, compute new columns, group by certain criteria, and aggregate data. Method chaining allows you to perform all these operations in a single line, making the code easier to understand and maintain."
   ]
  },
  {
   "cell_type": "code",
   "execution_count": 2,
   "metadata": {},
   "outputs": [
    {
     "name": "stdout",
     "output_type": "stream",
     "text": [
      "   A   B    C\n",
      "0  3  30  300\n",
      "1  4  40  400\n",
      "2  5  50  500\n"
     ]
    }
   ],
   "source": [
    "result = df\\\n",
    "    .loc[df['A'] > 2]\\\n",
    "    .assign(D=lambda x: x['A'] * x['C'])\\\n",
    "    .groupby('A')\\\n",
    "    .agg({'B': 'sum', 'C': 'mean'})\\\n",
    "    .reset_index()\n",
    "\n",
    "print(result)"
   ]
  },
  {
   "cell_type": "markdown",
   "metadata": {},
   "source": [
    "**33. Discuss the role of universal functions (ufuncs) in NumPy arrays. How are they implemented internally, and what benefits do they provide for numerical computations?**"
   ]
  },
  {
   "cell_type": "markdown",
   "metadata": {},
   "source": [
    "Universal functions (ufuncs) in NumPy play a crucial role in performing element-wise operations on NumPy arrays efficiently. These functions are implemented in compiled C code, making them highly optimized for numerical computations. Ufuncs provide several benefits for numerical computations:\n",
    "\n",
    "**Efficiency:** Ufuncs are implemented in low-level compiled code, often using SIMD (Single Instruction, Multiple Data) vectorization and other optimization techniques. This allows them to operate on array elements much faster than equivalent Python loops. By leveraging efficient memory access patterns and CPU instruction sets, ufuncs achieve high performance for numerical computations.\n",
    "\n",
    "**Broadcasting:** Ufuncs automatically apply element-wise operations to arrays of different shapes by broadcasting the smaller array to match the shape of the larger one. This broadcasting mechanism allows for concise and efficient expression of operations on arrays with different dimensions, without the need for explicit looping or copying of data.\n",
    "\n",
    "**Flexibility:** Ufuncs support a wide range of mathematical, logical, and bitwise operations, including arithmetic operations (+, -, *, /), trigonometric functions (sin, cos, tan), exponential and logarithmic functions (exp, log), comparison operators (<, >, ==), and more. This flexibility enables users to express complex numerical computations concisely and efficiently."
   ]
  },
  {
   "cell_type": "markdown",
   "metadata": {},
   "source": [
    "**34. Implement a custom NumPy ufunc to perform a specialized mathematical operation (e.g., calculating a custom statistical metric) and demonstrate its usage with a real-world example.**"
   ]
  },
  {
   "cell_type": "markdown",
   "metadata": {},
   "source": [
    "Creating a custom NumPy ufunc involves defining a Python function and then using NumPy's `frompyfunc` or `vectorize` functions to create a ufunc from that Python function. Let's create a custom ufunc to calculate the harmonic mean, a specialized statistical metric often used in various fields such as physics, engineering, and finance.\n",
    "\n",
    "The harmonic mean of a set of numbers is defined as the reciprocal of the arithmetic mean of the reciprocals of the numbers."
   ]
  },
  {
   "cell_type": "code",
   "execution_count": 6,
   "metadata": {},
   "outputs": [
    {
     "name": "stdout",
     "output_type": "stream",
     "text": [
      "Harmonic mean: 4.266666666666667\n"
     ]
    }
   ],
   "source": [
    "import numpy as np\n",
    "\n",
    "# Define the custom function to calculate harmonic mean\n",
    "def harmonic_mean(values):\n",
    "    return len(values) / np.sum(1 / values)\n",
    "\n",
    "# Create a NumPy ufunc from the custom function\n",
    "harmonic_mean_ufunc = np.vectorize(harmonic_mean, signature='(n)->()')\n",
    "\n",
    "# Example usage\n",
    "data = np.array([2, 4, 8, 16])\n",
    "result = harmonic_mean_ufunc(data)\n",
    "print(\"Harmonic mean:\", result)"
   ]
  },
  {
   "cell_type": "code",
   "execution_count": 7,
   "metadata": {},
   "outputs": [
    {
     "name": "stdout",
     "output_type": "stream",
     "text": [
      "Harmonic mean speed: 84.21052631578948 km/h\n"
     ]
    }
   ],
   "source": [
    "# Calculate harmonic mean of a dataset representing speeds (in km/h)\n",
    "speeds = np.array([60, 80, 100, 120])\n",
    "harmonic_speed = harmonic_mean_ufunc(speeds)\n",
    "print(\"Harmonic mean speed:\", harmonic_speed, \"km/h\")"
   ]
  },
  {
   "cell_type": "markdown",
   "metadata": {},
   "source": [
    "**35. Explain the concept of faceting in Seaborn and how it can be used to create multi-panel visualizations based on different subsets of data. Provide examples of using faceting with real-world datasets.**"
   ]
  },
  {
   "cell_type": "markdown",
   "metadata": {},
   "source": [
    "Faceting in Seaborn refers to the technique of creating multi-panel visualizations, where each panel represents a different subset of the data. This allows for easy comparison of different subsets or categories within the dataset. Faceting is particularly useful when you want to explore relationships or distributions across multiple groups or variables.\n",
    "\n",
    "Seaborn provides several functions for creating faceted plots, such as FacetGrid and catplot. These functions allow you to specify one or more categorical variables to divide the data into subsets, and then create separate panels for each subset.\n",
    "\n",
    "Here's how you can use faceting with Seaborn:\n",
    "\n",
    "**1. FacetGrid:** This class allows you to create a grid of subplots based on one or more categorical variables. You can then map different plots onto each subplot using the map method.\n",
    "\n",
    "**2. catplot:** This function is a high-level interface for creating categorical plots with faceting built-in. It's a wrapper around FacetGrid and provides a convenient way to create various types of categorical plots with faceting."
   ]
  },
  {
   "cell_type": "code",
   "execution_count": 8,
   "metadata": {},
   "outputs": [
    {
     "data": {
      "image/png": "[encoded data removed]",
      "text/plain": [
       "<Figure size 648x216 with 3 Axes>"
      ]
     },
     "metadata": {
      "needs_background": "light"
     },
     "output_type": "display_data"
    }
   ],
   "source": [
    "import seaborn as sns\n",
    "import matplotlib.pyplot as plt\n",
    "\n",
    "# Load the Titanic dataset\n",
    "titanic = sns.load_dataset(\"titanic\")\n",
    "\n",
    "# Create a FacetGrid to plot the survival rate based on passenger class\n",
    "g = sns.FacetGrid(titanic, col=\"class\", margin_titles=True)\n",
    "g.map(sns.histplot, \"survived\", bins=2)\n",
    "\n",
    "# Set the titles of the subplots\n",
    "g.set_titles(col_template=\"{col_name} class\")\n",
    "\n",
    "# Show the plot\n",
    "plt.show()"
   ]
  },
  {
   "cell_type": "markdown",
   "metadata": {},
   "source": [
    "> Faceting in Seaborn is a powerful technique for exploring relationships in your data across different subsets or categories, making it easier to identify patterns and trends."
   ]
  },
  {
   "cell_type": "markdown",
   "metadata": {},
   "source": [
    "**36. Use Pandas to group a DataFrame by a categorical variable and calculate summary statistics for each group.**"
   ]
  },
  {
   "cell_type": "code",
   "execution_count": 11,
   "metadata": {},
   "outputs": [],
   "source": [
    "import pandas as pd\n",
    "\n",
    "# Create a sample DataFrame\n",
    "data = {\n",
    "    'student_id': [1, 2, 3, 4, 5],\n",
    "    'gender': ['M', 'F', 'M', 'F', 'M'],\n",
    "    'math_grade': [85, 90, 88, 75, 92],\n",
    "    'science_grade': [78, 85, 80, 70, 88],\n",
    "    'english_grade': [82, 88, 85, 78, 90]\n",
    "}\n",
    "\n",
    "df = pd.DataFrame(data)\n",
    "\n",
    "# Group the DataFrame by gender and calculate summary statistics\n",
    "summary_stats = df.groupby('gender').agg({\n",
    "    'math_grade': ['mean', 'std', 'min', 'max'],\n",
    "    'science_grade': ['mean', 'std', 'min', 'max'],\n",
    "    'english_grade': ['mean', 'std', 'min', 'max']\n",
    "})\n",
    "\n",
    "#print(summary_stats)"
   ]
  },
  {
   "cell_type": "code",
   "execution_count": 12,
   "metadata": {},
   "outputs": [
    {
     "data": {
      "text/html": [
       "<div>\n",
       "<style scoped>\n",
       "    .dataframe tbody tr th:only-of-type {\n",
       "        vertical-align: middle;\n",
       "    }\n",
       "\n",
       "    .dataframe tbody tr th {\n",
       "        vertical-align: top;\n",
       "    }\n",
       "\n",
       "    .dataframe thead tr th {\n",
       "        text-align: left;\n",
       "    }\n",
       "\n",
       "    .dataframe thead tr:last-of-type th {\n",
       "        text-align: right;\n",
       "    }\n",
       "</style>\n",
       "<table border=\"1\" class=\"dataframe\">\n",
       "  <thead>\n",
       "    <tr>\n",
       "      <th></th>\n",
       "      <th colspan=\"4\" halign=\"left\">math_grade</th>\n",
       "      <th colspan=\"4\" halign=\"left\">science_grade</th>\n",
       "      <th colspan=\"4\" halign=\"left\">english_grade</th>\n",
       "    </tr>\n",
       "    <tr>\n",
       "      <th></th>\n",
       "      <th>mean</th>\n",
       "      <th>std</th>\n",
       "      <th>min</th>\n",
       "      <th>max</th>\n",
       "      <th>mean</th>\n",
       "      <th>std</th>\n",
       "      <th>min</th>\n",
       "      <th>max</th>\n",
       "      <th>mean</th>\n",
       "      <th>std</th>\n",
       "      <th>min</th>\n",
       "      <th>max</th>\n",
       "    </tr>\n",
       "    <tr>\n",
       "      <th>gender</th>\n",
       "      <th></th>\n",
       "      <th></th>\n",
       "      <th></th>\n",
       "      <th></th>\n",
       "      <th></th>\n",
       "      <th></th>\n",
       "      <th></th>\n",
       "      <th></th>\n",
       "      <th></th>\n",
       "      <th></th>\n",
       "      <th></th>\n",
       "      <th></th>\n",
       "    </tr>\n",
       "  </thead>\n",
       "  <tbody>\n",
       "    <tr>\n",
       "      <th>F</th>\n",
       "      <td>82.500000</td>\n",
       "      <td>10.606602</td>\n",
       "      <td>75</td>\n",
       "      <td>90</td>\n",
       "      <td>77.5</td>\n",
       "      <td>10.606602</td>\n",
       "      <td>70</td>\n",
       "      <td>85</td>\n",
       "      <td>83.000000</td>\n",
       "      <td>7.071068</td>\n",
       "      <td>78</td>\n",
       "      <td>88</td>\n",
       "    </tr>\n",
       "    <tr>\n",
       "      <th>M</th>\n",
       "      <td>88.333333</td>\n",
       "      <td>3.511885</td>\n",
       "      <td>85</td>\n",
       "      <td>92</td>\n",
       "      <td>82.0</td>\n",
       "      <td>5.291503</td>\n",
       "      <td>78</td>\n",
       "      <td>88</td>\n",
       "      <td>85.666667</td>\n",
       "      <td>4.041452</td>\n",
       "      <td>82</td>\n",
       "      <td>90</td>\n",
       "    </tr>\n",
       "  </tbody>\n",
       "</table>\n",
       "</div>"
      ],
      "text/plain": [
       "       math_grade                    science_grade                     \\\n",
       "             mean        std min max          mean        std min max   \n",
       "gender                                                                  \n",
       "F       82.500000  10.606602  75  90          77.5  10.606602  70  85   \n",
       "M       88.333333   3.511885  85  92          82.0   5.291503  78  88   \n",
       "\n",
       "       english_grade                    \n",
       "                mean       std min max  \n",
       "gender                                  \n",
       "F          83.000000  7.071068  78  88  \n",
       "M          85.666667  4.041452  82  90  "
      ]
     },
     "execution_count": 12,
     "metadata": {},
     "output_type": "execute_result"
    }
   ],
   "source": [
    "summary_stats"
   ]
  },
  {
   "cell_type": "markdown",
   "metadata": {},
   "source": [
    "**37. Create a NumPy array with random values and calculate the mean, median, and standard deviation.**"
   ]
  },
  {
   "cell_type": "code",
   "execution_count": 13,
   "metadata": {},
   "outputs": [
    {
     "name": "stdout",
     "output_type": "stream",
     "text": [
      "Mean: 0.47018074337820936\n",
      "Median: 0.4641424546894926\n",
      "Standard Deviation: 0.29599822663249037\n"
     ]
    }
   ],
   "source": [
    "import numpy as np\n",
    "\n",
    "# Set a seed for reproducibility\n",
    "np.random.seed(42)\n",
    "\n",
    "# Create a NumPy array with random values\n",
    "array = np.random.rand(100)\n",
    "\n",
    "# Calculate mean, median, and standard deviation\n",
    "mean_value = np.mean(array)\n",
    "median_value = np.median(array)\n",
    "std_deviation = np.std(array)\n",
    "\n",
    "print(\"Mean:\", mean_value)\n",
    "print(\"Median:\", median_value)\n",
    "print(\"Standard Deviation:\", std_deviation)"
   ]
  },
  {
   "cell_type": "markdown",
   "metadata": {},
   "source": [
    "**38. Create a function to generate the power set of a given set.**"
   ]
  },
  {
   "cell_type": "code",
   "execution_count": 14,
   "metadata": {},
   "outputs": [
    {
     "name": "stdout",
     "output_type": "stream",
     "text": [
      "Power set of {1, 2, 3} : [set(), {3}, {2}, {2, 3}, {1}, {1, 3}, {1, 2}, {1, 2, 3}]\n"
     ]
    }
   ],
   "source": [
    "def power_set(s):\n",
    "    \"\"\"\n",
    "    Generate the power set of a given set.\n",
    "\n",
    "    Parameters:\n",
    "    - s: The input set.\n",
    "\n",
    "    Returns:\n",
    "    - The power set of the input set.\n",
    "    \"\"\"\n",
    "    # Convert the set to a list to access elements by index\n",
    "    s_list = list(s)\n",
    "    \n",
    "    # Helper function to generate subsets recursively\n",
    "    def generate_subsets(idx):\n",
    "        # Base case: if idx reaches the length of the set, return a set containing the empty set\n",
    "        if idx == len(s_list):\n",
    "            return [set()]\n",
    "        \n",
    "        # Recursively generate subsets for the next index\n",
    "        subsets = generate_subsets(idx + 1)\n",
    "        \n",
    "        # Add the current element to each subset generated so far\n",
    "        subsets_with_current = [subset.union({s_list[idx]}) for subset in subsets]\n",
    "        \n",
    "        # Combine subsets generated so far with subsets containing the current element\n",
    "        return subsets + subsets_with_current\n",
    "    \n",
    "    # Start generating subsets from index 0\n",
    "    return generate_subsets(0)\n",
    "\n",
    "# Example usage\n",
    "input_set = {1, 2, 3}\n",
    "print(\"Power set of\", input_set, \":\", power_set(input_set))"
   ]
  },
  {
   "cell_type": "markdown",
   "metadata": {},
   "source": [
    "**39. Create a NumPy array with random values and perform element-wise operations (e.g., addition, subtraction, multiplication) with another NumPy array.**"
   ]
  },
  {
   "cell_type": "code",
   "execution_count": 15,
   "metadata": {},
   "outputs": [
    {
     "name": "stdout",
     "output_type": "stream",
     "text": [
      "Array 1:\n",
      "[[0.37454012 0.95071431 0.73199394]\n",
      " [0.59865848 0.15601864 0.15599452]\n",
      " [0.05808361 0.86617615 0.60111501]]\n",
      "\n",
      "Array 2:\n",
      "[[0.70807258 0.02058449 0.96990985]\n",
      " [0.83244264 0.21233911 0.18182497]\n",
      " [0.18340451 0.30424224 0.52475643]]\n",
      "\n",
      "Element-wise addition:\n",
      "[[1.0826127  0.9712988  1.70190379]\n",
      " [1.43110112 0.36835775 0.33781949]\n",
      " [0.24148812 1.17041839 1.12587144]]\n",
      "\n",
      "Element-wise subtraction:\n",
      "[[-0.33353246  0.93012981 -0.23791591]\n",
      " [-0.23378416 -0.05632047 -0.02583045]\n",
      " [-0.1253209   0.5619339   0.07635858]]\n",
      "\n",
      "Element-wise multiplication:\n",
      "[[0.26520159 0.01956997 0.70996814]\n",
      " [0.49834885 0.03312886 0.0283637 ]\n",
      " [0.0106528  0.26352737 0.31543897]]\n"
     ]
    }
   ],
   "source": [
    "import numpy as np\n",
    "\n",
    "# Set a seed for reproducibility\n",
    "np.random.seed(42)\n",
    "\n",
    "# Create two NumPy arrays with random values\n",
    "array1 = np.random.rand(3, 3)\n",
    "array2 = np.random.rand(3, 3)\n",
    "\n",
    "print(\"Array 1:\")\n",
    "print(array1)\n",
    "print(\"\\nArray 2:\")\n",
    "print(array2)\n",
    "\n",
    "# Perform element-wise addition\n",
    "result_addition = array1 + array2\n",
    "print(\"\\nElement-wise addition:\")\n",
    "print(result_addition)\n",
    "\n",
    "# Perform element-wise subtraction\n",
    "result_subtraction = array1 - array2\n",
    "print(\"\\nElement-wise subtraction:\")\n",
    "print(result_subtraction)\n",
    "\n",
    "# Perform element-wise multiplication\n",
    "result_multiplication = array1 * array2\n",
    "print(\"\\nElement-wise multiplication:\")\n",
    "print(result_multiplication)"
   ]
  },
  {
   "cell_type": "markdown",
   "metadata": {},
   "source": [
    "**40. Use Pandas to merge two DataFrames based on a common key and calculate summary statistics for the merged dataset.**"
   ]
  },
  {
   "cell_type": "code",
   "execution_count": 16,
   "metadata": {},
   "outputs": [],
   "source": [
    "import pandas as pd\n",
    "\n",
    "# Sample data for grades DataFrame\n",
    "grades_data = {\n",
    "    'student_id': [1, 2, 3, 4, 5],\n",
    "    'math_grade': [85, 90, 88, 75, 92],\n",
    "    'science_grade': [78, 85, 80, 70, 88],\n",
    "    'english_grade': [82, 88, 85, 78, 90]\n",
    "}\n",
    "\n",
    "# Sample data for demographics DataFrame\n",
    "demographics_data = {\n",
    "    'student_id': [1, 2, 3, 4, 5],\n",
    "    'gender': ['M', 'F', 'M', 'F', 'M'],\n",
    "    'age': [18, 17, 18, 17, 18],\n",
    "    'grade_level': [12, 11, 12, 11, 12]\n",
    "}\n",
    "\n",
    "# Create DataFrames from the sample data\n",
    "grades_df = pd.DataFrame(grades_data)\n",
    "demographics_df = pd.DataFrame(demographics_data)\n",
    "\n",
    "# Merge the DataFrames based on student_id\n",
    "merged_df = pd.merge(grades_df, demographics_df, on='student_id')\n",
    "\n",
    "# Calculate summary statistics for the merged dataset\n",
    "summary_stats = merged_df.describe()\n",
    "\n",
    "#print(summary_stats)"
   ]
  },
  {
   "cell_type": "code",
   "execution_count": 17,
   "metadata": {},
   "outputs": [
    {
     "data": {
      "text/html": [
       "<div>\n",
       "<style scoped>\n",
       "    .dataframe tbody tr th:only-of-type {\n",
       "        vertical-align: middle;\n",
       "    }\n",
       "\n",
       "    .dataframe tbody tr th {\n",
       "        vertical-align: top;\n",
       "    }\n",
       "\n",
       "    .dataframe thead th {\n",
       "        text-align: right;\n",
       "    }\n",
       "</style>\n",
       "<table border=\"1\" class=\"dataframe\">\n",
       "  <thead>\n",
       "    <tr style=\"text-align: right;\">\n",
       "      <th></th>\n",
       "      <th>student_id</th>\n",
       "      <th>math_grade</th>\n",
       "      <th>science_grade</th>\n",
       "      <th>english_grade</th>\n",
       "      <th>age</th>\n",
       "      <th>grade_level</th>\n",
       "    </tr>\n",
       "  </thead>\n",
       "  <tbody>\n",
       "    <tr>\n",
       "      <th>count</th>\n",
       "      <td>5.000000</td>\n",
       "      <td>5.000000</td>\n",
       "      <td>5.000000</td>\n",
       "      <td>5.000000</td>\n",
       "      <td>5.000000</td>\n",
       "      <td>5.000000</td>\n",
       "    </tr>\n",
       "    <tr>\n",
       "      <th>mean</th>\n",
       "      <td>3.000000</td>\n",
       "      <td>86.000000</td>\n",
       "      <td>80.200000</td>\n",
       "      <td>84.600000</td>\n",
       "      <td>17.600000</td>\n",
       "      <td>11.600000</td>\n",
       "    </tr>\n",
       "    <tr>\n",
       "      <th>std</th>\n",
       "      <td>1.581139</td>\n",
       "      <td>6.670832</td>\n",
       "      <td>6.942622</td>\n",
       "      <td>4.774935</td>\n",
       "      <td>0.547723</td>\n",
       "      <td>0.547723</td>\n",
       "    </tr>\n",
       "    <tr>\n",
       "      <th>min</th>\n",
       "      <td>1.000000</td>\n",
       "      <td>75.000000</td>\n",
       "      <td>70.000000</td>\n",
       "      <td>78.000000</td>\n",
       "      <td>17.000000</td>\n",
       "      <td>11.000000</td>\n",
       "    </tr>\n",
       "    <tr>\n",
       "      <th>25%</th>\n",
       "      <td>2.000000</td>\n",
       "      <td>85.000000</td>\n",
       "      <td>78.000000</td>\n",
       "      <td>82.000000</td>\n",
       "      <td>17.000000</td>\n",
       "      <td>11.000000</td>\n",
       "    </tr>\n",
       "    <tr>\n",
       "      <th>50%</th>\n",
       "      <td>3.000000</td>\n",
       "      <td>88.000000</td>\n",
       "      <td>80.000000</td>\n",
       "      <td>85.000000</td>\n",
       "      <td>18.000000</td>\n",
       "      <td>12.000000</td>\n",
       "    </tr>\n",
       "    <tr>\n",
       "      <th>75%</th>\n",
       "      <td>4.000000</td>\n",
       "      <td>90.000000</td>\n",
       "      <td>85.000000</td>\n",
       "      <td>88.000000</td>\n",
       "      <td>18.000000</td>\n",
       "      <td>12.000000</td>\n",
       "    </tr>\n",
       "    <tr>\n",
       "      <th>max</th>\n",
       "      <td>5.000000</td>\n",
       "      <td>92.000000</td>\n",
       "      <td>88.000000</td>\n",
       "      <td>90.000000</td>\n",
       "      <td>18.000000</td>\n",
       "      <td>12.000000</td>\n",
       "    </tr>\n",
       "  </tbody>\n",
       "</table>\n",
       "</div>"
      ],
      "text/plain": [
       "       student_id  math_grade  science_grade  english_grade        age  \\\n",
       "count    5.000000    5.000000       5.000000       5.000000   5.000000   \n",
       "mean     3.000000   86.000000      80.200000      84.600000  17.600000   \n",
       "std      1.581139    6.670832       6.942622       4.774935   0.547723   \n",
       "min      1.000000   75.000000      70.000000      78.000000  17.000000   \n",
       "25%      2.000000   85.000000      78.000000      82.000000  17.000000   \n",
       "50%      3.000000   88.000000      80.000000      85.000000  18.000000   \n",
       "75%      4.000000   90.000000      85.000000      88.000000  18.000000   \n",
       "max      5.000000   92.000000      88.000000      90.000000  18.000000   \n",
       "\n",
       "       grade_level  \n",
       "count     5.000000  \n",
       "mean     11.600000  \n",
       "std       0.547723  \n",
       "min      11.000000  \n",
       "25%      11.000000  \n",
       "50%      12.000000  \n",
       "75%      12.000000  \n",
       "max      12.000000  "
      ]
     },
     "execution_count": 17,
     "metadata": {},
     "output_type": "execute_result"
    }
   ],
   "source": [
    "summary_stats"
   ]
  },
  {
   "cell_type": "markdown",
   "metadata": {},
   "source": [
    "**41. Create a function to remove duplicates from a list and convert it into a set.**"
   ]
  },
  {
   "cell_type": "code",
   "execution_count": 18,
   "metadata": {},
   "outputs": [
    {
     "name": "stdout",
     "output_type": "stream",
     "text": [
      "Original list: [1, 2, 3, 3, 4, 5, 5, 6]\n",
      "Set after removing duplicates: {1, 2, 3, 4, 5, 6}\n"
     ]
    }
   ],
   "source": [
    "def remove_duplicates_and_convert_to_set(input_list):\n",
    "    \"\"\"\n",
    "    Remove duplicates from a list and convert it into a set.\n",
    "\n",
    "    Parameters:\n",
    "    - input_list: The input list.\n",
    "\n",
    "    Returns:\n",
    "    - The set obtained after removing duplicates.\n",
    "    \"\"\"\n",
    "    # Remove duplicates by converting the list to a set\n",
    "    unique_elements_set = set(input_list)\n",
    "    \n",
    "    return unique_elements_set\n",
    "\n",
    "# Example usage\n",
    "input_list = [1, 2, 3, 3, 4, 5, 5, 6]\n",
    "result_set = remove_duplicates_and_convert_to_set(input_list)\n",
    "print(\"Original list:\", input_list)\n",
    "print(\"Set after removing duplicates:\", result_set)"
   ]
  },
  {
   "cell_type": "markdown",
   "metadata": {},
   "source": [
    "**42. Implement a function to check if two sets are disjoint (i.e., they have no common elements).**"
   ]
  },
  {
   "cell_type": "code",
   "execution_count": 19,
   "metadata": {},
   "outputs": [
    {
     "name": "stdout",
     "output_type": "stream",
     "text": [
      "Are set1 and set2 disjoint? True\n",
      "Are set1 and set3 disjoint? False\n"
     ]
    }
   ],
   "source": [
    "def are_disjoint(set1, set2):\n",
    "    \"\"\"\n",
    "    Check if two sets are disjoint (i.e., they have no common elements).\n",
    "\n",
    "    Parameters:\n",
    "    - set1: The first set.\n",
    "    - set2: The second set.\n",
    "\n",
    "    Returns:\n",
    "    - True if the sets are disjoint, False otherwise.\n",
    "    \"\"\"\n",
    "    return set1.isdisjoint(set2)\n",
    "\n",
    "# Example usage\n",
    "set1 = {1, 2, 3}\n",
    "set2 = {4, 5, 6}\n",
    "set3 = {3, 4, 5}\n",
    "\n",
    "print(\"Are set1 and set2 disjoint?\", are_disjoint(set1, set2))  # Output: True\n",
    "print(\"Are set1 and set3 disjoint?\", are_disjoint(set1, set3))  # Output: False"
   ]
  },
  {
   "cell_type": "markdown",
   "metadata": {},
   "source": [
    "**43. Create a new column in a DataFrame based on a calculation using existing columns (e.g., adding two columns together).**"
   ]
  },
  {
   "cell_type": "code",
   "execution_count": 20,
   "metadata": {},
   "outputs": [],
   "source": [
    "import pandas as pd\n",
    "\n",
    "# Sample DataFrame\n",
    "data = {\n",
    "    'A': [1, 2, 3, 4, 5],\n",
    "    'B': [6, 7, 8, 9, 10]\n",
    "}\n",
    "\n",
    "df = pd.DataFrame(data)\n",
    "\n",
    "# Perform the calculation and assign the result to a new column\n",
    "df['C'] = df['A'] + df['B']\n",
    "\n",
    "#print(df)"
   ]
  },
  {
   "cell_type": "code",
   "execution_count": 21,
   "metadata": {},
   "outputs": [
    {
     "data": {
      "text/html": [
       "<div>\n",
       "<style scoped>\n",
       "    .dataframe tbody tr th:only-of-type {\n",
       "        vertical-align: middle;\n",
       "    }\n",
       "\n",
       "    .dataframe tbody tr th {\n",
       "        vertical-align: top;\n",
       "    }\n",
       "\n",
       "    .dataframe thead th {\n",
       "        text-align: right;\n",
       "    }\n",
       "</style>\n",
       "<table border=\"1\" class=\"dataframe\">\n",
       "  <thead>\n",
       "    <tr style=\"text-align: right;\">\n",
       "      <th></th>\n",
       "      <th>A</th>\n",
       "      <th>B</th>\n",
       "      <th>C</th>\n",
       "    </tr>\n",
       "  </thead>\n",
       "  <tbody>\n",
       "    <tr>\n",
       "      <th>0</th>\n",
       "      <td>1</td>\n",
       "      <td>6</td>\n",
       "      <td>7</td>\n",
       "    </tr>\n",
       "    <tr>\n",
       "      <th>1</th>\n",
       "      <td>2</td>\n",
       "      <td>7</td>\n",
       "      <td>9</td>\n",
       "    </tr>\n",
       "    <tr>\n",
       "      <th>2</th>\n",
       "      <td>3</td>\n",
       "      <td>8</td>\n",
       "      <td>11</td>\n",
       "    </tr>\n",
       "    <tr>\n",
       "      <th>3</th>\n",
       "      <td>4</td>\n",
       "      <td>9</td>\n",
       "      <td>13</td>\n",
       "    </tr>\n",
       "    <tr>\n",
       "      <th>4</th>\n",
       "      <td>5</td>\n",
       "      <td>10</td>\n",
       "      <td>15</td>\n",
       "    </tr>\n",
       "  </tbody>\n",
       "</table>\n",
       "</div>"
      ],
      "text/plain": [
       "   A   B   C\n",
       "0  1   6   7\n",
       "1  2   7   9\n",
       "2  3   8  11\n",
       "3  4   9  13\n",
       "4  5  10  15"
      ]
     },
     "execution_count": 21,
     "metadata": {},
     "output_type": "execute_result"
    }
   ],
   "source": [
    "df"
   ]
  },
  {
   "cell_type": "markdown",
   "metadata": {},
   "source": [
    "**44. Write a query to filter rows in a DataFrame where a certain column meets a specific condition (e.g., values greater than a certain threshold).**"
   ]
  },
  {
   "cell_type": "code",
   "execution_count": 22,
   "metadata": {},
   "outputs": [],
   "source": [
    "import pandas as pd\n",
    "\n",
    "# Sample DataFrame\n",
    "data = {\n",
    "    'A': [1, 2, 3, 4, 5],\n",
    "    'B': [6, 7, 8, 9, 10]\n",
    "}\n",
    "\n",
    "df = pd.DataFrame(data)\n",
    "\n",
    "# Define the threshold for filtering\n",
    "threshold = 3\n",
    "\n",
    "# Filter rows where column 'A' values are greater than the threshold\n",
    "filtered_df = df[df['A'] > threshold]\n",
    "\n",
    "#print(filtered_df)"
   ]
  },
  {
   "cell_type": "code",
   "execution_count": 23,
   "metadata": {},
   "outputs": [
    {
     "data": {
      "text/html": [
       "<div>\n",
       "<style scoped>\n",
       "    .dataframe tbody tr th:only-of-type {\n",
       "        vertical-align: middle;\n",
       "    }\n",
       "\n",
       "    .dataframe tbody tr th {\n",
       "        vertical-align: top;\n",
       "    }\n",
       "\n",
       "    .dataframe thead th {\n",
       "        text-align: right;\n",
       "    }\n",
       "</style>\n",
       "<table border=\"1\" class=\"dataframe\">\n",
       "  <thead>\n",
       "    <tr style=\"text-align: right;\">\n",
       "      <th></th>\n",
       "      <th>A</th>\n",
       "      <th>B</th>\n",
       "    </tr>\n",
       "  </thead>\n",
       "  <tbody>\n",
       "    <tr>\n",
       "      <th>3</th>\n",
       "      <td>4</td>\n",
       "      <td>9</td>\n",
       "    </tr>\n",
       "    <tr>\n",
       "      <th>4</th>\n",
       "      <td>5</td>\n",
       "      <td>10</td>\n",
       "    </tr>\n",
       "  </tbody>\n",
       "</table>\n",
       "</div>"
      ],
      "text/plain": [
       "   A   B\n",
       "3  4   9\n",
       "4  5  10"
      ]
     },
     "execution_count": 23,
     "metadata": {},
     "output_type": "execute_result"
    }
   ],
   "source": [
    "filtered_df"
   ]
  },
  {
   "cell_type": "markdown",
   "metadata": {},
   "source": [
    "**45. Implement a function to invert a dictionary, where keys become values and values become keys.**"
   ]
  },
  {
   "cell_type": "code",
   "execution_count": 24,
   "metadata": {},
   "outputs": [
    {
     "name": "stdout",
     "output_type": "stream",
     "text": [
      "Original dictionary: {'a': 1, 'b': 2, 'c': 3}\n",
      "Inverted dictionary: {1: 'a', 2: 'b', 3: 'c'}\n"
     ]
    }
   ],
   "source": [
    "def invert_dictionary(d):\n",
    "    \"\"\"\n",
    "    Invert a dictionary, where keys become values and values become keys.\n",
    "\n",
    "    Parameters:\n",
    "    - d: The input dictionary.\n",
    "\n",
    "    Returns:\n",
    "    - The inverted dictionary.\n",
    "    \"\"\"\n",
    "    inverted_d = {value: key for key, value in d.items()}\n",
    "    return inverted_d\n",
    "\n",
    "# Example usage\n",
    "original_dict = {'a': 1, 'b': 2, 'c': 3}\n",
    "inverted_dict = invert_dictionary(original_dict)\n",
    "print(\"Original dictionary:\", original_dict)\n",
    "print(\"Inverted dictionary:\", inverted_dict)"
   ]
  },
  {
   "cell_type": "markdown",
   "metadata": {},
   "source": [
    "**46. Implement a function to merge two dictionaries, with duplicate keys updated with the values from the second dictionary.**"
   ]
  },
  {
   "cell_type": "code",
   "execution_count": 25,
   "metadata": {},
   "outputs": [
    {
     "name": "stdout",
     "output_type": "stream",
     "text": [
      "Merged dictionary: {'a': 1, 'b': 3, 'c': 4}\n"
     ]
    }
   ],
   "source": [
    "def merge_dictionaries(dict1, dict2):\n",
    "    \"\"\"\n",
    "    Merge two dictionaries, with duplicate keys updated with the values from the second dictionary.\n",
    "\n",
    "    Parameters:\n",
    "    - dict1: The first dictionary.\n",
    "    - dict2: The second dictionary.\n",
    "\n",
    "    Returns:\n",
    "    - The merged dictionary.\n",
    "    \"\"\"\n",
    "    merged_dict = dict1.copy()  # Make a copy of the first dictionary to avoid modifying it\n",
    "    \n",
    "    # Update the merged dictionary with key-value pairs from the second dictionary\n",
    "    merged_dict.update(dict2)\n",
    "    \n",
    "    return merged_dict\n",
    "\n",
    "# Example usage\n",
    "dict1 = {'a': 1, 'b': 2}\n",
    "dict2 = {'b': 3, 'c': 4}\n",
    "merged_dict = merge_dictionaries(dict1, dict2)\n",
    "print(\"Merged dictionary:\", merged_dict)"
   ]
  },
  {
   "cell_type": "markdown",
   "metadata": {},
   "source": [
    "**47. Create a new column to calculate the total score for each student, which is the product of their grade and attendance percentage.**"
   ]
  },
  {
   "cell_type": "code",
   "execution_count": 26,
   "metadata": {},
   "outputs": [],
   "source": [
    "import pandas as pd\n",
    "\n",
    "# Sample DataFrame\n",
    "data = {\n",
    "    'student_id': [1, 2, 3, 4, 5],\n",
    "    'grade': [85, 90, 88, 75, 92],\n",
    "    'attendance_percentage': [0.90, 0.95, 0.80, 0.85, 0.88]\n",
    "}\n",
    "\n",
    "df = pd.DataFrame(data)\n",
    "\n",
    "# Calculate the total score for each student (grade * attendance_percentage) and assign it to a new column\n",
    "df['total_score'] = df['grade'] * df['attendance_percentage']\n",
    "\n",
    "#print(df)"
   ]
  },
  {
   "cell_type": "code",
   "execution_count": 27,
   "metadata": {},
   "outputs": [
    {
     "data": {
      "text/html": [
       "<div>\n",
       "<style scoped>\n",
       "    .dataframe tbody tr th:only-of-type {\n",
       "        vertical-align: middle;\n",
       "    }\n",
       "\n",
       "    .dataframe tbody tr th {\n",
       "        vertical-align: top;\n",
       "    }\n",
       "\n",
       "    .dataframe thead th {\n",
       "        text-align: right;\n",
       "    }\n",
       "</style>\n",
       "<table border=\"1\" class=\"dataframe\">\n",
       "  <thead>\n",
       "    <tr style=\"text-align: right;\">\n",
       "      <th></th>\n",
       "      <th>student_id</th>\n",
       "      <th>grade</th>\n",
       "      <th>attendance_percentage</th>\n",
       "      <th>total_score</th>\n",
       "    </tr>\n",
       "  </thead>\n",
       "  <tbody>\n",
       "    <tr>\n",
       "      <th>0</th>\n",
       "      <td>1</td>\n",
       "      <td>85</td>\n",
       "      <td>0.90</td>\n",
       "      <td>76.50</td>\n",
       "    </tr>\n",
       "    <tr>\n",
       "      <th>1</th>\n",
       "      <td>2</td>\n",
       "      <td>90</td>\n",
       "      <td>0.95</td>\n",
       "      <td>85.50</td>\n",
       "    </tr>\n",
       "    <tr>\n",
       "      <th>2</th>\n",
       "      <td>3</td>\n",
       "      <td>88</td>\n",
       "      <td>0.80</td>\n",
       "      <td>70.40</td>\n",
       "    </tr>\n",
       "    <tr>\n",
       "      <th>3</th>\n",
       "      <td>4</td>\n",
       "      <td>75</td>\n",
       "      <td>0.85</td>\n",
       "      <td>63.75</td>\n",
       "    </tr>\n",
       "    <tr>\n",
       "      <th>4</th>\n",
       "      <td>5</td>\n",
       "      <td>92</td>\n",
       "      <td>0.88</td>\n",
       "      <td>80.96</td>\n",
       "    </tr>\n",
       "  </tbody>\n",
       "</table>\n",
       "</div>"
      ],
      "text/plain": [
       "   student_id  grade  attendance_percentage  total_score\n",
       "0           1     85                   0.90        76.50\n",
       "1           2     90                   0.95        85.50\n",
       "2           3     88                   0.80        70.40\n",
       "3           4     75                   0.85        63.75\n",
       "4           5     92                   0.88        80.96"
      ]
     },
     "execution_count": 27,
     "metadata": {},
     "output_type": "execute_result"
    }
   ],
   "source": [
    "df"
   ]
  },
  {
   "cell_type": "markdown",
   "metadata": {},
   "source": [
    "**48. Group the data by age group (e.g., 10-15, 16-20, etc.) and calculate the average grade and attendance percentage for each age group.**"
   ]
  },
  {
   "cell_type": "code",
   "execution_count": 28,
   "metadata": {},
   "outputs": [],
   "source": [
    "import pandas as pd\n",
    "\n",
    "# Sample DataFrame\n",
    "data = {\n",
    "    'student_id': [1, 2, 3, 4, 5],\n",
    "    'age': [12, 18, 16, 20, 14],\n",
    "    'grade': [85, 90, 88, 75, 92],\n",
    "    'attendance_percentage': [0.90, 0.95, 0.80, 0.85, 0.88]\n",
    "}\n",
    "\n",
    "df = pd.DataFrame(data)\n",
    "\n",
    "# Define age groups\n",
    "bins = [10, 15, 20, 25]  # Define the age group bins\n",
    "labels = ['10-15', '16-20', '21-25']  # Define labels for the age groups\n",
    "df['age_group'] = pd.cut(df['age'], bins=bins, labels=labels, right=False)\n",
    "\n",
    "# Group the data by age group and calculate the average grade and attendance percentage\n",
    "avg_stats_by_age_group = df.groupby('age_group').agg({\n",
    "    'grade': 'mean',\n",
    "    'attendance_percentage': 'mean'\n",
    "}).reset_index()\n",
    "\n",
    "#print(avg_stats_by_age_group)"
   ]
  },
  {
   "cell_type": "code",
   "execution_count": 29,
   "metadata": {},
   "outputs": [
    {
     "data": {
      "text/html": [
       "<div>\n",
       "<style scoped>\n",
       "    .dataframe tbody tr th:only-of-type {\n",
       "        vertical-align: middle;\n",
       "    }\n",
       "\n",
       "    .dataframe tbody tr th {\n",
       "        vertical-align: top;\n",
       "    }\n",
       "\n",
       "    .dataframe thead th {\n",
       "        text-align: right;\n",
       "    }\n",
       "</style>\n",
       "<table border=\"1\" class=\"dataframe\">\n",
       "  <thead>\n",
       "    <tr style=\"text-align: right;\">\n",
       "      <th></th>\n",
       "      <th>age_group</th>\n",
       "      <th>grade</th>\n",
       "      <th>attendance_percentage</th>\n",
       "    </tr>\n",
       "  </thead>\n",
       "  <tbody>\n",
       "    <tr>\n",
       "      <th>0</th>\n",
       "      <td>10-15</td>\n",
       "      <td>88.5</td>\n",
       "      <td>0.890</td>\n",
       "    </tr>\n",
       "    <tr>\n",
       "      <th>1</th>\n",
       "      <td>16-20</td>\n",
       "      <td>89.0</td>\n",
       "      <td>0.875</td>\n",
       "    </tr>\n",
       "    <tr>\n",
       "      <th>2</th>\n",
       "      <td>21-25</td>\n",
       "      <td>75.0</td>\n",
       "      <td>0.850</td>\n",
       "    </tr>\n",
       "  </tbody>\n",
       "</table>\n",
       "</div>"
      ],
      "text/plain": [
       "  age_group  grade  attendance_percentage\n",
       "0     10-15   88.5                  0.890\n",
       "1     16-20   89.0                  0.875\n",
       "2     21-25   75.0                  0.850"
      ]
     },
     "execution_count": 29,
     "metadata": {},
     "output_type": "execute_result"
    }
   ],
   "source": [
    "avg_stats_by_age_group"
   ]
  },
  {
   "cell_type": "markdown",
   "metadata": {},
   "source": [
    "**49. Create a new column to calculate the total score for each student, which is the product of their grade and attendance percentage.**"
   ]
  },
  {
   "cell_type": "code",
   "execution_count": 30,
   "metadata": {},
   "outputs": [
    {
     "name": "stdout",
     "output_type": "stream",
     "text": [
      "   student_id     name  age  grade  attendance_percentage  total_score\n",
      "0           1    Alice   18     85                   0.90        76.50\n",
      "1           2      Bob   20     90                   0.95        85.50\n",
      "2           3  Charlie   17     88                   0.80        70.40\n",
      "3           4    David   19     75                   0.85        63.75\n",
      "4           5      Eve   18     92                   0.88        80.96\n"
     ]
    }
   ],
   "source": [
    "import pandas as pd\n",
    "\n",
    "# Sample DataFrame\n",
    "data = {\n",
    "    'student_id': [1, 2, 3, 4, 5],\n",
    "    'name': ['Alice', 'Bob', 'Charlie', 'David', 'Eve'],\n",
    "    'age': [18, 20, 17, 19, 18],\n",
    "    'grade': [85, 90, 88, 75, 92],\n",
    "    'attendance_percentage': [0.90, 0.95, 0.80, 0.85, 0.88]\n",
    "}\n",
    "\n",
    "df = pd.DataFrame(data)\n",
    "\n",
    "# Create a new column 'total_score' to calculate the total score for each student\n",
    "df['total_score'] = df['grade'] * df['attendance_percentage']\n",
    "\n",
    "print(df)"
   ]
  },
  {
   "cell_type": "markdown",
   "metadata": {},
   "source": [
    "**50. Identify the top 3 performing students based on their total score and display their information (name, age, grade, attendance) in a tabular format.**"
   ]
  },
  {
   "cell_type": "code",
   "execution_count": 32,
   "metadata": {},
   "outputs": [
    {
     "name": "stdout",
     "output_type": "stream",
     "text": [
      "    name  age  grade  attendance_percentage  total_score\n",
      "1    Bob   20     90                   0.95        85.50\n",
      "4    Eve   18     92                   0.88        80.96\n",
      "0  Alice   18     85                   0.90        76.50\n"
     ]
    }
   ],
   "source": [
    "import pandas as pd\n",
    "\n",
    "# Sample DataFrame (replace this with your actual DataFrame)\n",
    "data = {\n",
    "    'student_id': [1, 2, 3, 4, 5],\n",
    "    'name': ['Alice', 'Bob', 'Charlie', 'David', 'Eve'],\n",
    "    'age': [18, 20, 17, 19, 18],\n",
    "    'grade': [85, 90, 88, 75, 92],\n",
    "    'attendance_percentage': [0.90, 0.95, 0.80, 0.85, 0.88]\n",
    "}\n",
    "\n",
    "df = pd.DataFrame(data)\n",
    "\n",
    "# Calculate the total score for each student\n",
    "df['total_score'] = df['grade'] * df['attendance_percentage']\n",
    "\n",
    "# Sort the DataFrame based on the total score in descending order\n",
    "df_sorted = df.sort_values(by='total_score', ascending=False)\n",
    "\n",
    "# Select the top 10 performing students\n",
    "top_10_students = df_sorted.head(3)\n",
    "\n",
    "# Display the information of the top 10 performing students in a tabular format\n",
    "print(top_10_students[['name', 'age', 'grade', 'attendance_percentage', 'total_score']])"
   ]
  },
  {
   "cell_type": "markdown",
   "metadata": {},
   "source": [
    "> **Congratulations on completing 50 coding questions, everyone! 🎉 Each question conquered reflects your growth and determination. Keep pushing boundaries, embracing challenges, and never lose sight of your passion for coding. Your potential is limitless!**"
   ]
  },
  {
   "cell_type": "markdown",
   "metadata": {},
   "source": [
    "# Happy Learning!"
   ]
  }
 ],
 "metadata": {
  "kernelspec": {
   "display_name": "Python 3",
   "language": "python",
   "name": "python3"
  },
  "language_info": {
   "codemirror_mode": {
    "name": "ipython",
    "version": 3
   },
   "file_extension": ".py",
   "mimetype": "text/x-python",
   "name": "python",
   "nbconvert_exporter": "python",
   "pygments_lexer": "ipython3",
   "version": "3.6.9"
  }
 },
 "nbformat": 4,
 "nbformat_minor": 4
}
