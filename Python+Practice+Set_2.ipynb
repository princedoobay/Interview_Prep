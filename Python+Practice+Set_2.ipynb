{
 "cells": [
  {
   "cell_type": "markdown",
   "metadata": {},
   "source": [
    "**1. Write a Python program to check if a string is a palindrome.**"
   ]
  },
  {
   "cell_type": "code",
   "execution_count": 1,
   "metadata": {},
   "outputs": [
    {
     "name": "stdout",
     "output_type": "stream",
     "text": [
      "madam is a palindrome\n"
     ]
    }
   ],
   "source": [
    "def is_palindrome(string):\n",
    "    reversed_string = string[::-1]\n",
    "    return string == reversed_string\n",
    "\n",
    "# Test the function\n",
    "word = \"madam\"\n",
    "if is_palindrome(word):\n",
    "    print(f\"{word} is a palindrome\")\n",
    "else:\n",
    "    print(f\"{word} is not a palindrome\")"
   ]
  },
  {
   "cell_type": "markdown",
   "metadata": {},
   "source": [
    "**2. Write a Python program to find the factorial of a number.**"
   ]
  },
  {
   "cell_type": "code",
   "execution_count": 2,
   "metadata": {},
   "outputs": [
    {
     "name": "stdout",
     "output_type": "stream",
     "text": [
      "The factorial of 5 is 120\n"
     ]
    }
   ],
   "source": [
    "def factorial(n):\n",
    "    if n == 0:\n",
    "        return 1\n",
    "    else:\n",
    "        return n * factorial(n-1)\n",
    "\n",
    "# Test the function\n",
    "number = 5\n",
    "result = factorial(number)\n",
    "print(f\"The factorial of {number} is {result}\")"
   ]
  },
  {
   "cell_type": "markdown",
   "metadata": {},
   "source": [
    "**3. Write a Python program to find the largest element in a list.**"
   ]
  },
  {
   "cell_type": "code",
   "execution_count": 3,
   "metadata": {},
   "outputs": [
    {
     "name": "stdout",
     "output_type": "stream",
     "text": [
      "The largest number is 20\n"
     ]
    }
   ],
   "source": [
    "def find_largest(numbers):\n",
    "    largest = numbers[0]\n",
    "    for num in numbers:\n",
    "        if num > largest:\n",
    "            largest = num\n",
    "    return largest\n",
    "\n",
    "# Test the function\n",
    "nums = [10, 5, 8, 20, 3]\n",
    "largest_num = find_largest(nums)\n",
    "print(f\"The largest number is {largest_num}\")"
   ]
  },
  {
   "cell_type": "markdown",
   "metadata": {},
   "source": [
    "**4. Write a Python program to count the frequency of each element in a list.**"
   ]
  },
  {
   "cell_type": "code",
   "execution_count": 4,
   "metadata": {},
   "outputs": [
    {
     "name": "stdout",
     "output_type": "stream",
     "text": [
      "{1: 2, 2: 3, 3: 2, 4: 2, 5: 1}\n"
     ]
    }
   ],
   "source": [
    "def count_frequency(numbers):\n",
    "    frequency = {}\n",
    "    for num in numbers:\n",
    "        if num in frequency:\n",
    "            frequency[num] += 1\n",
    "        else:\n",
    "            frequency[num] = 1\n",
    "    return frequency\n",
    "\n",
    "# Test the function\n",
    "nums = [1, 2, 3, 2, 1, 3, 2, 4, 5, 4]\n",
    "frequency_count = count_frequency(nums)\n",
    "print(frequency_count)"
   ]
  },
  {
   "cell_type": "markdown",
   "metadata": {},
   "source": [
    "**5. Write a Python program to find the common elements between two lists.**"
   ]
  },
  {
   "cell_type": "code",
   "execution_count": 5,
   "metadata": {},
   "outputs": [
    {
     "name": "stdout",
     "output_type": "stream",
     "text": [
      "[4, 5]\n"
     ]
    }
   ],
   "source": [
    "def find_common_elements(list1, list2):\n",
    "    common_elements = []\n",
    "    for item in list1:\n",
    "        if item in list2:\n",
    "            common_elements.append(item)\n",
    "    return common_elements\n",
    "\n",
    "# Test the function\n",
    "list_a = [1, 2, 3, 4, 5]\n",
    "list_b = [4, 5, 6, 7, 8]\n",
    "common = find_common_elements(list_a, list_b)\n",
    "print(common)"
   ]
  },
  {
   "cell_type": "markdown",
   "metadata": {},
   "source": [
    "**6. Write a Python program to sort a list of elements using the bubble sort algorithm.**"
   ]
  },
  {
   "cell_type": "code",
   "execution_count": 6,
   "metadata": {},
   "outputs": [
    {
     "name": "stdout",
     "output_type": "stream",
     "text": [
      "[1, 2, 5, 8, 9]\n"
     ]
    }
   ],
   "source": [
    "def bubble_sort(elements):\n",
    "    n = len(elements)\n",
    "    for i in range(n - 1):\n",
    "        for j in range(n - i - 1):\n",
    "            if elements[j] > elements[j + 1]:\n",
    "                elements[j], elements[j + 1] = elements[j + 1], elements[j]\n",
    "\n",
    "# Test the function\n",
    "nums = [5, 2, 8, 1, 9]\n",
    "bubble_sort(nums)\n",
    "print(nums)"
   ]
  },
  {
   "cell_type": "markdown",
   "metadata": {},
   "source": [
    "**7. Write a Python program to find the second largest number in a list.**"
   ]
  },
  {
   "cell_type": "code",
   "execution_count": 7,
   "metadata": {},
   "outputs": [
    {
     "name": "stdout",
     "output_type": "stream",
     "text": [
      "The second largest number is 10\n"
     ]
    }
   ],
   "source": [
    "def find_second_largest(numbers):\n",
    "    largest = float('-inf')\n",
    "    second_largest = float('-inf')\n",
    "    for num in numbers:\n",
    "        if num > largest:\n",
    "            second_largest = largest\n",
    "            largest = num\n",
    "        elif num > second_largest and num != largest:\n",
    "            second_largest = num\n",
    "    return second_largest\n",
    "\n",
    "# Test the function\n",
    "nums = [10, 5, 8, 20, 3]\n",
    "second_largest_num = find_second_largest(nums)\n",
    "print(f\"The second largest number is {second_largest_num}\")"
   ]
  },
  {
   "cell_type": "markdown",
   "metadata": {},
   "source": [
    "**8. Write a Python program to remove duplicates from a list.**"
   ]
  },
  {
   "cell_type": "code",
   "execution_count": 8,
   "metadata": {},
   "outputs": [
    {
     "name": "stdout",
     "output_type": "stream",
     "text": [
      "[1, 2, 3, 4, 5]\n"
     ]
    }
   ],
   "source": [
    "def remove_duplicates(numbers):\n",
    "    unique_numbers = []\n",
    "    for num in numbers:\n",
    "        if num not in unique_numbers:\n",
    "            unique_numbers.append(num)\n",
    "    return unique_numbers\n",
    "\n",
    "# Test the function\n",
    "nums = [1, 2, 3, 2, 1, 3, 2, 4, 5, 4]\n",
    "unique_nums = remove_duplicates(nums)\n",
    "print(unique_nums)"
   ]
  },
  {
   "cell_type": "markdown",
   "metadata": {},
   "source": [
    "**9. Count the number of vowels in a given string.**"
   ]
  },
  {
   "cell_type": "code",
   "execution_count": 10,
   "metadata": {},
   "outputs": [
    {
     "name": "stdout",
     "output_type": "stream",
     "text": [
      "Enter a string: shivan kumar\n",
      "Number of vowels: 4\n"
     ]
    }
   ],
   "source": [
    "def count_vowels(s):\n",
    "  vowels = \"aeiouAEIOU\"\n",
    "  return sum(1 for char in s if char in vowels)\n",
    "\n",
    "string = input(\"Enter a string: \")\n",
    "print(\"Number of vowels:\", count_vowels(string))"
   ]
  },
  {
   "cell_type": "markdown",
   "metadata": {},
   "source": [
    "**10. Print the Fibonacci sequence up to a given number of terms.**"
   ]
  },
  {
   "cell_type": "code",
   "execution_count": 16,
   "metadata": {},
   "outputs": [
    {
     "name": "stdout",
     "output_type": "stream",
     "text": [
      "Enter the number of terms: 8\n",
      "Fibonacci sequence: [0, 1, 1, 2, 3, 5, 8, 13]\n"
     ]
    }
   ],
   "source": [
    "def fibonacci(n):\n",
    "  fib_seq = [0, 1]\n",
    "  while len(fib_seq) < n:\n",
    "    fib_seq.append(fib_seq[-1] + fib_seq[-2])\n",
    "  return fib_seq\n",
    "\n",
    "num_terms = int(input(\"Enter the number of terms: \"))\n",
    "fibonacci_seq = fibonacci(num_terms)\n",
    "print(\"Fibonacci sequence:\", fibonacci_seq)"
   ]
  },
  {
   "cell_type": "markdown",
   "metadata": {},
   "source": [
    "**11. Write a code to generate the square of every list element**"
   ]
  },
  {
   "cell_type": "code",
   "execution_count": 18,
   "metadata": {},
   "outputs": [
    {
     "name": "stdout",
     "output_type": "stream",
     "text": [
      "[16, 25, 36, 64]\n"
     ]
    }
   ],
   "source": [
    "user_list = [4,5,6,8] \n",
    "final_list=[]\n",
    "for x in user_list:\n",
    "    final_list.append(x*x)\n",
    "    \n",
    "print(final_list)"
   ]
  },
  {
   "cell_type": "markdown",
   "metadata": {},
   "source": [
    "**12. Write a python program to interchange the first and last element in a list**"
   ]
  },
  {
   "cell_type": "code",
   "execution_count": 19,
   "metadata": {},
   "outputs": [
    {
     "name": "stdout",
     "output_type": "stream",
     "text": [
      "[3, 2, 1]\n"
     ]
    }
   ],
   "source": [
    "def inter_change(lst):\n",
    "    if len(lst)==0:\n",
    "        return [] \n",
    "    else: \n",
    "        return [lst[-1]]+lst[1:-1]+[lst[0]]\n",
    "print(inter_change([1,2,3]))"
   ]
  },
  {
   "cell_type": "markdown",
   "metadata": {},
   "source": [
    "**13. Write a python for tha nth fibonacci number**"
   ]
  },
  {
   "cell_type": "code",
   "execution_count": 20,
   "metadata": {},
   "outputs": [
    {
     "name": "stdout",
     "output_type": "stream",
     "text": [
      "55\n"
     ]
    }
   ],
   "source": [
    "def fibonacci_recursive(n):\n",
    "    if n<=0:\n",
    "        return 0\n",
    "    elif n==1:\n",
    "        return 1\n",
    "    else:\n",
    "    \n",
    "        return fibonacci_recursive(n-1)+fibonacci_recursive(n-2)\n",
    "    \n",
    "print(fibonacci_recursive(10))"
   ]
  },
  {
   "cell_type": "markdown",
   "metadata": {},
   "source": [
    "**14. Write a python program to check Armstrong's number.**"
   ]
  },
  {
   "cell_type": "code",
   "execution_count": 21,
   "metadata": {},
   "outputs": [
    {
     "name": "stdout",
     "output_type": "stream",
     "text": [
      "Enter the number: 371\n",
      "371 is an Armstrong number\n"
     ]
    }
   ],
   "source": [
    "def is_armstrong(num):\n",
    "    n = len(str(num)) \n",
    "    temp = num \n",
    "    summ = 0\n",
    "    while temp > 0:\n",
    "        digit = temp%10\n",
    "        summ+=digit**n \n",
    "        temp //=10\n",
    "    return summ == num \n",
    "\n",
    "num = int(input('Enter the number: '))\n",
    "if is_armstrong(num):\n",
    "    print(num,'is an Armstrong number')\n",
    "    \n",
    "else: \n",
    "    print(num,'is not a Armstrong number')"
   ]
  },
  {
   "cell_type": "markdown",
   "metadata": {},
   "source": [
    "**15. Find duplicate number in the given array**"
   ]
  },
  {
   "cell_type": "code",
   "execution_count": 22,
   "metadata": {},
   "outputs": [
    {
     "name": "stdout",
     "output_type": "stream",
     "text": [
      "6 is repeated 3 times\n",
      "2 is repeated 2 times\n",
      "8 is repeated 2 times\n",
      "5 is repeated 2 times\n",
      "0 is repeated 3 times\n"
     ]
    }
   ],
   "source": [
    "arr = [6,1,2,7,8,6,5,8,0,0,4,0,2,5,6]\n",
    "frequency = dict()\n",
    "for ele in arr:\n",
    "    if ele in frequency:\n",
    "        frequency[ele]=frequency[ele]+1\n",
    "    else:\n",
    "        frequency[ele]=1\n",
    "for i in frequency:\n",
    "    if frequency[i]>1:\n",
    "        print(f\"{i} is repeated {frequency[i]} times\")"
   ]
  },
  {
   "cell_type": "markdown",
   "metadata": {},
   "source": [
    "**16. Write a Ptyhon script to implement to Bubble sort algorithm.**"
   ]
  },
  {
   "cell_type": "code",
   "execution_count": 23,
   "metadata": {},
   "outputs": [
    {
     "name": "stdout",
     "output_type": "stream",
     "text": [
      "Sorted array is:  [11, 12, 22, 25, 34, 64, 90]\n"
     ]
    }
   ],
   "source": [
    "def bubble_sort(arr):\n",
    "    n=len(arr)\n",
    "    for i in range(n):\n",
    "        for j in range(0,n-i-1):\n",
    "            if arr[j] >arr[j+1]:\n",
    "                arr[j],arr[j+1]=arr[j+1],arr[j]\n",
    "    return arr \n",
    "\n",
    "array = [64,34,25,12,22,11,90]\n",
    "print(\"Sorted array is: \",bubble_sort(array)) "
   ]
  },
  {
   "cell_type": "markdown",
   "metadata": {},
   "source": [
    "**17. Merge two dictionary in single expression.**"
   ]
  },
  {
   "cell_type": "code",
   "execution_count": 24,
   "metadata": {},
   "outputs": [
    {
     "name": "stdout",
     "output_type": "stream",
     "text": [
      "{1: 'shivan', 2: 'shubham', 3: 'kriti', 4: 'ribha'}\n"
     ]
    }
   ],
   "source": [
    "data_science_students = {1: 'shivan', 2: \"sima\", 3:\"kriti\"}\n",
    "web_development_students  = {2: 'shubham', 4: \"ribha\"}\n",
    "\n",
    "allstudents = {**data_science_students, **web_development_students}\n",
    "print(allstudents)"
   ]
  },
  {
   "cell_type": "markdown",
   "metadata": {},
   "source": [
    "**18. Write a program that will find all such numbers which are divisible by 7 but are not a multiple of 5, between 2000 and 3200 (both included).The numbers obtained should be printed in a comma-separated sequence on a single line.**"
   ]
  },
  {
   "cell_type": "code",
   "execution_count": 25,
   "metadata": {},
   "outputs": [
    {
     "name": "stdout",
     "output_type": "stream",
     "text": [
      "2002,2009,2016,2023,2037,2044,2051,2058,2072,2079,2086,2093,2107,2114,2121,2128,2142,2149,2156,2163,2177,2184,2191,2198,2212,2219,2226,2233,2247,2254,2261,2268,2282,2289,2296,2303,2317,2324,2331,2338,2352,2359,2366,2373,2387,2394,2401,2408,2422,2429,2436,2443,2457,2464,2471,2478,2492,2499,2506,2513,2527,2534,2541,2548,2562,2569,2576,2583,2597,2604,2611,2618,2632,2639,2646,2653,2667,2674,2681,2688,2702,2709,2716,2723,2737,2744,2751,2758,2772,2779,2786,2793,2807,2814,2821,2828,2842,2849,2856,2863,2877,2884,2891,2898,2912,2919,2926,2933,2947,2954,2961,2968,2982,2989,2996,3003,3017,3024,3031,3038,3052,3059,3066,3073,3087,3094,3101,3108,3122,3129,3136,3143,3157,3164,3171,3178,3192,3199\n"
     ]
    }
   ],
   "source": [
    "result = []\n",
    "for i in range(2000, 3201):\n",
    "    if i % 7 == 0 and i % 5 != 0:\n",
    "        result.append(str(i))\n",
    "print(','.join(result))"
   ]
  },
  {
   "cell_type": "markdown",
   "metadata": {},
   "source": [
    "**19. Print the following number pattern.**"
   ]
  },
  {
   "cell_type": "raw",
   "metadata": {},
   "source": [
    "1 1 1 1 1 \n",
    "2 2 2 2 \n",
    "3 3 3 \n",
    "4 4 \n",
    "5"
   ]
  },
  {
   "cell_type": "code",
   "execution_count": 26,
   "metadata": {},
   "outputs": [
    {
     "name": "stdout",
     "output_type": "stream",
     "text": [
      "1 1 1 1 1 \r\n",
      "2 2 2 2 \r\n",
      "3 3 3 \r\n",
      "4 4 \r\n",
      "5 \r\n"
     ]
    }
   ],
   "source": [
    "rows = 5\n",
    "x = 0\n",
    "for i in range(rows, 0, -1):\n",
    "    x += 1\n",
    "    for j in range(1, i + 1):\n",
    "        print(x, end=' ')\n",
    "    print('\\r')"
   ]
  },
  {
   "cell_type": "markdown",
   "metadata": {},
   "source": [
    "**20. Write a Python program to construct the following pattern, using a nested for loop.**"
   ]
  },
  {
   "cell_type": "raw",
   "metadata": {},
   "source": [
    "*\n",
    "* *\n",
    "* * *\n",
    "* * * *\n",
    "* * * * *\n",
    "* * * *\n",
    "* * *\n",
    "* *\n",
    "*"
   ]
  },
  {
   "cell_type": "code",
   "execution_count": 27,
   "metadata": {},
   "outputs": [
    {
     "name": "stdout",
     "output_type": "stream",
     "text": [
      "\n",
      "* \n",
      "* * \n",
      "* * * \n",
      "* * * * \n",
      "* * * * * \n",
      "* * * * \n",
      "* * * \n",
      "* * \n",
      "* \n"
     ]
    }
   ],
   "source": [
    "n=5;\n",
    "for i in range(n):\n",
    "    for j in range(i):\n",
    "        print ('* ', end=\"\")\n",
    "    print('')\n",
    "for i in range(n,0,-1):\n",
    "    for j in range(i):\n",
    "        print('* ', end=\"\")\n",
    "    print('')"
   ]
  },
  {
   "cell_type": "markdown",
   "metadata": {},
   "source": [
    "**21. Write a Python program to print alphabet pattern 'A'.**"
   ]
  },
  {
   "cell_type": "code",
   "execution_count": 28,
   "metadata": {},
   "outputs": [
    {
     "name": "stdout",
     "output_type": "stream",
     "text": [
      "  ***  \n",
      " *   * \n",
      " *   * \n",
      " ***** \n",
      " *   * \n",
      " *   * \n",
      " *   * \n",
      "\n"
     ]
    }
   ],
   "source": [
    "result_str=\"\";    \n",
    "for row in range(0,7):    \n",
    "    for column in range(0,7):     \n",
    "        if (((column == 1 or column == 5) and row != 0) or ((row == 0 or row == 3) and (column > 1 and column < 5))):    \n",
    "            result_str=result_str+\"*\"    \n",
    "        else:      \n",
    "            result_str=result_str+\" \"    \n",
    "    result_str=result_str+\"\\n\"    \n",
    "print(result_str)"
   ]
  },
  {
   "cell_type": "markdown",
   "metadata": {},
   "source": [
    "**22. Write a Python program to multiply two integers without using the * operator.**"
   ]
  },
  {
   "cell_type": "code",
   "execution_count": 29,
   "metadata": {},
   "outputs": [
    {
     "name": "stdout",
     "output_type": "stream",
     "text": [
      "15\n"
     ]
    }
   ],
   "source": [
    "def multiply(x, y):\n",
    "    if y < 0:\n",
    "        return -multiply(x, -y)\n",
    "    elif y == 0:\n",
    "        return 0\n",
    "    elif y == 1:\n",
    "        return x\n",
    "    else:\n",
    "        return x + multiply(x, y - 1)\n",
    "print(multiply(3, 5))"
   ]
  },
  {
   "cell_type": "markdown",
   "metadata": {},
   "source": [
    "**23. Write a Python program to flip a coin 1000 times and count heads and tails.**"
   ]
  },
  {
   "cell_type": "code",
   "execution_count": 30,
   "metadata": {},
   "outputs": [
    {
     "name": "stdout",
     "output_type": "stream",
     "text": [
      "Heads: 5025\n",
      "Tails: 4975\n"
     ]
    }
   ],
   "source": [
    "import random\n",
    "import itertools\n",
    "\n",
    "results = {\n",
    "    'heads': 0,\n",
    "    'tails': 0,\n",
    "}\n",
    "sides = list(results.keys())\n",
    "\n",
    "for i in range(10000):\n",
    "    results[random.choice(sides)] += 1\n",
    "print('Heads:', results['heads'])\n",
    "print('Tails:', results['tails'])"
   ]
  },
  {
   "cell_type": "markdown",
   "metadata": {},
   "source": [
    "**24. Write a Python program to find the next smallest palindrome of a specified number.**"
   ]
  },
  {
   "cell_type": "code",
   "execution_count": 31,
   "metadata": {},
   "outputs": [
    {
     "name": "stdout",
     "output_type": "stream",
     "text": [
      "101\n",
      "1331\n"
     ]
    }
   ],
   "source": [
    "import sys\n",
    "def Next_smallest_Palindrome(num):\n",
    "    numstr = str(num)\n",
    "    for i in range(num+1,sys.maxsize):\n",
    "        if str(i) == str(i)[::-1]:\n",
    "            return i\n",
    "print(Next_smallest_Palindrome(99))\n",
    "print(Next_smallest_Palindrome(1221))"
   ]
  },
  {
   "cell_type": "markdown",
   "metadata": {},
   "source": [
    "**25. Write a Python program to print alphabet pattern 'S'.**"
   ]
  },
  {
   "cell_type": "code",
   "execution_count": 32,
   "metadata": {},
   "outputs": [
    {
     "name": "stdout",
     "output_type": "stream",
     "text": [
      "*******\n",
      "*\n",
      "*\n",
      "*******\n",
      "      *\n",
      "      *\n",
      "*******\n"
     ]
    }
   ],
   "source": [
    "def print_s_pattern(n):\n",
    "    for i in range(n):\n",
    "        if i == 0 or i == n // 2 or i == n - 1:  # Top, middle, and bottom rows\n",
    "            print(\"*\" * n)\n",
    "        elif i < n // 2:  # Upper half\n",
    "            print(\"*\")\n",
    "        else:  # Lower half\n",
    "            print(\" \" * (n - 1) + \"*\")\n",
    "\n",
    "# Test\n",
    "print_s_pattern(7)"
   ]
  },
  {
   "cell_type": "markdown",
   "metadata": {},
   "source": [
    "**26. Write a Python program to print alphabet pattern 'R'.**"
   ]
  },
  {
   "cell_type": "code",
   "execution_count": 36,
   "metadata": {},
   "outputs": [
    {
     "name": "stdout",
     "output_type": "stream",
     "text": [
      "******\n",
      "*     *\n",
      "*     *\n",
      "******\n",
      "* *\n",
      "*  *\n",
      "*   *\n"
     ]
    }
   ],
   "source": [
    "def print_r_pattern(n):\n",
    "    for i in range(n):\n",
    "        if i == 0 or i == n // 2:\n",
    "            print(\"*\" * (n - 1))\n",
    "        elif i < n // 2:\n",
    "            print(\"*\" + \" \" * (n - 2) + \"*\")\n",
    "        else:\n",
    "            print(\"*\" + \" \" * (i - n // 2) + \"*\")\n",
    "\n",
    "# Test\n",
    "print_r_pattern(7)\n"
   ]
  },
  {
   "cell_type": "markdown",
   "metadata": {},
   "source": [
    "**27. Write a Python program to print alphabet pattern 'q'.**"
   ]
  },
  {
   "cell_type": "code",
   "execution_count": 46,
   "metadata": {},
   "outputs": [
    {
     "name": "stdout",
     "output_type": "stream",
     "text": [
      "*******\n",
      "*     *\n",
      "*     *\n",
      "*******\n",
      "      *\n",
      "      *\n",
      "      *\n"
     ]
    }
   ],
   "source": [
    "def print_pattern_p(n):\n",
    "    for i in range(n):\n",
    "        for j in range(n):\n",
    "            if i == 0 or i == n // 2 or (j == 0 and i < n // 2) or (i > 0 and j == n - 1 and i != n // 2):\n",
    "                print(\"*\", end=\"\")\n",
    "            else:\n",
    "                print(\" \", end=\"\")\n",
    "        print()\n",
    "\n",
    "# Test\n",
    "print_pattern_p(7)\n"
   ]
  },
  {
   "cell_type": "markdown",
   "metadata": {},
   "source": [
    "**28.Reverse Pattern of Digits from 10.**"
   ]
  },
  {
   "cell_type": "raw",
   "metadata": {},
   "source": [
    "1\n",
    "\n",
    "3 2\n",
    "\n",
    "6 5 4\n",
    "\n",
    "10 9 8 7"
   ]
  },
  {
   "cell_type": "code",
   "execution_count": 41,
   "metadata": {},
   "outputs": [
    {
     "name": "stdout",
     "output_type": "stream",
     "text": [
      "1 \n",
      "3 2 \n",
      "6 5 4 \n",
      "10 9 8 7 \n"
     ]
    }
   ],
   "source": [
    "start = 1\n",
    "stop = 2\n",
    "currentNumber = stop\n",
    "for row in range(2, 6):\n",
    "    for col in range(start, stop):\n",
    "        currentNumber -= 1\n",
    "        print(currentNumber, end=' ')\n",
    "    print(\"\")\n",
    "    start = stop\n",
    "    stop += row\n",
    "    currentNumber = stop"
   ]
  },
  {
   "cell_type": "markdown",
   "metadata": {},
   "source": [
    "**29. Unique Pyramid Pattern of Digits**"
   ]
  },
  {
   "cell_type": "raw",
   "metadata": {},
   "source": [
    "1 \n",
    "\n",
    "1 2 1 \n",
    "\n",
    "1 2 3 2 1 \n",
    "\n",
    "1 2 3 4 3 2 1 \n",
    "\n",
    "1 2 3 4 5 4 3 2 1"
   ]
  },
  {
   "cell_type": "code",
   "execution_count": 42,
   "metadata": {},
   "outputs": [
    {
     "name": "stdout",
     "output_type": "stream",
     "text": [
      "\n",
      "1 \n",
      "1 2 1 \n",
      "1 2 3 2 1 \n",
      "1 2 3 4 3 2 1 \n",
      "1 2 3 4 5 4 3 2 1 \n"
     ]
    }
   ],
   "source": [
    "rows = 6\n",
    "for i in range(1, rows + 1):\n",
    "    for j in range(1, i - 1):\n",
    "        print(j, end=\" \")\n",
    "    for j in range(i - 1, 0, -1):\n",
    "        print(j, end=\" \")\n",
    "    print()"
   ]
  },
  {
   "cell_type": "markdown",
   "metadata": {},
   "source": [
    "**30. Pyramid Pattern of Alternate Numbers**"
   ]
  },
  {
   "cell_type": "raw",
   "metadata": {},
   "source": [
    "1 \n",
    "\n",
    "3 3 \n",
    "\n",
    "5 5 5 \n",
    "\n",
    "7 7 7 7 \n",
    "\n",
    "9 9 9 9 9"
   ]
  },
  {
   "cell_type": "code",
   "execution_count": 43,
   "metadata": {},
   "outputs": [
    {
     "name": "stdout",
     "output_type": "stream",
     "text": [
      "1 \n",
      "3 3 \n",
      "5 5 5 \n",
      "7 7 7 7 \n",
      "9 9 9 9 9 \n"
     ]
    }
   ],
   "source": [
    "rows = 5\n",
    "i = 1\n",
    "while i <= rows:\n",
    "    j = 1\n",
    "    while j <= i:\n",
    "        print((i * 2 - 1), end=\" \")\n",
    "        j = j + 1\n",
    "    i = i + 1\n",
    "    print()"
   ]
  },
  {
   "cell_type": "markdown",
   "metadata": {},
   "source": [
    "**31. Counting Consonants in a Given Word**"
   ]
  },
  {
   "cell_type": "code",
   "execution_count": 47,
   "metadata": {},
   "outputs": [
    {
     "name": "stdout",
     "output_type": "stream",
     "text": [
      "8\n"
     ]
    }
   ],
   "source": [
    "vowel = ['a', 'e', 'i', 'o', 'u']\n",
    "word = \"programming\"\n",
    "count = 0\n",
    "for character in word:\n",
    "    if character not in vowel:\n",
    "        count += 1\n",
    "print(count)"
   ]
  },
  {
   "cell_type": "markdown",
   "metadata": {},
   "source": [
    "**32. Write a function to compute the factorial of a number using recursion.**"
   ]
  },
  {
   "cell_type": "code",
   "execution_count": 1,
   "metadata": {},
   "outputs": [
    {
     "name": "stdout",
     "output_type": "stream",
     "text": [
      "120\n"
     ]
    }
   ],
   "source": [
    "def factorial(n):\n",
    "    if n == 0:\n",
    "        return 1\n",
    "    return n * factorial(n-1)\n",
    "\n",
    "number = 5\n",
    "print(factorial(number)) "
   ]
  },
  {
   "cell_type": "markdown",
   "metadata": {},
   "source": [
    "**33. You are given a list of strings. Write a function to filter out all strings that are palindromes.**"
   ]
  },
  {
   "cell_type": "code",
   "execution_count": 2,
   "metadata": {},
   "outputs": [
    {
     "name": "stdout",
     "output_type": "stream",
     "text": [
      "['radar', 'level']\n"
     ]
    }
   ],
   "source": [
    "def is_palindrome(s):\n",
    "    s = ''.join(e for e in s if e.isalnum())  # Remove punctuation and spaces\n",
    "    return s.lower() == s.lower()[::-1]\n",
    "\n",
    "def filter_palindromes(strings):\n",
    "    return [s for s in strings if is_palindrome(s)]\n",
    "\n",
    "words = [\"radar\", \"python\", \"level\", \"world\"]\n",
    "print(filter_palindromes(words))"
   ]
  },
  {
   "cell_type": "markdown",
   "metadata": {},
   "source": [
    "**34. Given a string, write a function to check if it is an anagram of another string.**\n",
    "\n",
    "> An anagram is a word or phrase formed by rearranging the letters of a different word or phrase, typically using all the original letters exactly once."
   ]
  },
  {
   "cell_type": "code",
   "execution_count": 3,
   "metadata": {},
   "outputs": [
    {
     "name": "stdout",
     "output_type": "stream",
     "text": [
      "True\n"
     ]
    }
   ],
   "source": [
    "def are_anagrams(s1, s2):\n",
    "    return sorted(s1) == sorted(s2)\n",
    "\n",
    "str1 = \"listen\"\n",
    "str2 = \"silent\"\n",
    "print(are_anagrams(str1, str2)) "
   ]
  },
  {
   "cell_type": "markdown",
   "metadata": {},
   "source": [
    "**35.  Given two lists, write a function that returns the elements that are common to both lists.**"
   ]
  },
  {
   "cell_type": "code",
   "execution_count": 6,
   "metadata": {},
   "outputs": [
    {
     "name": "stdout",
     "output_type": "stream",
     "text": [
      "[4, 5]\n"
     ]
    }
   ],
   "source": [
    "def common_elements(list1, list2):\n",
    "    return list(set(list1) & set(list2))\n",
    "\n",
    "list1 = [1, 2, 3, 4, 5]\n",
    "list2 = [4, 5, 6, 7, 8]\n",
    "print(common_elements(list1, list2))"
   ]
  },
  {
   "cell_type": "markdown",
   "metadata": {},
   "source": [
    "**36. Write a Python function to merge two dictionaries. If both dictionaries have the same key, prefer the second dictionary's value.**"
   ]
  },
  {
   "cell_type": "code",
   "execution_count": 7,
   "metadata": {},
   "outputs": [
    {
     "name": "stdout",
     "output_type": "stream",
     "text": [
      "{'a': 1, 'b': 3, 'c': 4}\n"
     ]
    }
   ],
   "source": [
    "def merge_dicts(dict1, dict2):\n",
    "    merged = dict1.copy()\n",
    "    merged.update(dict2)\n",
    "    return merged\n",
    "\n",
    "dict1 = {'a': 1, 'b': 2}\n",
    "dict2 = {'b': 3, 'c': 4}\n",
    "print(merge_dicts(dict1, dict2))  # Output: {'a': 1, 'b': 3, 'c': 4}"
   ]
  },
  {
   "cell_type": "markdown",
   "metadata": {},
   "source": [
    "**37. Write a function that finds the most repeated character in a string.**"
   ]
  },
  {
   "cell_type": "code",
   "execution_count": 8,
   "metadata": {},
   "outputs": [
    {
     "name": "stdout",
     "output_type": "stream",
     "text": [
      "d\n"
     ]
    }
   ],
   "source": [
    "def most_repeated(s):\n",
    "    char_count = {}\n",
    "    for char in s:\n",
    "        if char in char_count:\n",
    "            char_count[char] += 1\n",
    "        else:\n",
    "            char_count[char] = 1\n",
    "    max_char = max(char_count, key=char_count.get)\n",
    "    return max_char\n",
    "\n",
    "string = \"aabbbcdddde\"\n",
    "print(most_repeated(string))  # Output: 'd'"
   ]
  },
  {
   "cell_type": "markdown",
   "metadata": {},
   "source": [
    "**38. Write a function that checks if a string contains all letters of the alphabet at least once.**"
   ]
  },
  {
   "cell_type": "code",
   "execution_count": 9,
   "metadata": {},
   "outputs": [
    {
     "name": "stdout",
     "output_type": "stream",
     "text": [
      "True\n"
     ]
    }
   ],
   "source": [
    "import string\n",
    "\n",
    "def contains_all_alphabets(s):\n",
    "    alphabet = set(string.ascii_lowercase)\n",
    "    return set(s.lower()) >= alphabet\n",
    "\n",
    "test_string = \"The quick brown fox jumps over the lazy dog\"\n",
    "print(contains_all_alphabets(test_string))  # Output: True"
   ]
  },
  {
   "cell_type": "markdown",
   "metadata": {},
   "source": [
    "**39. Given a list of numbers, write a function to compute the mean, median, and mode.**"
   ]
  },
  {
   "cell_type": "code",
   "execution_count": 10,
   "metadata": {},
   "outputs": [
    {
     "name": "stdout",
     "output_type": "stream",
     "text": [
      "{'mean': 3.888888888888889, 'median': 4, 'mode': 5}\n"
     ]
    }
   ],
   "source": [
    "from statistics import mean, median, mode\n",
    "\n",
    "def compute_stats(numbers):\n",
    "    return {\n",
    "        \"mean\": mean(numbers),\n",
    "        \"median\": median(numbers),\n",
    "        \"mode\": mode(numbers)\n",
    "    }\n",
    "\n",
    "numbers = [1, 2, 3, 4, 4, 5, 5, 5, 6]\n",
    "print(compute_stats(numbers))  # Output: {'mean': 3.89, 'median': 4, 'mode': 5}"
   ]
  },
  {
   "cell_type": "markdown",
   "metadata": {},
   "source": [
    "**40. Given a string, write a function that returns the first non-repeated character.**"
   ]
  },
  {
   "cell_type": "code",
   "execution_count": 11,
   "metadata": {},
   "outputs": [
    {
     "name": "stdout",
     "output_type": "stream",
     "text": [
      "w\n"
     ]
    }
   ],
   "source": [
    "def first_non_repeated(s):\n",
    "    char_count = {}\n",
    "    for char in s:\n",
    "        if char in char_count:\n",
    "            char_count[char] += 1\n",
    "        else:\n",
    "            char_count[char] = 1\n",
    "    for char in s:\n",
    "        if char_count[char] == 1:\n",
    "            return char\n",
    "    return None\n",
    "\n",
    "string = \"swiss\"\n",
    "print(first_non_repeated(string))  # Output: 'w'"
   ]
  },
  {
   "cell_type": "markdown",
   "metadata": {},
   "source": [
    "**41. Write a function to check if two strings are a rotation of each other (e.g., \"abcde\" and \"cdeab\" are rotations of each other).**"
   ]
  },
  {
   "cell_type": "code",
   "execution_count": 12,
   "metadata": {},
   "outputs": [
    {
     "name": "stdout",
     "output_type": "stream",
     "text": [
      "True\n"
     ]
    }
   ],
   "source": [
    "def are_rotations(str1, str2):\n",
    "    if len(str1) != len(str2):\n",
    "        return False\n",
    "    return str1 in str2 + str2\n",
    "\n",
    "s1 = \"abcde\"\n",
    "s2 = \"cdeab\"\n",
    "print(are_rotations(s1, s2))  # Output: True"
   ]
  },
  {
   "cell_type": "markdown",
   "metadata": {},
   "source": [
    "**42. Write a function that returns the longest consecutive subsequence in a list of numbers.**"
   ]
  },
  {
   "cell_type": "code",
   "execution_count": 13,
   "metadata": {},
   "outputs": [
    {
     "name": "stdout",
     "output_type": "stream",
     "text": [
      "[5, 6, 7, 8]\n"
     ]
    }
   ],
   "source": [
    "def longest_consecutive_subsequence(nums):\n",
    "    if not nums:\n",
    "        return []\n",
    "    nums = sorted(set(nums))\n",
    "    longest_streak = []\n",
    "    current_streak = [nums[0]]\n",
    "\n",
    "    for i in range(1, len(nums)):\n",
    "        if nums[i] - nums[i - 1] == 1:\n",
    "            current_streak.append(nums[i])\n",
    "        else:\n",
    "            if len(current_streak) > len(longest_streak):\n",
    "                longest_streak = current_streak\n",
    "            current_streak = [nums[i]]\n",
    "\n",
    "    return longest_streak if len(longest_streak) > len(current_streak) else current_streak\n",
    "\n",
    "numbers = [1, 2, 3, 5, 6, 7, 8, 10]\n",
    "print(longest_consecutive_subsequence(numbers))  # Output: [5, 6, 7, 8]"
   ]
  },
  {
   "cell_type": "markdown",
   "metadata": {},
   "source": [
    "**43. Given a list of integers, write a function to move all zeros to the end of the list while maintaining the order of the other elements.**"
   ]
  },
  {
   "cell_type": "code",
   "execution_count": 14,
   "metadata": {},
   "outputs": [
    {
     "name": "stdout",
     "output_type": "stream",
     "text": [
      "[1, 2, 4, 5, 6, 0, 0, 0]\n"
     ]
    }
   ],
   "source": [
    "def move_zeros(nums):\n",
    "    count = nums.count(0)\n",
    "    nums = [num for num in nums if num != 0]\n",
    "    nums.extend([0] * count)\n",
    "    return nums\n",
    "\n",
    "numbers = [1, 2, 0, 4, 0, 5, 6, 0]\n",
    "print(move_zeros(numbers))  # Output: [1, 2, 4, 5, 6, 0, 0, 0]"
   ]
  },
  {
   "cell_type": "markdown",
   "metadata": {},
   "source": [
    "**44. Write a function that returns the intersection of two sorted arrays. Assume each array does not have duplicates.**"
   ]
  },
  {
   "cell_type": "code",
   "execution_count": 15,
   "metadata": {},
   "outputs": [
    {
     "name": "stdout",
     "output_type": "stream",
     "text": [
      "[2, 5]\n"
     ]
    }
   ],
   "source": [
    "def intersection_of_sorted_arrays(nums1, nums2):\n",
    "    i, j = 0, 0\n",
    "    intersection = []\n",
    "    while i < len(nums1) and j < len(nums2):\n",
    "        if nums1[i] == nums2[j]:\n",
    "            intersection.append(nums1[i])\n",
    "            i += 1\n",
    "            j += 1\n",
    "        elif nums1[i] < nums2[j]:\n",
    "            i += 1\n",
    "        else:\n",
    "            j += 1\n",
    "    return intersection\n",
    "\n",
    "arr1 = [1, 2, 4, 5, 6]\n",
    "arr2 = [2, 3, 5, 7]\n",
    "print(intersection_of_sorted_arrays(arr1, arr2))  # Output: [2, 5]"
   ]
  },
  {
   "cell_type": "markdown",
   "metadata": {},
   "source": [
    "**45. Write a function that returns the nth number in the Fibonacci sequence using recursion.**"
   ]
  },
  {
   "cell_type": "code",
   "execution_count": 16,
   "metadata": {},
   "outputs": [
    {
     "name": "stdout",
     "output_type": "stream",
     "text": [
      "13\n"
     ]
    }
   ],
   "source": [
    "def fibonacci_recursive(n):\n",
    "    if n <= 1:\n",
    "        return n\n",
    "    else:\n",
    "        return fibonacci_recursive(n-1) + fibonacci_recursive(n-2)\n",
    "\n",
    "print(fibonacci_recursive(7))  # Output: 13"
   ]
  },
  {
   "cell_type": "markdown",
   "metadata": {},
   "source": [
    "**46. Write a function to flatten a nested list of integers. Assume each element is either an integer or a list.**"
   ]
  },
  {
   "cell_type": "code",
   "execution_count": 17,
   "metadata": {},
   "outputs": [
    {
     "name": "stdout",
     "output_type": "stream",
     "text": [
      "[1, 2, 3, 4, 5, 6, 7, 8, 9]\n"
     ]
    }
   ],
   "source": [
    "def flatten(nested_list):\n",
    "    flat_list = []\n",
    "    for item in nested_list:\n",
    "        if isinstance(item, list):\n",
    "            flat_list.extend(flatten(item))\n",
    "        else:\n",
    "            flat_list.append(item)\n",
    "    return flat_list\n",
    "\n",
    "nested = [1, [2, 3, [4, 5], 6], 7, [8, 9]]\n",
    "print(flatten(nested))  # Output: [1, 2, 3, 4, 5, 6, 7, 8, 9]"
   ]
  },
  {
   "cell_type": "markdown",
   "metadata": {},
   "source": [
    "**47. Write a function to find the two numbers in a list that sum up to a specific target.**"
   ]
  },
  {
   "cell_type": "code",
   "execution_count": 18,
   "metadata": {},
   "outputs": [
    {
     "name": "stdout",
     "output_type": "stream",
     "text": [
      "[0, 1]\n"
     ]
    }
   ],
   "source": [
    "def two_sum(nums, target):\n",
    "    num_dict = {}\n",
    "    for i, num in enumerate(nums):\n",
    "        complement = target - num\n",
    "        if complement in num_dict:\n",
    "            return [num_dict[complement], i]\n",
    "        num_dict[num] = i\n",
    "    return None\n",
    "\n",
    "numbers = [2, 7, 11, 15]\n",
    "target_value = 9\n",
    "print(two_sum(numbers, target_value))  # Output: [0, 1]"
   ]
  },
  {
   "cell_type": "markdown",
   "metadata": {},
   "source": [
    "**48. Write a function that reverses a string, but maintains the position of all non-alphabetic characters.**"
   ]
  },
  {
   "cell_type": "code",
   "execution_count": 19,
   "metadata": {},
   "outputs": [
    {
     "name": "stdout",
     "output_type": "stream",
     "text": [
      "hg@fe#dc$ba\n"
     ]
    }
   ],
   "source": [
    "def reverse_alphabet_only(s):\n",
    "    s = list(s)\n",
    "    i, j = 0, len(s) - 1\n",
    "    while i < j:\n",
    "        if not s[i].isalpha():\n",
    "            i += 1\n",
    "        elif not s[j].isalpha():\n",
    "            j -= 1\n",
    "        else:\n",
    "            s[i], s[j] = s[j], s[i]\n",
    "            i += 1\n",
    "            j -= 1\n",
    "    return ''.join(s)\n",
    "\n",
    "string = \"ab@cd#ef$gh\"\n",
    "print(reverse_alphabet_only(string))  # Output: \"hg@fe#dc$ba\""
   ]
  },
  {
   "cell_type": "markdown",
   "metadata": {},
   "source": [
    "**49. Implement a method to perform basic string compression using the counts of repeated characters. For example, the string \"aabcccccaaa\" would become \"a2b1c5a3\".**"
   ]
  },
  {
   "cell_type": "code",
   "execution_count": 21,
   "metadata": {},
   "outputs": [
    {
     "name": "stdout",
     "output_type": "stream",
     "text": [
      "a2b1c5a3\n"
     ]
    }
   ],
   "source": [
    "def compress_string(s):\n",
    "    compressed = []\n",
    "    count = 1\n",
    "\n",
    "    # Iterate through the string, starting from the second character\n",
    "    for i in range(1, len(s)):\n",
    "        # If current character is same as previous one, increment count\n",
    "        if s[i] == s[i - 1]:\n",
    "            count += 1\n",
    "        else:\n",
    "            # If current character is different, append previous character and count to the compressed list\n",
    "            compressed.append(s[i - 1] + str(count))\n",
    "            count = 1\n",
    "\n",
    "    # Append the last character and its count\n",
    "    compressed.append(s[-1] + str(count))\n",
    "\n",
    "    # Join the compressed list and return the result\n",
    "    compressed_string = ''.join(compressed)\n",
    "\n",
    "    # Return the compressed string only if it's shorter than the original\n",
    "    return compressed_string if len(compressed_string) < len(s) else s\n",
    "\n",
    "# Test the function\n",
    "print(compress_string(\"aabcccccaaa\"))  # Output: \"a2b1c5a3\""
   ]
  },
  {
   "cell_type": "markdown",
   "metadata": {},
   "source": [
    "**50. Given an array containing n distinct numbers taken from 0, 1, 2, ..., n, find the one that is missing from the array.**"
   ]
  },
  {
   "cell_type": "code",
   "execution_count": 22,
   "metadata": {},
   "outputs": [
    {
     "name": "stdout",
     "output_type": "stream",
     "text": [
      "Missing number: 5\n"
     ]
    }
   ],
   "source": [
    "def find_missing_number(nums):\n",
    "    n = len(nums)\n",
    "    total_sum = n * (n + 1) // 2  # Sum of all numbers from 0 to n\n",
    "    array_sum = sum(nums)  # Sum of the given array\n",
    "    return total_sum - array_sum\n",
    "\n",
    "# Test the function\n",
    "nums = [3, 0, 1, 4, 6, 2]\n",
    "print(\"Missing number:\", find_missing_number(nums))  # Output: 5"
   ]
  },
  {
   "cell_type": "markdown",
   "metadata": {},
   "source": [
    "> **Congratulations on completing 50 coding questions, everyone! 🎉 Each question conquered reflects your growth and determination. Keep pushing boundaries, embracing challenges, and never lose sight of your passion for coding. Your potential is limitless!**"
   ]
  },
  {
   "cell_type": "markdown",
   "metadata": {},
   "source": [
    "# Happy Learning!"
   ]
  }
 ],
 "metadata": {
  "kernelspec": {
   "display_name": "Python 3",
   "language": "python",
   "name": "python3"
  },
  "language_info": {
   "codemirror_mode": {
    "name": "ipython",
    "version": 3
   },
   "file_extension": ".py",
   "mimetype": "text/x-python",
   "name": "python",
   "nbconvert_exporter": "python",
   "pygments_lexer": "ipython3",
   "version": "3.6.9"
  }
 },
 "nbformat": 4,
 "nbformat_minor": 4
}
